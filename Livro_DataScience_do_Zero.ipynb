{
 "cells": [
  {
   "cell_type": "markdown",
   "metadata": {
    "colab_type": "text",
    "id": "view-in-github"
   },
   "source": [
    "<a href=\"https://colab.research.google.com/github/AugustoPrestes/Aulas_Data_Science/blob/main/anota%C3%A7%C3%B5es_do_DataScience_do_Zero.ipynb\" target=\"_parent\"><img src=\"https://colab.research.google.com/assets/colab-badge.svg\" alt=\"Open In Colab\"/></a>"
   ]
  },
  {
   "cell_type": "markdown",
   "metadata": {
    "id": "OxwDurvvfyxn"
   },
   "source": [
    "# Data Science do Zero \n",
    "### Anotações"
   ]
  },
  {
   "cell_type": "markdown",
   "metadata": {
    "id": "-sopLroElEaD"
   },
   "source": [
    "### Encontrando Conectores-Chave"
   ]
  },
  {
   "cell_type": "code",
   "execution_count": 116,
   "metadata": {
    "colab": {
     "base_uri": "https://localhost:8080/"
    },
    "id": "RHU4WtCmfxvM",
    "outputId": "146eec0f-4732-4ce3-ad44-c06e86d1f9a4"
   },
   "outputs": [
    {
     "name": "stdout",
     "output_type": "stream",
     "text": [
      "ok\n"
     ]
    }
   ],
   "source": [
    "#@title Texto de título padrão\n",
    "# Recebendo os dados dos usuarios\n",
    "users = [\n",
    "{ \"id\": 0, \"name\": \"Hero\"},\n",
    "{ \"id\": 1, \"name\": \"Dunn\"},\n",
    "{ \"id\": 2, \"name\": \"Sue\"},\n",
    "{ \"id\": 3, \"name\": \"Chi\"},\n",
    "{ \"id\": 4, \"name\": \"Thor\"},\n",
    "{ \"id\": 5, \"name\": \"Clive\"},\n",
    "{ \"id\": 6, \"name\": \"Hicks\"},\n",
    "{ \"id\": 7, \"name\": \"Devin\"},\n",
    "{ \"id\": 8, \"name\": \"Kate\"},\n",
    "{ \"id\": 9, \"name\": \"Klein\"}]\n",
    "\n",
    "# Recebendo as conexões de amizades\n",
    "friendship_pairs = [(0, 1), (0, 2), (1, 2), (1, 3), (2, 3), (3, 4),(4, 5), (5, 6), (5, 7), (6, 8), (7, 8), (8, 9)]\n",
    "\n",
    "# Recebendo os interesses dos usuarios\n",
    "interests = [\n",
    "(0, \"Hadoop\"), (0, \"Big Data\"), (0, \"HBase\"), (0, \"Java\"), \n",
    "(0, \"Spark\"), (0, \"Storm\"), (0, \"Cassandra\"), (1, \"NoSQL\"), \n",
    "(1, \"MongoDB\"), (1, \"Cassandra\"), (1, \"HBase\"), (1, \"Postgres\"), \n",
    "(2, \"Python\"), (2, \"scikit-learn\"), (2, \"scipy\"), (2, \"numpy\"), \n",
    "(2, \"statsmodels\"), (2, \"pandas\"), (3, \"R\"), (3, \"Python\"),\n",
    "(3, \"statistics\"), (3, \"regression\"), (3, \"probability\"), (4, \"machine learning\"), \n",
    "(4, \"regression\"), (4, \"decision trees\"), (4, \"libsvm\"), (5, \"Python\"), \n",
    "(5, \"R\"), (5, \"Java\"), (5, \"C++\"), (5, \"Haskell\"), \n",
    "(5, \"programming languages\"), (6, \"statistics\"), (6, \"probability\"), (6, \"mathematics\"), \n",
    "(6, \"theory\"), (7, \"machine learning\"), (7, \"scikit-learn\"), (7, \"Mahout\"),\n",
    "(7, \"neural networks\"), (8, \"neural networks\"), (8, \"deep learning\"), (8, \"Big Data\"), \n",
    "(8, \"artificial intelligence\"), (9, \"Hadoop\"), (9, \"Java\"), (9, \"MapReduce\"), (9, \"Big Data\")\n",
    "]\n",
    "\n",
    "# Recebendo a informacao de salario e de experiencia dos usuarios de forma anonima\n",
    "salaries_and_tenures = [(83000, 8.7), (88000, 8.1), (48000, 0.7), (76000, 6), (69000, 6.5), (76000, 7.5), (60000, 2.5), (83000, 10), (48000, 1.9), (63000, 4.2)]\n",
    "\n",
    "# Recebendo o numero de amigos\n",
    "num_friends = [100.0,49,41,40,25,21,21,19,19,18,18,16,15,15,15,15,14,14,13,13,13,13,12,12,11,10,10,10,10,10,10,10,10,10,10,10,10,10,10,10,9,9,9,9,9,9,9,9,9,9,9,9,9,9,9,9,9,9,8,8,8,8,8,8,8,8,8,8,8,8,8,7,7,7,7,7,7,7,7,7,7,7,7,7,7,7,6,6,6,6,6,6,6,6,6,6,6,6,6,6,6,6,6,6,6,6,6,6,5,5,5,5,5,5,5,5,5,5,5,5,5,5,5,5,5,4,4,4,4,4,4,4,4,4,4,4,4,4,4,4,4,4,4,4,4,3,3,3,3,3,3,3,3,3,3,3,3,3,3,3,3,3,3,3,3,2,2,2,2,2,2,2,2,2,2,2,2,2,2,2,2,2,1,1,1,1,1,1,1,1,1,1,1,1,1,1,1,1,1,1,1,1,1,1]\n",
    "\n",
    "daily_minutes = [1,68.77,51.25,52.08,38.36,44.54,57.13,51.4,41.42,31.22,34.76,54.01,38.79,47.59,49.1,27.66,41.03,36.73,48.65,28.12,46.62,35.57,32.98,35,26.07,23.77,39.73,40.57,31.65,31.21,36.32,20.45,21.93,26.02,27.34,23.49,46.94,30.5,33.8,24.23,21.4,27.94,32.24,40.57,25.07,19.42,22.39,18.42,46.96,23.72,26.41,26.97,36.76,40.32,35.02,29.47,30.2,31,38.11,38.18,36.31,21.03,30.86,36.07,28.66,29.08,37.28,15.28,24.17,22.31,30.17,25.53,19.85,35.37,44.6,17.23,13.47,26.33,35.02,32.09,24.81,19.33,28.77,24.26,31.98,25.73,24.86,16.28,34.51,15.23,39.72,40.8,26.06,35.76,34.76,16.13,44.04,18.03,19.65,32.62,35.59,39.43,14.18,35.24,40.13,41.82,35.45,36.07,43.67,24.61,20.9,21.9,18.79,27.61,27.21,26.61,29.77,20.59,27.53,13.82,33.2,25,33.1,36.65,18.63,14.87,22.2,36.81,25.53,24.62,26.25,18.21,28.08,19.42,29.79,32.8,35.99,28.32,27.79,35.88,29.06,36.28,14.1,36.63,37.49,26.9,18.58,38.48,24.48,18.95,33.55,14.24,29.04,32.51,25.63,22.22,19,32.73,15.16,13.9,27.2,32.01,29.27,33,13.74,20.42,27.32,18.23,35.35,28.48,9.08,24.62,20.12,35.26,19.92,31.02,16.49,12.16,30.7,31.22,34.65,13.13,27.51,33.2,31.57,14.1,33.42,17.44,10.12,24.42,9.82,23.39,30.93,15.03,21.67,31.09,33.29,22.61,26.89,23.48,8.38,27.81,32.35,23.84]\n",
    "\n",
    "daily_hours = [dm / 60 for dm in daily_minutes]\n",
    "\n",
    "print(f\"ok\")"
   ]
  },
  {
   "cell_type": "code",
   "execution_count": 2,
   "metadata": {
    "colab": {
     "base_uri": "https://localhost:8080/"
    },
    "id": "pOb5ozlxljJ3",
    "outputId": "9aa73cb2-26f0-477d-ac12-86b2c5de167e",
    "scrolled": true
   },
   "outputs": [
    {
     "name": "stdout",
     "output_type": "stream",
     "text": [
      "{0: [], 1: [], 2: [], 3: [], 4: [], 5: [], 6: [], 7: [], 8: [], 9: []}\n"
     ]
    }
   ],
   "source": [
    "# Criando um dict com dict compreenshion\n",
    "friendships = {user['id']: [] for user in users}\n",
    "\n",
    "print(friendships)"
   ]
  },
  {
   "cell_type": "code",
   "execution_count": 3,
   "metadata": {
    "colab": {
     "base_uri": "https://localhost:8080/"
    },
    "id": "S60TyBGXnp6P",
    "outputId": "9a373f18-906f-4a8b-c38e-f61659abbd14"
   },
   "outputs": [
    {
     "name": "stdout",
     "output_type": "stream",
     "text": [
      "{0: [1, 2], 1: [0, 2, 3], 2: [0, 1, 3], 3: [1, 2, 4], 4: [3, 5], 5: [4, 6, 7], 6: [5, 8], 7: [5, 8], 8: [6, 7, 9], 9: [8]}\n"
     ]
    }
   ],
   "source": [
    "# Identificando os pares dos amigos e unindo conforme a juncao da lista friendship_pairs\n",
    "for i, j in friendship_pairs:\n",
    "    friendships[i].append(j) # Adicionando o j como amigo do i\n",
    "    friendships[j].append(i) # Adicionando o i como amigo do j\n",
    "\n",
    "print(friendships)"
   ]
  },
  {
   "cell_type": "code",
   "execution_count": 4,
   "metadata": {
    "colab": {
     "base_uri": "https://localhost:8080/"
    },
    "id": "TIj1WgCxoliP",
    "outputId": "4b6c8922-db70-48b2-b104-5d0ee46feab1"
   },
   "outputs": [
    {
     "data": {
      "text/plain": [
       "2.4"
      ]
     },
     "execution_count": 4,
     "metadata": {},
     "output_type": "execute_result"
    }
   ],
   "source": [
    "# PRIMEIRA PERGUNTA 1- QUAL O NUMERO MEDIO DE AMIGOS\n",
    "\n",
    "# Primeiro precisamos saber o numero total de conexoes\n",
    "def number_friends(user):\n",
    "    \"\"\" Verificando quantos frinds cada user possui \"\"\"\n",
    "    user_id = user['id']\n",
    "    friend_ids = friendships[user_id]\n",
    "    return len(friend_ids)\n",
    "\n",
    "# Somando todas as conexoes \n",
    "total_connections = sum(number_friends(user) for user in users) # total_connection == 24\n",
    "\n",
    "# Agora para saber a media de conexoes vamos dividir pelo numero de users \n",
    "num_users = len(users)\n",
    "avg_connections = total_connections / num_users\n",
    "\n",
    "avg_connections"
   ]
  },
  {
   "cell_type": "code",
   "execution_count": 5,
   "metadata": {
    "colab": {
     "base_uri": "https://localhost:8080/"
    },
    "id": "u8Ej6dLhrUeJ",
    "outputId": "cc11777b-24e9-4eaf-a0a9-0076c69791ea"
   },
   "outputs": [
    {
     "data": {
      "text/plain": [
       "[(1, 3),\n",
       " (2, 3),\n",
       " (3, 3),\n",
       " (5, 3),\n",
       " (8, 3),\n",
       " (0, 2),\n",
       " (4, 2),\n",
       " (6, 2),\n",
       " (7, 2),\n",
       " (9, 1)]"
      ]
     },
     "execution_count": 5,
     "metadata": {},
     "output_type": "execute_result"
    }
   ],
   "source": [
    "#   SEGUNDA PERGUNTA 2- COMO ORDERNAR AS PESSOAS MAIS CONECTADAS\n",
    "\n",
    "# Passando a quantidade de conexoes de cada user\n",
    "num_friends_by_id = [(user['id'], number_friends(user)) for user in users]\n",
    "\n",
    "# Classificando a lista do maior para o menor, utilizando a funcao lambda\n",
    "num_friends_by_id.sort(key=lambda id_and_friends: id_and_friends[1], reverse=True)\n",
    "\n",
    "num_friends_by_id # Cada par da dupla e (user_id, num_friends)"
   ]
  },
  {
   "cell_type": "code",
   "execution_count": 6,
   "metadata": {
    "colab": {
     "base_uri": "https://localhost:8080/"
    },
    "id": "aZ39KLUXvXv-",
    "outputId": "aa300d67-efed-4d91-af9c-3a2482c2ce7c"
   },
   "outputs": [
    {
     "data": {
      "text/plain": [
       "[0, 2, 3, 0, 1, 3]"
      ]
     },
     "execution_count": 6,
     "metadata": {},
     "output_type": "execute_result"
    }
   ],
   "source": [
    "#   TERCEIRA PERGUNTA 3- COMO ENCOTRAR AMIGOS DE AMIGOS\n",
    "\n",
    "# Funcao para iterar os amigos e os amigos desses amigos\n",
    "def foaf_ids_bad(user):\n",
    "    \"\"\"foaf significa \"friend of friend\" ou amigo de amigo\"\"\"\n",
    "    return [foaf_id for friend_id in friendships[user[\"id\"]] for foaf_id in friendships[friend_id]]\n",
    "\n",
    "# VErificando o FOAF do user id[0]\n",
    "foaf_ids_bad(users[0])"
   ]
  },
  {
   "cell_type": "code",
   "execution_count": 7,
   "metadata": {
    "colab": {
     "base_uri": "https://localhost:8080/"
    },
    "id": "hQh1UKuZyH9J",
    "outputId": "6ac10763-d988-4b65-9c4c-ff539ce065fe"
   },
   "outputs": [
    {
     "data": {
      "text/plain": [
       "Counter({3: 2})"
      ]
     },
     "execution_count": 7,
     "metadata": {},
     "output_type": "execute_result"
    }
   ],
   "source": [
    "#   QUARTA PERGUNTA 4- COMO ENCOTRAR AMIGOS DE AMIGOS SEM RETORNAR O AMIGO CONHECIDO\n",
    "\n",
    "from collections import Counter\n",
    "\n",
    "# Funcao que mostra a quantidade de amigos em comum com outro que tem amigos em comum\n",
    "def friends_of_friends(user):\n",
    "    user_id = user['id']\n",
    "    return Counter(\n",
    "        foaf_id for friend_id in friendships[user_id] # Para cada amigo meu\n",
    "        for foaf_id in friendships[friend_id] # Encontre os amigos deles\n",
    "            if foaf_id != user_id # Que nao seja eu\n",
    "            and foaf_id not in friendships[user_id] # E que nao sejam meus amigos\n",
    "    )\n",
    "\n",
    "friends_of_friends(users[0])"
   ]
  },
  {
   "cell_type": "code",
   "execution_count": 8,
   "metadata": {
    "colab": {
     "base_uri": "https://localhost:8080/"
    },
    "id": "WrJJXUlvbx6G",
    "outputId": "66c4c356-2b5a-40a3-dda0-a684a72d2f47"
   },
   "outputs": [
    {
     "data": {
      "text/plain": [
       "[]"
      ]
     },
     "execution_count": 8,
     "metadata": {},
     "output_type": "execute_result"
    }
   ],
   "source": [
    "#   QUINTA PERGUNTA 5- COMO CONECTAR AS PESSOAS PELOS INTERESSES EM COMUM\n",
    "\n",
    "# Encontrando usuarios com os interesses parecido, por pesquisa individual\n",
    "def data_scientists_who_like(target_interest):\n",
    "    \"\"\" Encontrando os ids dos usuario com o mesmo interesse \"\"\"\n",
    "    return [user_id\n",
    "            for user_id, user_interest in interests\n",
    "                if user_interest == target_interest]\n",
    "\n",
    "\n",
    "data_scientists_who_like(users[9])\n"
   ]
  },
  {
   "cell_type": "code",
   "execution_count": 9,
   "metadata": {
    "id": "fnYoYIuqeVfu"
   },
   "outputs": [
    {
     "data": {
      "text/plain": [
       "defaultdict(list,\n",
       "            {'Hadoop': [0, 9],\n",
       "             'Big Data': [0, 8, 9],\n",
       "             'HBase': [0, 1],\n",
       "             'Java': [0, 5, 9],\n",
       "             'Spark': [0],\n",
       "             'Storm': [0],\n",
       "             'Cassandra': [0, 1],\n",
       "             'NoSQL': [1],\n",
       "             'MongoDB': [1],\n",
       "             'Postgres': [1],\n",
       "             'Python': [2, 3, 5],\n",
       "             'scikit-learn': [2, 7],\n",
       "             'scipy': [2],\n",
       "             'numpy': [2],\n",
       "             'statsmodels': [2],\n",
       "             'pandas': [2],\n",
       "             'R': [3, 5],\n",
       "             'statistics': [3, 6],\n",
       "             'regression': [3, 4],\n",
       "             'probability': [3, 6],\n",
       "             'machine learning': [4, 7],\n",
       "             'decision trees': [4],\n",
       "             'libsvm': [4],\n",
       "             'C++': [5],\n",
       "             'Haskell': [5],\n",
       "             'programming languages': [5],\n",
       "             'mathematics': [6],\n",
       "             'theory': [6],\n",
       "             'Mahout': [7],\n",
       "             'neural networks': [7, 8],\n",
       "             'deep learning': [8],\n",
       "             'artificial intelligence': [8],\n",
       "             'MapReduce': [9]})"
      ]
     },
     "execution_count": 9,
     "metadata": {},
     "output_type": "execute_result"
    }
   ],
   "source": [
    "# Encontrando usuarios com o mesmo interesse e salvando em uma dict\n",
    "\n",
    "# Construindo um indice de interesses para os usuarios\n",
    "from collections import defaultdict\n",
    "\n",
    "# As chaves serao interesses e os valores uma lista de user_id com o interesse em comum\n",
    "user_ids_by_interest = defaultdict(list)\n",
    "\n",
    "for user_id, interest in interests:\n",
    "    user_ids_by_interest[interest].append(user_id)\n",
    "\n",
    "user_ids_by_interest"
   ]
  },
  {
   "cell_type": "code",
   "execution_count": 10,
   "metadata": {
    "id": "QnuJeEHzfMSn"
   },
   "outputs": [
    {
     "data": {
      "text/plain": [
       "defaultdict(list,\n",
       "            {0: ['Hadoop',\n",
       "              'Big Data',\n",
       "              'HBase',\n",
       "              'Java',\n",
       "              'Spark',\n",
       "              'Storm',\n",
       "              'Cassandra'],\n",
       "             1: ['NoSQL', 'MongoDB', 'Cassandra', 'HBase', 'Postgres'],\n",
       "             2: ['Python',\n",
       "              'scikit-learn',\n",
       "              'scipy',\n",
       "              'numpy',\n",
       "              'statsmodels',\n",
       "              'pandas'],\n",
       "             3: ['R', 'Python', 'statistics', 'regression', 'probability'],\n",
       "             4: ['machine learning', 'regression', 'decision trees', 'libsvm'],\n",
       "             5: ['Python',\n",
       "              'R',\n",
       "              'Java',\n",
       "              'C++',\n",
       "              'Haskell',\n",
       "              'programming languages'],\n",
       "             6: ['statistics', 'probability', 'mathematics', 'theory'],\n",
       "             7: ['machine learning',\n",
       "              'scikit-learn',\n",
       "              'Mahout',\n",
       "              'neural networks'],\n",
       "             8: ['neural networks',\n",
       "              'deep learning',\n",
       "              'Big Data',\n",
       "              'artificial intelligence'],\n",
       "             9: ['Hadoop', 'Java', 'MapReduce', 'Big Data']})"
      ]
     },
     "execution_count": 10,
     "metadata": {},
     "output_type": "execute_result"
    }
   ],
   "source": [
    "# As chaves serao os user_ids e os valores uma lista de interesses do usuario\n",
    "interests_by_user_id = defaultdict(list)\n",
    "\n",
    "for user_id, interest in interests:\n",
    "    interests_by_user_id[user_id].append(interest)\n",
    "\n",
    "interests_by_user_id"
   ]
  },
  {
   "cell_type": "code",
   "execution_count": 11,
   "metadata": {
    "colab": {
     "base_uri": "https://localhost:8080/"
    },
    "id": "U6gNxdA-gs3A",
    "outputId": "1cbf064c-6320-4110-ae4b-d57039eb5fad"
   },
   "outputs": [
    {
     "data": {
      "text/plain": [
       "Counter({9: 3, 8: 1, 1: 2, 5: 1})"
      ]
     },
     "execution_count": 11,
     "metadata": {},
     "output_type": "execute_result"
    }
   ],
   "source": [
    "# Iterando os interesses e contando cada aparicao dos usuarios, com o mesmo interesse\n",
    "def most_commu_interests_with(user):\n",
    "    return Counter(\n",
    "    interested_user_id\n",
    "    for interest in interests_by_user_id[user['id']]\n",
    "    for interested_user_id in user_ids_by_interest[interest]\n",
    "    if interested_user_id != user['id']\n",
    "    )\n",
    "\n",
    "most_commu_interests_with(users[0])"
   ]
  },
  {
   "cell_type": "code",
   "execution_count": 12,
   "metadata": {
    "colab": {
     "base_uri": "https://localhost:8080/"
    },
    "id": "TN8XqHJkiwD3",
    "outputId": "3a8ea32b-bf7d-4ac3-90f3-e8cfc5fa8e53"
   },
   "outputs": [
    {
     "data": {
      "text/plain": [
       "{8.7: 83000.0,\n",
       " 8.1: 88000.0,\n",
       " 0.7: 48000.0,\n",
       " 6: 76000.0,\n",
       " 6.5: 69000.0,\n",
       " 7.5: 76000.0,\n",
       " 2.5: 60000.0,\n",
       " 10: 83000.0,\n",
       " 1.9: 48000.0,\n",
       " 4.2: 63000.0}"
      ]
     },
     "execution_count": 12,
     "metadata": {},
     "output_type": "execute_result"
    }
   ],
   "source": [
    "# Analisando a media salarial por anos deexperiencias\n",
    "salary_by_tenure = defaultdict(list)\n",
    "\n",
    "# Construindo o dict com os anos como chave, os valores as listas de salarios por anos de experiencias\n",
    "for salary, tenure in salaries_and_tenures:\n",
    "    salary_by_tenure[tenure].append(salary)\n",
    "\n",
    "# Dict com os anos como chave, e cada valor e o salario medio associado ao tempo de experiencia\n",
    "avg_salary_by_tenure = {tenure: sum(salaries) / len(salaries) \n",
    "                        for tenure, salaries in salary_by_tenure.items()}\n",
    "\n",
    "avg_salary_by_tenure"
   ]
  },
  {
   "cell_type": "code",
   "execution_count": 13,
   "metadata": {
    "colab": {
     "base_uri": "https://localhost:8080/"
    },
    "id": "GE5MwKMroVt-",
    "outputId": "7966f57b-8b4c-4d1a-da5c-e31bbdb26839"
   },
   "outputs": [
    {
     "data": {
      "text/plain": [
       "{'Mais de cinco anos': 79166.66666666667,\n",
       " 'Menos de dois anos': 48000.0,\n",
       " 'Entre dois e cinco anos': 61500.0}"
      ]
     },
     "execution_count": 13,
     "metadata": {},
     "output_type": "execute_result"
    }
   ],
   "source": [
    "# Criando categorias de experiencias\n",
    "def tenure_bucket(tenure):\n",
    "    if tenure < 2:\n",
    "        return \"Menos de dois anos\"\n",
    "    elif tenure < 5:\n",
    "        return \"Entre dois e cinco anos\"\n",
    "    else:\n",
    "        return \"Mais de cinco anos\"\n",
    "\n",
    "\n",
    "# Agrupando os salarios por categoria\n",
    "# As chaves são categoria de anos de experiência, os valores são as listas de salários associadas a categoria em questão.\n",
    "salary_by_tenure_bucket = defaultdict(list)\n",
    "for salary, tenure in salaries_and_tenures:\n",
    "    bucket = tenure_bucket(tenure)\n",
    "    salary_by_tenure_bucket[bucket].append(salary)\n",
    "\n",
    "# Calculando a media salaria de cada grupo\n",
    "# As chaves sao categorias, os valores a media salaria de cada categoria\n",
    "avg_salary_by_bucket = {tenure_bucket: sum(salaries) / len(salaries)\n",
    "                        for tenure_bucket, salaries in salary_by_tenure_bucket.items()}\n",
    "\n",
    "\n",
    "avg_salary_by_bucket"
   ]
  },
  {
   "cell_type": "code",
   "execution_count": 14,
   "metadata": {
    "id": "JPHsoitS0AQL"
   },
   "outputs": [],
   "source": [
    "# Relacionando o tempo de experiencia com as contas pagas\n",
    "def predict_paid_or_unpaid(years_experience):\n",
    "    if years_experience < 3.0:\n",
    "        return \"paid\"\n",
    "    elif years_experience < 8.5:\n",
    "        return \"unpaid\"\n",
    "    else:\n",
    "        return \"paid\"\n",
    "\n",
    "\n"
   ]
  },
  {
   "cell_type": "code",
   "execution_count": 15,
   "metadata": {
    "colab": {
     "base_uri": "https://localhost:8080/"
    },
    "id": "ZHSlOFSX11V4",
    "outputId": "19617b8b-43ee-46ba-a15a-795cd749e025"
   },
   "outputs": [
    {
     "name": "stdout",
     "output_type": "stream",
     "text": [
      "big 3\n",
      "data 3\n",
      "java 3\n",
      "python 3\n",
      "learning 3\n",
      "hadoop 2\n",
      "hbase 2\n",
      "cassandra 2\n",
      "scikit-learn 2\n",
      "r 2\n",
      "statistics 2\n",
      "regression 2\n",
      "probability 2\n",
      "machine 2\n",
      "neural 2\n",
      "networks 2\n"
     ]
    }
   ],
   "source": [
    "# Escrevendo os interesses em minusculo, dividindo as palavras e contando o resultado\n",
    "words_and_counts = Counter(word\n",
    "                           for user, interest in interests\n",
    "                           for word in interest.lower().split())\n",
    "\n",
    "for word, count in words_and_counts.most_common():\n",
    "    if count > 1:\n",
    "        print(word, count)\n"
   ]
  },
  {
   "cell_type": "markdown",
   "metadata": {},
   "source": [
    "## Intensivo de Python"
   ]
  },
  {
   "cell_type": "code",
   "execution_count": 16,
   "metadata": {
    "scrolled": true
   },
   "outputs": [],
   "source": [
    "# Criando ambiente de virtual no anaconda\n",
    "# $ conda create -n {nome no ambiente} python={versao do python}\n",
    "\n",
    "# Apos a criacao e necessario ativar o ambiente criado\n",
    "# $ conda acitivate {nome do ambiente}\n",
    "\n",
    "# Para desativar \n",
    "# $ conda deactivate"
   ]
  },
  {
   "cell_type": "code",
   "execution_count": 17,
   "metadata": {},
   "outputs": [],
   "source": [
    "# Para importor um modulo inteiro \n",
    "# import 'modulo_name'\n",
    "\n",
    "# para importar um valor especifico do modulo\n",
    "# from 'modulo_name' import 'funcoes'\n"
   ]
  },
  {
   "cell_type": "code",
   "execution_count": 18,
   "metadata": {},
   "outputs": [
    {
     "name": "stdout",
     "output_type": "stream",
     "text": [
      "2\n"
     ]
    }
   ],
   "source": [
    "# Criando funcoes\n",
    "def double(x):\n",
    "    \"\"\" Retorna o dobro do valor informado \"\"\"\n",
    "    return x * 2\n",
    "    \n",
    "# Passando uma funcao como argumento\n",
    "def apply_to_one(f):\n",
    "    \"\"\" Chama a funcao f usando 1 como argumento \"\"\"\n",
    "    return f(1)\n",
    "    \n",
    "my_double = double\n",
    "\n",
    "x = apply_to_one(my_double)\n",
    "\n",
    "print(x)"
   ]
  },
  {
   "cell_type": "code",
   "execution_count": 19,
   "metadata": {},
   "outputs": [],
   "source": [
    "# Criando funcoes anonimas ou mais conhecidas como lambda functions\n",
    "# nao e recomendado atribuir a labda a uma variavel\n",
    "y = apply_to_one(lambda x: x + 4)\n"
   ]
  },
  {
   "cell_type": "code",
   "execution_count": 20,
   "metadata": {},
   "outputs": [
    {
     "data": {
      "text/plain": [
       "2"
      ]
     },
     "execution_count": 20,
     "metadata": {},
     "output_type": "execute_result"
    }
   ],
   "source": [
    "# No pytho a barra inversa serve para modifica um caractere especial\n",
    "tab_string = \"\\t\" # representa o caractere tab\n",
    "len(tab_string)\n",
    "\n",
    "\n",
    "# Para utilizar o caractere da barra inversa e necessario criar uma string bruta com o r\"\"\n",
    "not_tab_string = r\"\\t\"\n",
    "len(not_tab_string)"
   ]
  },
  {
   "cell_type": "markdown",
   "metadata": {},
   "source": [
    "#### EXCEÇÕES"
   ]
  },
  {
   "cell_type": "code",
   "execution_count": 21,
   "metadata": {},
   "outputs": [
    {
     "name": "stdout",
     "output_type": "stream",
     "text": [
      "cannot divide by zero\n"
     ]
    }
   ],
   "source": [
    "# As exceções que o python gera se não sçao tratadas retornan um erro no algoritimo\n",
    "# Para tratarmos as excecoes utilizamos o try/except\n",
    "try:\n",
    "    print(0/0)\n",
    "\n",
    "except ZeroDivisionError: print(\"cannot divide by zero\")\n"
   ]
  },
  {
   "cell_type": "markdown",
   "metadata": {},
   "source": [
    "#### LISTAS"
   ]
  },
  {
   "cell_type": "code",
   "execution_count": 22,
   "metadata": {},
   "outputs": [],
   "source": [
    "# Podemos obter um elemento de uma lista apartir da posicao do mesmo\n",
    "x = list(range(0, 11))\n",
    "zero = x[0] # Utilizando o indice para acessar o valor zero e atribuilo a variavel\n",
    "\n",
    "# Filtrando uma lista utilizando o colchetes0\n",
    "first_three = x[:3] \n",
    "three_to_end = x[3:]\n",
    "second_to_four = x[1:5]\n",
    "last_three = x[-3:]\n",
    "without_first_and_last = x[1:-1]\n",
    "copy_list = x[:] # Passando toas as posicoes da lista\n",
    "\n",
    "# Podemos informar tambem o terceiro argumento que o passo da contagem\n",
    "every_third = x[::3]  # out [0, 3, 6, 9]\n",
    "five_to_three = x[5:2:-1]  # out [5, 4, 3]\n",
    "\n",
    "# Podemos utilizano o in para verificar a existencia de um valor em uma lista ou qualquer outro iteravel\n",
    "# Por analisar todos os itens da lista so utilize em listas pequenas\n",
    "1 in [1, 2, 3] # Out Verdadeiro\n",
    "0 in [1, 2, 3] # Out Falso\n",
    "\n",
    "# Para concatenas uma lista podemos utilizar o extend adicionando outra colecao\n",
    "x = [1, 2, 3] \n",
    "x.extend([4, 5, 6]) # out [1, 2, 3, 4, 5, 6]\n",
    "\n",
    "\n"
   ]
  },
  {
   "cell_type": "markdown",
   "metadata": {},
   "source": [
    "#### Tuplas"
   ]
  },
  {
   "cell_type": "code",
   "execution_count": 23,
   "metadata": {},
   "outputs": [
    {
     "name": "stdout",
     "output_type": "stream",
     "text": [
      "cannot modify a tuple\n"
     ]
    }
   ],
   "source": [
    "# Tuplas soa iguais as listas, porem nao podem ser modificadas\n",
    "my_tuple = (1, 2)  # primeira forama de criar uma tupla \n",
    "outher_tupla = 1, 2  # Segunda forma de Criar uma tupla\n",
    "\n",
    "try:\n",
    "    my_tuple[1] = 3\n",
    "\n",
    "except TypeError:\n",
    "    print(\"cannot modify a tuple\")\n"
   ]
  },
  {
   "cell_type": "code",
   "execution_count": 24,
   "metadata": {},
   "outputs": [
    {
     "data": {
      "text/plain": [
       "(15, 50)"
      ]
     },
     "execution_count": 24,
     "metadata": {},
     "output_type": "execute_result"
    }
   ],
   "source": [
    "# As tuplas sao mais eficazes em funcoes para retornar multiplos valores\n",
    "# Criando funcao com tuplas\n",
    "def sum_and_product(x, y):\n",
    "    return (x + y), (x * y)\n",
    "\n",
    "sp = sum_and_product(2, 3)\n",
    "sp # (5, 6)\n",
    "\n",
    "s, p = sum_and_product(5, 10)\n",
    "s, p # (15, 50)"
   ]
  },
  {
   "cell_type": "markdown",
   "metadata": {},
   "source": [
    "#### Dicionarios"
   ]
  },
  {
   "cell_type": "code",
   "execution_count": 25,
   "metadata": {
    "scrolled": true
   },
   "outputs": [],
   "source": [
    "# Sao similares a uma lista porem com o indice explicito e descritos por chaves ou inves de colchetes\n",
    "grades = {\"joel\": 20, \"Tim\": 80} # Dicionario literal\n",
    "\n",
    "# Para pesquisar o valor de uma chave, usamos o colchetes para\n",
    "# Dessa forma estaamos passando o indice do valor que desejamos\n",
    "joel_grades = grades[\"joel\"] # out 20\n",
    "\n",
    "\n"
   ]
  },
  {
   "cell_type": "code",
   "execution_count": 26,
   "metadata": {},
   "outputs": [
    {
     "name": "stdout",
     "output_type": "stream",
     "text": [
      "Key don't found\n"
     ]
    }
   ],
   "source": [
    "# Caso seja pesquisado um valor que o dict nao possui o python retornara um KeyError\n",
    "try:\n",
    "    kates_grade = grades[\"Kate\"]\n",
    "\n",
    "except KeyError:\n",
    "    print(\"Key don't found\") # Out Key don't found\n",
    "\n",
    "\n"
   ]
  },
  {
   "cell_type": "code",
   "execution_count": 27,
   "metadata": {},
   "outputs": [],
   "source": [
    "# Para verificar a existencia de uma chave em uma dict, utilizamos o in\n",
    "joel_has_grade = \"joel\" in grades # Out True\n",
    "kate_has_grade = \"kate\" in grades # Out False\n"
   ]
  },
  {
   "cell_type": "code",
   "execution_count": 28,
   "metadata": {},
   "outputs": [],
   "source": [
    "# Ou podemos utilizar o metodo get que retorna um valor padra ao inves de retornar uma excecao, quando procuramos uma chaves inexistente\n",
    "joel_grade = grades.get(\"joel\", 0) # Retorna o valor associado a chave\n",
    "kates_grade = grades.get(\"kate\", 0) # Retona o valor padrao que foi informado, pois nao existe chave kate\n",
    "no_ones = grades.get(\"No one\") # Retorna none\n"
   ]
  },
  {
   "cell_type": "code",
   "execution_count": 29,
   "metadata": {},
   "outputs": [],
   "source": [
    "# Podemos atribui pares de valor-chave usando os colchetes\n",
    "grades[\"TIm\"] = 99 # Substitui o valor anterior\n",
    "grades[\"Kate\"] = 100 # Adiciona o novo valor-chave\n",
    "num_students = len(grades) \n"
   ]
  },
  {
   "cell_type": "code",
   "execution_count": 30,
   "metadata": {},
   "outputs": [
    {
     "data": {
      "text/plain": [
       "'# Alem das chaves podemos conferir por todas elas\\ntweet_keys = tweet.keys() # Iteravel para as chaves\\ntweet_values = tweet.values() # Iteravel para os valores\\ntweet_items = tweet.items() # Iteravel para as tuplas (chave, valor)\\n\\n\"user\" in tweet_keys # Verdadeiro, mas não é Pythonic\\n\"user\" in tweet # forma Pythonic de verificar as chaves\\n\"joelgrus\" in tweet_values # Verdadeiro (lento, mas é a única forma de verificar)'"
      ]
     },
     "execution_count": 30,
     "metadata": {},
     "output_type": "execute_result"
    }
   ],
   "source": [
    "\"\"\"# Alem das chaves podemos conferir por todas elas\n",
    "tweet_keys = tweet.keys() # Iteravel para as chaves\n",
    "tweet_values = tweet.values() # Iteravel para os valores\n",
    "tweet_items = tweet.items() # Iteravel para as tuplas (chave, valor)\n",
    "\n",
    "\"user\" in tweet_keys # Verdadeiro, mas não é Pythonic\n",
    "\"user\" in tweet # forma Pythonic de verificar as chaves\n",
    "\"joelgrus\" in tweet_values # Verdadeiro (lento, mas é a única forma de verificar)\"\"\""
   ]
  },
  {
   "cell_type": "code",
   "execution_count": 31,
   "metadata": {},
   "outputs": [],
   "source": [
    "# Contando as palavras em um texto e adionando caso a palavra ainda nao tenha sido contada\n",
    "document = ['1', '12',]\n",
    "word_counts = {}\n",
    "for word in document:\n",
    "    if word in word_counts:\n",
    "        wored_counts[word] += 1\n",
    "    else:\n",
    "        word_counts[word] = 1\n",
    "        "
   ]
  },
  {
   "cell_type": "code",
   "execution_count": 32,
   "metadata": {},
   "outputs": [],
   "source": [
    "# Repetindo o algoritimo acima, porem utilizando o metodo try/except para as excecoes\n",
    "word_counts = {}\n",
    "for word in document:\n",
    "    try:\n",
    "        word_counts[word] += 1\n",
    "    except KeyError:\n",
    "        word_counts[word] = 1"
   ]
  },
  {
   "cell_type": "code",
   "execution_count": 33,
   "metadata": {},
   "outputs": [
    {
     "name": "stdout",
     "output_type": "stream",
     "text": [
      "{'A': 1, 'expressão': 1, 'Lorem': 1, 'ipsum': 1, 'em': 3, 'design': 1, 'gráfico': 1, 'e': 2, 'editoração': 1, 'é': 1, 'um': 1, 'texto': 2, 'padrão': 1, 'latim': 1, 'utilizado': 1, 'na': 1, 'produção': 1, 'gráfica': 1, 'para': 2, 'preencher': 1, 'os': 1, 'espaços': 1, 'de': 2, 'publicações': 1, 'testar': 1, 'ajustar': 1, 'aspectos': 1, 'visuais': 1, 'antes': 1, 'utilizar': 1, 'conteúdo': 1, 'real.': 1}\n"
     ]
    }
   ],
   "source": [
    "# Terceira maneira utilizando o metodo get()\n",
    "text = \"A expressão Lorem ipsum em design gráfico e editoração é um texto padrão em latim utilizado na produção gráfica para preencher os espaços de texto em publicações para testar e ajustar aspectos visuais antes de utilizar conteúdo real.\"\n",
    "document = text.split(\" \")\n",
    "\n",
    "word_counts = {}\n",
    "for word in document:\n",
    "    previous_count = word_counts.get(word, 0)\n",
    "    word_counts[word] = previous_count + 1\n",
    "    \n",
    "print(word_counts)\n"
   ]
  },
  {
   "cell_type": "markdown",
   "metadata": {},
   "source": [
    "#### DEFAULTDICT"
   ]
  },
  {
   "cell_type": "code",
   "execution_count": 34,
   "metadata": {},
   "outputs": [
    {
     "data": {
      "text/plain": [
       "defaultdict(int, {'real.': 1})"
      ]
     },
     "execution_count": 34,
     "metadata": {},
     "output_type": "execute_result"
    }
   ],
   "source": [
    "# Utilizando o Defaultdict para o contar as palavras do texto\n",
    "from collections import defaultdict\n",
    "\n",
    "word_counts = defaultdict(int)\n",
    "word_counts[word] += 1\n",
    "\n",
    "word_counts"
   ]
  },
  {
   "cell_type": "code",
   "execution_count": 35,
   "metadata": {},
   "outputs": [],
   "source": [
    "# Tambem podemos utilizar o defaultsict para list, dict e outras funcoes\n",
    "dd_list = defaultdict(list) # A funcao list passada como parametro cria uma lista vazia\n",
    "dd_list[2].append(1) # out {2: [1]}, agora a dd_list possui o primeiro valor com uma chave e valor\n",
    "\n",
    "dd_dict = defaultdict(dict) # A funcao dict passada como parametro cria uma dict vazia\n",
    "dd_dict[\"joel\"][\"City\"] = \"Seattle\" # Out {\"Joel\": {\"City\": \"Seattle\"}} \n",
    "\n",
    "dd_pair = defaultdict(lambda: [0, 0])\n",
    "dd_pair[2][1] = 1 # Out {2: [0, 1]},  Agora a dd_pair contem"
   ]
  },
  {
   "cell_type": "markdown",
   "metadata": {},
   "source": [
    "#### CONTADORES"
   ]
  },
  {
   "cell_type": "code",
   "execution_count": 36,
   "metadata": {},
   "outputs": [],
   "source": [
    "# O Counter (ou contador) conta as chaves mapeando os valores, parecido com o defaultdict\n",
    "from collections import Counter\n",
    "\n",
    "c = Counter([0, 1, 2, 0]) # Out Counter({0: 2, 1: 1, 2: 1})\n",
    "\n",
    "# O counter e uma forma mais simples de resolver o problema do word_counts\n",
    "word_counts = Counter(document)\n"
   ]
  },
  {
   "cell_type": "code",
   "execution_count": 37,
   "metadata": {},
   "outputs": [
    {
     "name": "stdout",
     "output_type": "stream",
     "text": [
      "em 3\n",
      "e 2\n",
      "texto 2\n",
      "para 2\n",
      "de 2\n",
      "A 1\n",
      "expressão 1\n",
      "Lorem 1\n",
      "ipsum 1\n",
      "design 1\n"
     ]
    }
   ],
   "source": [
    "# O most_common tambem pode ser usado para contar as aparicoes das palavras\n",
    "# Imprimindo as 10 palavras mais comuns\n",
    "for word, count in word_counts.most_common(10):\n",
    "    print(word, count)"
   ]
  },
  {
   "cell_type": "markdown",
   "metadata": {},
   "source": [
    "#### CONJUNTOS"
   ]
  },
  {
   "cell_type": "code",
   "execution_count": 38,
   "metadata": {},
   "outputs": [],
   "source": [
    "# O set e um conjunto de elemento distintos, utilizamos chaves para listar seus conteudos\n",
    "# Nao podemos passar uma chave vazia pois isso significa uma dict vazia, devemos utilizar o set()\n",
    "s = set()\n",
    "s.add(1) # Out {1}\n",
    "s.add(2) # Out {1, 2}\n"
   ]
  },
  {
   "cell_type": "markdown",
   "metadata": {},
   "source": [
    "#### FLUXO DE CONTROLE"
   ]
  },
  {
   "cell_type": "code",
   "execution_count": 39,
   "metadata": {},
   "outputs": [
    {
     "name": "stdout",
     "output_type": "stream",
     "text": [
      "0 menor que 10\n",
      "1 menor que 10\n",
      "2 menor que 10\n",
      "3 menor que 10\n",
      "4 menor que 10\n",
      "5 menor que 10\n",
      "6 menor que 10\n",
      "7 menor que 10\n",
      "8 menor que 10\n",
      "9 menor que 10\n"
     ]
    }
   ],
   "source": [
    "# O fluxo de controle e uma forma logica de utilizar os condicionais de Python\n",
    "\n",
    "# usando o loop while\n",
    "x = 0\n",
    "\n",
    "while x < 10:\n",
    "    print(f\"{x} menor que 10\")\n",
    "    x = x + 1\n"
   ]
  },
  {
   "cell_type": "code",
   "execution_count": 40,
   "metadata": {},
   "outputs": [
    {
     "name": "stdout",
     "output_type": "stream",
     "text": [
      "0 menor que 10\n",
      "1 menor que 10\n",
      "2 menor que 10\n",
      "3 menor que 10\n",
      "4 menor que 10\n",
      "5 menor que 10\n",
      "6 menor que 10\n",
      "7 menor que 10\n",
      "8 menor que 10\n",
      "9 menor que 10\n",
      "0\n",
      "1\n",
      "2\n",
      "4\n"
     ]
    }
   ],
   "source": [
    "# Usando o for e o in\n",
    "for x in range(10):\n",
    "    print(f\"{x} menor que 10\")\n",
    "    \n",
    "# Para utilizar uma logica mais complexa podemos utilizar da seguinte forma\n",
    "for x in range(10):\n",
    "    if x == 3:\n",
    "        continue # Vai imediatamente para a proxima iteracap\n",
    "    if x == 5:\n",
    "        break # Para o loop imediatamente\n",
    "    print(x)\n",
    "        "
   ]
  },
  {
   "cell_type": "markdown",
   "metadata": {},
   "source": [
    "#### VERACIDADE"
   ]
  },
  {
   "cell_type": "code",
   "execution_count": 41,
   "metadata": {
    "scrolled": true
   },
   "outputs": [
    {
     "data": {
      "text/plain": [
       "0.0"
      ]
     },
     "execution_count": 41,
     "metadata": {},
     "output_type": "execute_result"
    }
   ],
   "source": [
    "# No python, podemos inserir qualquer valor que indique um boll\n",
    "# Todos os exemplos abaixo são Falso\n",
    "False\n",
    "None\n",
    "[]\n",
    "{}\n",
    "\"\"\n",
    "set()\n",
    "0\n",
    "0.0"
   ]
  },
  {
   "cell_type": "code",
   "execution_count": 42,
   "metadata": {
    "scrolled": true
   },
   "outputs": [
    {
     "data": {
      "text/plain": [
       "False"
      ]
     },
     "execution_count": 42,
     "metadata": {},
     "output_type": "execute_result"
    }
   ],
   "source": [
    "# Forma de verificar a veracidade de todos os items de um iteravel\n",
    "all([True, 1, {3}]) # True, todos são verdadeiros\n",
    "all([True, 1, {}]) # False, {} é falso\n",
    "any([True, 1, {}]) # True, True é verdadeiro\n",
    "all([]) # True, não há nenhum elemento falso na lista\n",
    "any([]) # False, não há nenhum elemento verdadeiro na lista"
   ]
  },
  {
   "cell_type": "markdown",
   "metadata": {},
   "source": [
    "#### CLASSIFICACAO"
   ]
  },
  {
   "cell_type": "code",
   "execution_count": 43,
   "metadata": {},
   "outputs": [],
   "source": [
    "# A lista em python tem o metodo sort para organizalas, e para nao baguncar podemos utilizar a funcao sorted, que retorna nova lista\n",
    "x = [1, 2, 4, 3, -1] # Lista desorganizada\n",
    "y = sorted(x) # y recebe x porem organizando os valores\n",
    "x.sort() # Agora x esta organizado"
   ]
  },
  {
   "cell_type": "code",
   "execution_count": 44,
   "metadata": {},
   "outputs": [],
   "source": [
    "# A organizacao do sort() acontece do menor para o maior valor do iteravel\n",
    "# Para organizar de forma decrescente temos que passar para o parametro reverse o valore True\n",
    "x =sorted([-4, 1, -2, 3], key=abs, reverse=True)\n",
    "\n",
    "# O parametro key para comparar os resultados de uma funcao especificada, por exemplo uma lambda function\n",
    "wc = sorted(word_counts.items(), key=lambda word_and_count: word_and_count[1], reverse=True)"
   ]
  },
  {
   "cell_type": "markdown",
   "metadata": {},
   "source": [
    "#### COMPREENSOES DE LISTAS "
   ]
  },
  {
   "cell_type": "code",
   "execution_count": 45,
   "metadata": {},
   "outputs": [],
   "source": [
    "# O list comprehension e a forma pythonica de transformar um iteravel em oputro\n",
    "even_numbers = [x for x in range(5) if x % 2 == 0]  # Out [0, 2, 4]\n",
    "squares = [x * x for x in range(5)] # Out [0, 1, 4, 9, 16]\n",
    "even_squares = [x * x for x in even_numbers] # Out [0, 4, 16]\n",
    "\n",
    "# Da mesma forma, você pode transformar listas em dicionários ou conjuntos:\n",
    "square_dict = {x: x * x for x in range(5)} # Out {0: 0, 1: 1, 2: 4, 3: 9, 4: 16} \n",
    "square_set = {x * x for x in [1, -1]} # Out {1}"
   ]
  },
  {
   "cell_type": "code",
   "execution_count": 46,
   "metadata": {
    "scrolled": true
   },
   "outputs": [
    {
     "data": {
      "text/plain": [
       "[(0, 0),\n",
       " (0, 1),\n",
       " (0, 2),\n",
       " (0, 3),\n",
       " (0, 4),\n",
       " (0, 5),\n",
       " (0, 6),\n",
       " (0, 7),\n",
       " (0, 8),\n",
       " (0, 9),\n",
       " (1, 0),\n",
       " (1, 1),\n",
       " (1, 2),\n",
       " (1, 3),\n",
       " (1, 4),\n",
       " (1, 5),\n",
       " (1, 6),\n",
       " (1, 7),\n",
       " (1, 8),\n",
       " (1, 9),\n",
       " (2, 0),\n",
       " (2, 1),\n",
       " (2, 2),\n",
       " (2, 3),\n",
       " (2, 4),\n",
       " (2, 5),\n",
       " (2, 6),\n",
       " (2, 7),\n",
       " (2, 8),\n",
       " (2, 9),\n",
       " (3, 0),\n",
       " (3, 1),\n",
       " (3, 2),\n",
       " (3, 3),\n",
       " (3, 4),\n",
       " (3, 5),\n",
       " (3, 6),\n",
       " (3, 7),\n",
       " (3, 8),\n",
       " (3, 9),\n",
       " (4, 0),\n",
       " (4, 1),\n",
       " (4, 2),\n",
       " (4, 3),\n",
       " (4, 4),\n",
       " (4, 5),\n",
       " (4, 6),\n",
       " (4, 7),\n",
       " (4, 8),\n",
       " (4, 9),\n",
       " (5, 0),\n",
       " (5, 1),\n",
       " (5, 2),\n",
       " (5, 3),\n",
       " (5, 4),\n",
       " (5, 5),\n",
       " (5, 6),\n",
       " (5, 7),\n",
       " (5, 8),\n",
       " (5, 9),\n",
       " (6, 0),\n",
       " (6, 1),\n",
       " (6, 2),\n",
       " (6, 3),\n",
       " (6, 4),\n",
       " (6, 5),\n",
       " (6, 6),\n",
       " (6, 7),\n",
       " (6, 8),\n",
       " (6, 9),\n",
       " (7, 0),\n",
       " (7, 1),\n",
       " (7, 2),\n",
       " (7, 3),\n",
       " (7, 4),\n",
       " (7, 5),\n",
       " (7, 6),\n",
       " (7, 7),\n",
       " (7, 8),\n",
       " (7, 9),\n",
       " (8, 0),\n",
       " (8, 1),\n",
       " (8, 2),\n",
       " (8, 3),\n",
       " (8, 4),\n",
       " (8, 5),\n",
       " (8, 6),\n",
       " (8, 7),\n",
       " (8, 8),\n",
       " (8, 9),\n",
       " (9, 0),\n",
       " (9, 1),\n",
       " (9, 2),\n",
       " (9, 3),\n",
       " (9, 4),\n",
       " (9, 5),\n",
       " (9, 6),\n",
       " (9, 7),\n",
       " (9, 8),\n",
       " (9, 9)]"
      ]
     },
     "execution_count": 46,
     "metadata": {},
     "output_type": "execute_result"
    }
   ],
   "source": [
    "# Uma compreensao de lista pode conter multiplos fors\n",
    "pairs = [(x, y) \n",
    "        for x in range(10)\n",
    "        for y in range(10)] # Out [(0, 0), (0, 1), ..., (9, 8), (9, 9)]\n",
    "\n",
    "pairs"
   ]
  },
  {
   "cell_type": "code",
   "execution_count": 47,
   "metadata": {
    "scrolled": true
   },
   "outputs": [
    {
     "data": {
      "text/plain": [
       "[(0, 1),\n",
       " (0, 2),\n",
       " (0, 3),\n",
       " (0, 4),\n",
       " (0, 5),\n",
       " (0, 6),\n",
       " (0, 7),\n",
       " (0, 8),\n",
       " (0, 9),\n",
       " (1, 2),\n",
       " (1, 3),\n",
       " (1, 4),\n",
       " (1, 5),\n",
       " (1, 6),\n",
       " (1, 7),\n",
       " (1, 8),\n",
       " (1, 9),\n",
       " (2, 3),\n",
       " (2, 4),\n",
       " (2, 5),\n",
       " (2, 6),\n",
       " (2, 7),\n",
       " (2, 8),\n",
       " (2, 9),\n",
       " (3, 4),\n",
       " (3, 5),\n",
       " (3, 6),\n",
       " (3, 7),\n",
       " (3, 8),\n",
       " (3, 9),\n",
       " (4, 5),\n",
       " (4, 6),\n",
       " (4, 7),\n",
       " (4, 8),\n",
       " (4, 9),\n",
       " (5, 6),\n",
       " (5, 7),\n",
       " (5, 8),\n",
       " (5, 9),\n",
       " (6, 7),\n",
       " (6, 8),\n",
       " (6, 9),\n",
       " (7, 8),\n",
       " (7, 9),\n",
       " (8, 9)]"
      ]
     },
     "execution_count": 47,
     "metadata": {},
     "output_type": "execute_result"
    }
   ],
   "source": [
    "# Utilizando o resultado do for anterior para complementar o for posterior\n",
    "increasting_pairs = [(x, y) \n",
    "        for x in range(10)\n",
    "        for y in range(x + 1, 10)] # Out [(0, 0), (0, 1), ..., (9, 8), (9, 9)]\n",
    "\n",
    "increasting_pairs"
   ]
  },
  {
   "cell_type": "markdown",
   "metadata": {},
   "source": [
    "#### TESTES AUTOMATIZADOS E ASSERCAO"
   ]
  },
  {
   "cell_type": "code",
   "execution_count": 48,
   "metadata": {},
   "outputs": [],
   "source": [
    "# Para conferir se um codigo esta correto, podemos utilizar uma automatizacao chamada de assert\n",
    "# A instrucao assert gera um AssertionError caso a condicao especificada nao seja verdadeira\n",
    "\n",
    "assert 1 + 1 == 2\n",
    "assert 1 + 1 == 2, \"1 + 1 should equal 2 but didn't\" # Podemos ate adicionar uma mensagem para caso de falha"
   ]
  },
  {
   "cell_type": "code",
   "execution_count": 49,
   "metadata": {},
   "outputs": [
    {
     "name": "stdout",
     "output_type": "stream",
     "text": [
      "Falho\n"
     ]
    }
   ],
   "source": [
    "# O recomendado para o assert e declarar que a funcao esta funcionando como esperado\n",
    "def smallest_item(xs):\n",
    "    return min(xs)\n",
    "\n",
    "try: \n",
    "    assert smallest_item([10, 20, 30]) == 5, \"Valor nao encontrado\"\n",
    "\n",
    "except AssertionError:\n",
    "    print(\"Falho\")"
   ]
  },
  {
   "cell_type": "code",
   "execution_count": 50,
   "metadata": {},
   "outputs": [
    {
     "data": {
      "text/plain": [
       "False"
      ]
     },
     "execution_count": 50,
     "metadata": {},
     "output_type": "execute_result"
    }
   ],
   "source": [
    "# Outro uso, porem menos comum e na entrada de valores na funca\n",
    "def smallest_item(xs):\n",
    "    assert xs, \"empty list has no smallest item\"\n",
    "    return min(xs)\n",
    "\n",
    "smallest_item([1]) == 5\n"
   ]
  },
  {
   "cell_type": "markdown",
   "metadata": {},
   "source": [
    "#### PROGRAMACAO ORIENTADA A OBJETOS"
   ]
  },
  {
   "cell_type": "markdown",
   "metadata": {},
   "source": [
    "##### Utilizamos as classes para emcapsular dados e suas funcoes. E para deixar o codigo mais limpo "
   ]
  },
  {
   "cell_type": "code",
   "execution_count": 51,
   "metadata": {},
   "outputs": [],
   "source": [
    "# O nome da classe tem que ser passado em PascalCase\n",
    "class CountingClicker:\n",
    "    \"\"\" A classe pode/deve ter um docstring, assim como as funcoes \"\"\"\n",
    "\n",
    "    # Por convencao cada funcao recebe um parametro, self, que se refere a instancia da classe especifica\n",
    "    # No geral, toda classe possui um construtor chamado init, que recebe todos os parametros para construir uma instancia da classe\n",
    "    def __init__(self, count = 0): # O metodo init inicia e termina com duble sublinhados ou dunder que representam comportamentos especiais\n",
    "        self.count = count\n",
    "\n",
    "    def __repr__(self): # O __repr_ e um metodo que produz a representacao de string de uma instancia de classe\n",
    "        return f\"CountingClicker(count={self.count})\"\n",
    "      \n",
    "    def click(self, num_times = 1):\n",
    "        \"\"\" Clique no contador algumas vezes \"\"\"\n",
    "        self.count += num_times\n",
    "    \n",
    "    def read(self):\n",
    "        \"\"\"Retorna o valor de count\"\"\"\n",
    "        return self.count\n",
    "    \n",
    "    def reset(self):\n",
    "        \"\"\"Reseta o valor do count\"\"\"\n",
    "        self.count = 0\n",
    "        \n",
    "        \n",
    "clicker = CountingClicker() # Construindo a classe\n",
    "\n",
    "assert clicker.read() == 0, \"clicker shold start with count 0\"\n",
    "\n",
    "clicker.click() # Clicando 1 vez\n",
    "clicker.click() # CLicando 2 vezes\n",
    "\n",
    "assert clicker.read() == 2, \"after two clicks, clicker shold have count 2\"\n",
    "\n",
    "clicker.reset() # Resetando o contador\n",
    "\n",
    "assert clicker.read() == 0, \"after reset, clicker should be back to 0\"\n",
    "\n"
   ]
  },
  {
   "cell_type": "code",
   "execution_count": 52,
   "metadata": {},
   "outputs": [],
   "source": [
    "# Criando uma sub-classe que herda todoas as funcionalidades da classe-pai, porem com algumas alteracoes\n",
    "\n",
    "class NoResetCliker(CountingClicker):\n",
    "    def reset(self):\n",
    "        pass\n",
    "\n",
    "\n",
    "clicker2 = NoResetCliker()\n",
    "assert clicker2.read() == 0, \"Iniciando o contador com 0\"\n",
    "clicker2.click() # Clicando uma vez\n",
    "assert clicker2.read() == 1, \"Depois de uma clicada, deve contar 1 clique\"\n",
    "clicker2.reset() # Nao fara nada pois nao passamos o metodo pass para essa classe filho\n",
    "assert clicker2.read() == 1, \"Ainda deve contar 1 clique\"\n"
   ]
  },
  {
   "cell_type": "markdown",
   "metadata": {},
   "source": [
    "#### ITERAVEIS E GERADORES "
   ]
  },
  {
   "cell_type": "code",
   "execution_count": 53,
   "metadata": {},
   "outputs": [
    {
     "name": "stdout",
     "output_type": "stream",
     "text": [
      "i: 0\n",
      "i: 1\n",
      "i: 2\n",
      "i: 3\n",
      "i: 4\n",
      "i: 5\n",
      "i: 6\n",
      "i: 7\n",
      "i: 8\n",
      "i: 9\n"
     ]
    }
   ],
   "source": [
    "# Normalmente iteramos em colecoes utilizando o for e in. No nosso caso, podemos criar geradores.\n",
    "# Podemos criar geradores utilizando funcoes e o operador yeld\n",
    "def generate_range(n):\n",
    "    i = 0\n",
    "    while i < n:\n",
    "        yield i # cada chamada para yield produz um valor do gerador\n",
    "        i += 1\n",
    "        \n",
    "# No exemplo a seguir o for conumira cada valor gerado pelo yield ate que nao sobre nenhum\n",
    "for i in generate_range(10):\n",
    "    print(f\"i: {i}\")"
   ]
  },
  {
   "cell_type": "code",
   "execution_count": 54,
   "metadata": {
    "scrolled": true
   },
   "outputs": [
    {
     "name": "stdout",
     "output_type": "stream",
     "text": [
      "i: 0\n",
      "i: 1\n",
      "i: 2\n",
      "i: 3\n",
      "i: 4\n",
      "i: 5\n",
      "i: 6\n",
      "i: 7\n",
      "i: 8\n",
      "i: 9\n"
     ]
    }
   ],
   "source": [
    "# Com o gerador yield podemos ate mesmo criar uma sequencia infinita\n",
    "def natural_number():\n",
    "    n = 0\n",
    "    while True:\n",
    "        yield n\n",
    "        n += 1\n",
    "        \n",
    "        if n == 10: # sempre utilizar uma logica de break quando trabalhar com valores infinitos\n",
    "            break\n",
    "\n",
    "for i in natural_number():\n",
    "    print(f\"i: {i}\")"
   ]
  },
  {
   "cell_type": "code",
   "execution_count": 55,
   "metadata": {},
   "outputs": [
    {
     "name": "stdout",
     "output_type": "stream",
     "text": [
      "0\n",
      "2\n",
      "4\n",
      "6\n",
      "8\n",
      "10\n",
      "12\n",
      "14\n",
      "16\n",
      "18\n"
     ]
    }
   ],
   "source": [
    "# Podemos criar geradores colocando compreesoes de for entre parenteses\n",
    "# A diferenca da compreensao de gerador para um list comprehension e apenas do parentese \n",
    "evens_below_20 = (i for i in generate_range(20) if i % 2 == 0)\n",
    "\n",
    "# A compressao de gerador nao faz nada ate criarmos uma iteracao com o for ou o next\n",
    "for i in evens_below_20:\n",
    "    print(i)\n",
    "    \n"
   ]
  },
  {
   "cell_type": "code",
   "execution_count": 56,
   "metadata": {},
   "outputs": [
    {
     "name": "stdout",
     "output_type": "stream",
     "text": [
      "Name position: 0 is Alice\n",
      "Name position: 1 is Bob\n",
      "Name position: 2 is Charlie\n",
      "Name position: 3 is Debbie\n"
     ]
    }
   ],
   "source": [
    "# Quando queremos obter o valor e seu indice, de uma lista ou gerador utilizamos a funcao enumerate \n",
    "names = [\"Alice\",\"Bob\",\"Charlie\",\"Debbie\"]\n",
    "\n",
    "# O enumerate do python transforma os valores em pares (indice, valor)\n",
    "for i, name in enumerate(names):\n",
    "    print(f\"Name position: {i} is {name}\")\n"
   ]
  },
  {
   "cell_type": "markdown",
   "metadata": {},
   "source": [
    "#### ALEATORIEDADE"
   ]
  },
  {
   "cell_type": "code",
   "execution_count": 57,
   "metadata": {
    "tags": []
   },
   "outputs": [],
   "source": [
    "# Para trabalharmos com numeros aleatorios utilizaremos o modulo random\n",
    "import random as rd\n",
    "\n",
    "rd.seed(10) # Assim, Os numeros aleatorios seram sempre os mesmos\n",
    "\n",
    "# Gerando uma lista de numeros aleatorios entre 0 e 1\n",
    "four_uniform_randoms = [rd.random() for _ in range(5)] # O _ e uma forma de gerar uma variavel anonima dentro de um iteravel\n"
   ]
  },
  {
   "cell_type": "code",
   "execution_count": 58,
   "metadata": {},
   "outputs": [
    {
     "data": {
      "text/plain": [
       "6"
      ]
     },
     "execution_count": 58,
     "metadata": {},
     "output_type": "execute_result"
    }
   ],
   "source": [
    "# Podemos utilizar tambem a funcao random.randrange, que recebe dois parametro (inicio, fim) e retorna um elemento aleatorio entre o range informado\n",
    "rd.randrange(2, 11) # So aceita numeros inteiros\n",
    "\n"
   ]
  },
  {
   "cell_type": "code",
   "execution_count": 59,
   "metadata": {},
   "outputs": [
    {
     "data": {
      "text/plain": [
       "[4, 5, 6, 7, 2, 9, 10, 8, 1, 3]"
      ]
     },
     "execution_count": 59,
     "metadata": {},
     "output_type": "execute_result"
    }
   ],
   "source": [
    "# Podemos reorganizar ums lista aleatoriamente utilizando o random.shuffle\n",
    "up_to_ten = [1, 2, 3, 4, 5, 6, 7, 8, 9, 10]\n",
    "\n",
    "rd.shuffle(up_to_ten) \n",
    "up_to_ten"
   ]
  },
  {
   "cell_type": "code",
   "execution_count": 60,
   "metadata": {},
   "outputs": [
    {
     "data": {
      "text/plain": [
       "'Bob'"
      ]
     },
     "execution_count": 60,
     "metadata": {},
     "output_type": "execute_result"
    }
   ],
   "source": [
    "# Para escolher um elemento de forma aleatoria de uma lista, podemos utilizar a funcao random.choice\n",
    "my_best_friend = rd.choice(names) # Out um nome aleatorio da lista names\n",
    "my_best_friend"
   ]
  },
  {
   "cell_type": "code",
   "execution_count": 61,
   "metadata": {},
   "outputs": [
    {
     "data": {
      "text/plain": [
       "[39, 23, 25, 27, 19, 53]"
      ]
     },
     "execution_count": 61,
     "metadata": {},
     "output_type": "execute_result"
    }
   ],
   "source": [
    "# Para escolher uma amostra aleatoria de elementos de uma lista sem substituicao, podemos usar a funcao random.sample\n",
    "lottery_numbers = range(1, 60)\n",
    "winning_numbers = rd.sample(lottery_numbers, 6) # Primeiro passamos a lista, e depois a quantidade de elementos\n",
    "winning_numbers"
   ]
  },
  {
   "cell_type": "code",
   "execution_count": 62,
   "metadata": {},
   "outputs": [
    {
     "data": {
      "text/plain": [
       "[43, 16, 29, 11, 43, 19]"
      ]
     },
     "execution_count": 62,
     "metadata": {},
     "output_type": "execute_result"
    }
   ],
   "source": [
    "# Para escolher uma amostra com substituicao de elementos\n",
    "import random\n",
    "[random.choice(range(60)) for _ in range(6)]"
   ]
  },
  {
   "cell_type": "markdown",
   "metadata": {},
   "source": [
    "#### EXPRESSOES REGULARES"
   ]
  },
  {
   "cell_type": "code",
   "execution_count": 63,
   "metadata": {},
   "outputs": [],
   "source": [
    "# As expressoes regulares sao formas de procurar texto\n",
    "import re\n",
    "\n",
    "re_examples = [ # Todos os exemplos abaixo sao True\n",
    "    not re.match(\"a\", \"cat\"), # 'cat' não começa com 'a'\n",
    "     re.search(\"a\", \"cat\"), # 'cat' contém um 'a'\n",
    "    not re.search(\"c\", \"dog\"), # 'dog' não contém um 'c'.\n",
    "    3 == len(re.split(\"[ab]\", \"carbs\")), # Divide em a ou b para ['c','r','s'].\n",
    "    \"R-D-\"== re.sub(\"[0-9]\", \"-\", \"R1D2\") # Substitui dígitos por traços. passando (oque_retirar, oque_colocar, o_texto)\n",
    "]\n",
    "\n",
    "assert all(re_examples), \"all the regex examples should be True\""
   ]
  },
  {
   "cell_type": "markdown",
   "metadata": {},
   "source": [
    "#### ZIP E DESCOMPATACAO DE ARGUMENTO"
   ]
  },
  {
   "cell_type": "code",
   "execution_count": 64,
   "metadata": {},
   "outputs": [
    {
     "data": {
      "text/plain": [
       "[(1, 'a'), (2, 'b'), (3, 'c'), (4, 'd')]"
      ]
     },
     "execution_count": 64,
     "metadata": {},
     "output_type": "execute_result"
    }
   ],
   "source": [
    "# Para compactar duas ou mais lista podemos utilizar a funca zip que treansforma varios iteraveis em um so iteravel em tuplas da funcao conrrespondente\n",
    "# Caso as listas tenham tamanhos diferentes o zip para assim que a menor lista acabar\n",
    "list1 = [1, 2, 3, 4]\n",
    "list2 = ['a', 'b', 'c', 'd']\n",
    "\n",
    "[pair for pair in zip(list1, list2)] # Out[(1, 'a'), (2, 'b'), (3, 'c'), (4, 'd')]\n"
   ]
  },
  {
   "cell_type": "code",
   "execution_count": 65,
   "metadata": {},
   "outputs": [
    {
     "data": {
      "text/plain": [
       "((1, 2, 3, 4), ('a', 'b', 'c', 'd'))"
      ]
     },
     "execution_count": 65,
     "metadata": {},
     "output_type": "execute_result"
    }
   ],
   "source": [
    "# Para descompactar uma lista podemos utilizar uma forma um pouco incomum\n",
    "pair = [(1, 'a'), (2, 'b'), (3, 'c'), (4, 'd')]\n",
    "numbers, letters = zip(*pair) # O * serve para descompactar o argumento (iteravel)\n",
    "numbers, letters\n"
   ]
  },
  {
   "cell_type": "code",
   "execution_count": 66,
   "metadata": {},
   "outputs": [
    {
     "name": "stdout",
     "output_type": "stream",
     "text": [
      "Function add expects two inputs\n"
     ]
    }
   ],
   "source": [
    "# Podemos utilizar a descompactacao de armento com qualquer funcao\n",
    "def add(a, b):\n",
    "    return a + b\n",
    "\n",
    "add(1, 2) # Retorna 3\n",
    "\n",
    "try:\n",
    "    add([1, 2])\n",
    "except TypeError:\n",
    "    print(\"Function add expects two inputs\")\n",
    "    \n",
    "    "
   ]
  },
  {
   "cell_type": "markdown",
   "metadata": {},
   "source": [
    "#### ARGS KWARGS "
   ]
  },
  {
   "cell_type": "code",
   "execution_count": 67,
   "metadata": {},
   "outputs": [
    {
     "name": "stdout",
     "output_type": "stream",
     "text": [
      "As defined, g only takes one argument\n"
     ]
    }
   ],
   "source": [
    "# Exemplo de funcao de alta ordem que recebe uma funcao como entrada e retorna uma nova funca\n",
    "def doubler(f):\n",
    "    def g(x):\n",
    "        return 2 * f(x)\n",
    "    \n",
    "    return g\n",
    "\n",
    "# Isso funciona em alguns casos \n",
    "def f1(x):\n",
    "    return x + 1\n",
    "\n",
    "\n",
    "g = doubler(f1)\n",
    "assert g(3) == 8, \"(3 + 1) * 2 should equal 8\"\n",
    "assert g(-1) == 0, \"(-1 + 1) * 2 should equal 0\"\n",
    "\n",
    "# Porem nao funciona em funcoes com mais de um argumento\n",
    "def f2(x, y):\n",
    "    return x + y\n",
    "\n",
    "g = doubler(f2) \n",
    "try:\n",
    "    g(1, 2)\n",
    "except TypeError:\n",
    "    print(\"As defined, g only takes one argument\")"
   ]
  },
  {
   "cell_type": "code",
   "execution_count": 68,
   "metadata": {},
   "outputs": [
    {
     "name": "stdout",
     "output_type": "stream",
     "text": [
      "unnames args: (1, 2)\n",
      "keyword args: {'key': 'word', 'key2': 'word2'}\n"
     ]
    }
   ],
   "source": [
    "# Precisamo de uma funcao que receba argumentos arbitrarios, e fazemos isso usando a descompactacao de argumento\n",
    "def magic(*args, **kwargs):\n",
    "    print(\"unnames args:\", args)\n",
    "    print(\"keyword args:\", kwargs)\n",
    "    \n",
    "# Quando definimos uma funcao com args temos uma tupla dos argumentos sem nome, e com o kwargs temos uma dict cin is argumentos nomeados\n",
    "magic(1, 2, key=\"word\", key2=\"word2\") # Out unnames args: (1, 2) # keyword args: {'key': 'word', 'key2': 'word2'} \n"
   ]
  },
  {
   "cell_type": "code",
   "execution_count": 69,
   "metadata": {},
   "outputs": [],
   "source": [
    "# Tambem funciona quando passamos uma lista, tupla ou dict para fornecer argumento a uma funcao\n",
    "def other_way_magic(x, y, z):\n",
    "    return x + y + z\n",
    "\n",
    "\n",
    "listxy = [1, 2]\n",
    "dictz = {\"z\": 3}\n",
    "\n",
    "assert other_way_magic(*listxy, **dictz) == 6, \"1 + 2 + should be 6\""
   ]
  },
  {
   "cell_type": "code",
   "execution_count": 70,
   "metadata": {},
   "outputs": [],
   "source": [
    "# Esses recursao normalmente sao utilizados para produzir funcoes de alta ordem com entradas que aceitem argumentos arbitrarios\n",
    "# De qualquer forma e mais correto indicar expressamente os argumentos recebidos pelas funcoes, portanto so usaremos args e kwargs em \n",
    "def double_corrent(f):\n",
    "    \"\"\" Funciona para qualquer entrada recebida por f\"\"\"\n",
    "    def g(*args, **kargs):\n",
    "        \"\"\" Todo argumento fornecido para g deve ser transmitido para f \"\"\"\n",
    "        return 2 * f(*args, **kargs)\n",
    "    return g\n",
    "\n",
    "\n",
    "g = double_corrent(f2)\n",
    "\n",
    "assert g(1, 2) == 6, \"souble shoukd work now\""
   ]
  },
  {
   "cell_type": "markdown",
   "metadata": {},
   "source": [
    "#### ANOTACOES DE TIPO "
   ]
  },
  {
   "cell_type": "code",
   "execution_count": 71,
   "metadata": {},
   "outputs": [
    {
     "name": "stdout",
     "output_type": "stream",
     "text": [
      "Cannot add an int to a string\n"
     ]
    }
   ],
   "source": [
    "# O Python Por ser uma linguagem fortemente tipada, ou seja, que geralmente nao se importa com os tipos dos objetos se eles forem utilizados de forma valida\n",
    "def add(a, b):\n",
    "    return a + b\n",
    "\n",
    "assert add(10, 5) == 15, \"+ is valid for number\" \n",
    "assert add([1, 2], [3]) == [1, 2, 3], \"+ is valid for list\"\n",
    "assert add(\"hi \", \"there\") == \"hi there\", \"+ is valid for string\"\n",
    "\n",
    "\n",
    "# Nao podemos inserir numeros em uma string\n",
    "try:\n",
    "    add(10, \"cinco\")\n",
    "\n",
    "except TypeError:\n",
    "    print(\"Cannot add an int to a string\")\n",
    "    "
   ]
  },
  {
   "cell_type": "code",
   "execution_count": 72,
   "metadata": {},
   "outputs": [
    {
     "name": "stdout",
     "output_type": "stream",
     "text": [
      "Cannot add an int to a string\n"
     ]
    }
   ],
   "source": [
    "# Ja em uma linguagem tipada estaticamente, as funcoes e objetos tem tipos especificos, porem no python >3.6 ja possuem uma funcionaliodade paracida com a tipagem de outras linguagens, conforme exemplo:\n",
    "def add2(a: int, b: int) -> int:\n",
    "    return a + b\n",
    "\n",
    "add2(10, 5) # Out 15\n",
    "try:\n",
    "    add2(10, \"cinco\") # Out TypeError\n",
    "except TypeError:\n",
    "    print(\"Cannot add an int to a string\")"
   ]
  },
  {
   "cell_type": "code",
   "execution_count": 73,
   "metadata": {},
   "outputs": [],
   "source": [
    "# A utilizacao de tipo tem como importancia a documentacao do algoritimo, por exemplo\n",
    "# def dot_product(x, y): ... # Exemplo Anotacao de Tipo\n",
    " \n",
    "# def dot_product(x: Vector, y: Vector) -> float:... # Exemplo Com Anotacao\n"
   ]
  },
  {
   "cell_type": "code",
   "execution_count": 74,
   "metadata": {},
   "outputs": [],
   "source": [
    "# Existem ferramentas externas como o mypy que leem o codigo e inspecionam as anotacoes de tipo e inforam os erros de tipagem antes mesmo do algorito ser rodado.\n",
    "# !pip install mypy"
   ]
  },
  {
   "cell_type": "code",
   "execution_count": 75,
   "metadata": {},
   "outputs": [],
   "source": [
    "# Precisamos utilizar as anotacoes de tipo para criar funcoes e interfaces mais limpas\n",
    "from typing import Union\n",
    "\n",
    "def secretly_ugly_functio(value, operarion): ...\n",
    "\n",
    "def ugly_functio(value: int, operation: Union[str, int, float, bool]) -> int: ...\n"
   ]
  },
  {
   "cell_type": "code",
   "execution_count": 76,
   "metadata": {},
   "outputs": [
    {
     "name": "stdout",
     "output_type": "stream",
     "text": [
      "ok\n"
     ]
    }
   ],
   "source": [
    "# Como escrever anotacoes de tipo\n",
    "\n",
    "# Quando utilizamos tipos internos o tipo em si ja serve como anotaca, mas se tivermos passado uma lista\n",
    "def total(xs: list) -> float: \n",
    "    return sum(xs)\n",
    "\n",
    "# Podemos utilizar o modulo typing pois o mesmo possui muitos tipos parametrizados que podem ser uteis para fazermos isso:\n",
    "from typing import List\n",
    "\n",
    "def total2(xs: List[float]) -> float:\n",
    "    return sum(xs)\n",
    "\n",
    "print(\"ok\")"
   ]
  },
  {
   "cell_type": "code",
   "execution_count": 77,
   "metadata": {},
   "outputs": [],
   "source": [
    "# Para casos onde o tipo de dado nao e obvio podemos criar anotacoes de tipo com dicas de tipo em linha\n",
    "from typing import Optional\n",
    "values: List[int] = []\n",
    "best_so_far: Optional[float] = None # Pode ser um floar ou None"
   ]
  },
  {
   "cell_type": "code",
   "execution_count": 78,
   "metadata": {},
   "outputs": [],
   "source": [
    "# O modulo typing possui muitos tipos, porem usaremos alguns deles\n",
    "from typing import Dict, Iterable, Tuple\n",
    "\n",
    "# As chaves sao strings e os valores inteiros\n",
    "counts: Dict[str, int] = {'data': 1, 'science': 2}\n",
    "\n",
    "# As listas e geradores sao iteraveis\n",
    "# if lazy:\n",
    "#     evens: iterable[int] = (x for x in range(10) if x % 2 == 0)\n",
    "\n",
    "# else:\n",
    "#     evens = [0, 2, 4, 6, 8]\n",
    "\n",
    "# As tuplas especificam um tipo para cada elemento\n",
    "triple: Tuple[int, float, int] = (10, 2.3, 5)"
   ]
  },
  {
   "cell_type": "code",
   "execution_count": 79,
   "metadata": {},
   "outputs": [
    {
     "ename": "TypeError",
     "evalue": "'builtin_function_or_method' object is not subscriptable",
     "output_type": "error",
     "traceback": [
      "\u001b[1;31m---------------------------------------------------------------------------\u001b[0m",
      "\u001b[1;31mTypeError\u001b[0m                                 Traceback (most recent call last)",
      "\u001b[1;32m~\\AppData\\Local\\Temp\\3\\ipykernel_4168\\3017406084.py\u001b[0m in \u001b[0;36m<module>\u001b[1;34m\u001b[0m\n\u001b[0;32m      1\u001b[0m \u001b[1;31m# Com isso podemos gerar funcoes de primeira classe, para isso precisamos de um tipo para representa-las.\u001b[0m\u001b[1;33m\u001b[0m\u001b[1;33m\u001b[0m\u001b[0m\n\u001b[0;32m      2\u001b[0m \u001b[1;31m# Estamos gerando uma funcao que recebe dois argumento, uma string e um int, e retorna uma string=\u001b[0m\u001b[1;33m\u001b[0m\u001b[1;33m\u001b[0m\u001b[0m\n\u001b[1;32m----> 3\u001b[1;33m \u001b[1;32mdef\u001b[0m \u001b[0mtwice\u001b[0m\u001b[1;33m(\u001b[0m\u001b[0mrepeater\u001b[0m\u001b[1;33m:\u001b[0m \u001b[0mcallable\u001b[0m\u001b[1;33m[\u001b[0m\u001b[1;33m[\u001b[0m\u001b[0mstr\u001b[0m\u001b[1;33m,\u001b[0m \u001b[0mint\u001b[0m\u001b[1;33m]\u001b[0m\u001b[1;33m,\u001b[0m \u001b[0mstr\u001b[0m\u001b[1;33m]\u001b[0m\u001b[1;33m,\u001b[0m \u001b[0ms\u001b[0m\u001b[1;33m:\u001b[0m \u001b[0mstr\u001b[0m\u001b[1;33m)\u001b[0m \u001b[1;33m->\u001b[0m \u001b[0mstr\u001b[0m\u001b[1;33m:\u001b[0m\u001b[1;33m\u001b[0m\u001b[1;33m\u001b[0m\u001b[0m\n\u001b[0m\u001b[0;32m      4\u001b[0m     \u001b[1;32mreturn\u001b[0m \u001b[0mrepeater\u001b[0m\u001b[1;33m(\u001b[0m\u001b[0ms\u001b[0m\u001b[1;33m,\u001b[0m \u001b[1;36m2\u001b[0m\u001b[1;33m)\u001b[0m\u001b[1;33m\u001b[0m\u001b[1;33m\u001b[0m\u001b[0m\n\u001b[0;32m      5\u001b[0m \u001b[1;33m\u001b[0m\u001b[0m\n",
      "\u001b[1;31mTypeError\u001b[0m: 'builtin_function_or_method' object is not subscriptable"
     ]
    }
   ],
   "source": [
    "# Com isso podemos gerar funcoes de primeira classe, para isso precisamos de um tipo para representa-las.\n",
    "# Estamos gerando uma funcao que recebe dois argumento, uma string e um int, e retorna uma string=\n",
    "def twice(repeater: callable[[str, int], str], s: str) -> str:\n",
    "    return repeater(s, 2)\n",
    "\n",
    "def comma_repeater(s: str, n: int) -> str:\n",
    "    n_copies = [s for _ in range(n)]\n",
    "    return ','.join(n_copies)\n",
    "\n",
    "assert twice(comma_repeater, \"Tipe hints\") == \"type hints, type hints\""
   ]
  },
  {
   "cell_type": "code",
   "execution_count": 80,
   "metadata": {},
   "outputs": [],
   "source": [
    "# E como as anotacoes sao objetos podemos atribuilas a variaveis para facilitar as referencias as elas\n",
    "Number = int\n",
    "Numbers = List[Number]\n",
    "\n",
    "def total3(xs: Numbers) -> Number:\n",
    "    return sum(xs)\n",
    "\n"
   ]
  },
  {
   "cell_type": "markdown",
   "metadata": {},
   "source": [
    "## VISUALIZANDO DADOS"
   ]
  },
  {
   "cell_type": "markdown",
   "metadata": {},
   "source": [
    "##### A visualizacao de dados tem duas funcoes \n",
    "#### - A Exploracao de dados\n",
    "#### - E a Comunicacao com os dados\n"
   ]
  },
  {
   "cell_type": "code",
   "execution_count": 81,
   "metadata": {},
   "outputs": [
    {
     "data": {
      "image/png": "[encoded data removed]",
      "text/plain": [
       "<Figure size 640x480 with 1 Axes>"
      ]
     },
     "metadata": {},
     "output_type": "display_data"
    }
   ],
   "source": [
    "# O pyplot mantem um estado interno no qual podemos construir uma visualizacao passo a passo. Ao terminar, podemos salvar com savefig ou deixzala exibida no Output\n",
    "# Criando um grafico simples\n",
    "import matplotlib.pyplot as plt \n",
    "\n",
    "years = [1950, 1960, 1970, 1980, 1990, 2000, 2010]\n",
    "gdp = [300.2, 543.3, 1075.9, 2862.5, 5979.6, 10289.7, 14958.3]\n",
    "\n",
    "# Criando um grafico de linhas, anos no eixo x e, gdp no eixo y\n",
    "plt.plot(years, gdp, 'o-') # AS strings representam a forma dos marcadores\n",
    "plt.title(\"Nominal GDP\") # Criando um titulo \n",
    "plt.ylabel(\"Billions of $\") # Criando label do eixo Y\n",
    "plt.ylabel(\"Years\") # Criando label do eixo X\n",
    "plt.show() # Plotando o Grafico"
   ]
  },
  {
   "cell_type": "markdown",
   "metadata": {},
   "source": [
    "#### GRAFICOS DE BARRA"
   ]
  },
  {
   "cell_type": "code",
   "execution_count": 82,
   "metadata": {},
   "outputs": [
    {
     "data": {
      "image/png": "[encoded data removed]",
      "text/plain": [
       "<Figure size 640x480 with 1 Axes>"
      ]
     },
     "metadata": {},
     "output_type": "display_data"
    }
   ],
   "source": [
    "# Um conjunto de barras e uma opcao quando queremos mostrar a variaca de quantidade em um pequeno conjunto de itens\n",
    "\n",
    "movies = [\"Annie Hall\", \"Ben-Hur\", \"Casablanca\", \"Gandhi\", \"West Side Story\"]\n",
    "num_oscars = [5, 11, 3, 8, 10]\n",
    "\n",
    "plt.bar(range(len(movies)), num_oscars) # O eixo X sao os filmes e o eixo Y A contagem de premios\n",
    "plt.title(\"Filmes\") # Titulo\n",
    "plt.ylabel(\"Numeros de Oscars\") # label eixo y\n",
    "plt.xticks(range(len(movies)), movies) # Nomeando cada ticks do eixo X com o nome do filme\n",
    "plt.show()\n"
   ]
  },
  {
   "cell_type": "code",
   "execution_count": 83,
   "metadata": {},
   "outputs": [
    {
     "data": {
      "image/png": "[encoded data removed]",
      "text/plain": [
       "<Figure size 640x480 with 1 Axes>"
      ]
     },
     "metadata": {},
     "output_type": "display_data"
    }
   ],
   "source": [
    "# Podemos utilizar o grafico de barra plotar um histograma de valores numericos agrupados e representar visualmente a distribuicao dos valores\n",
    "from collections import Counter\n",
    "\n",
    "grades = [83, 95, 91, 87, 70, 0, 85, 82, 100, 67, 73, 77, 0]\n",
    "\n",
    "# Agrupando as notas por decil, mas colocando o 100 com o 90\n",
    "\n",
    "histogram = Counter(min(grade // 10 * 10, 90) for grade in grades)\n",
    "\n",
    "plt.bar([x + 5 for x in histogram.keys()], # Movendo as barras para a direita em 5\n",
    "        histogram.values(), # Atribuindo a altura correta para cada barra\n",
    "        10, # Atribuindo a largura de 10 para cada barra\n",
    "        edgecolor=(0, 0, 0)) # Escurecendo as bordas das barras\n",
    "plt.axis([-5, 105, 0, 5]) # Passando o eixo X de -5 a 105 e o eixo Y de 0 a 5\n",
    "plt.xticks([10 * i for i in range(11)]) # Label do eixo X indo de 10 em 10\n",
    "plt.xlabel(\"Decile\") # Label do eixo X\n",
    "plt.ylabel(\"Numeber od Students\") # label do eixo Y\n",
    "plt.title(\"Distribution of Exam first Grades\") # Titulo do grafico\n",
    "plt.show() # Plotando o grafico"
   ]
  },
  {
   "cell_type": "markdown",
   "metadata": {},
   "source": [
    "#### GRAFICOS DE LINHAS"
   ]
  },
  {
   "cell_type": "code",
   "execution_count": 84,
   "metadata": {},
   "outputs": [
    {
     "data": {
      "image/png": "[encoded data removed]",
      "text/plain": [
       "<Figure size 640x480 with 1 Axes>"
      ]
     },
     "metadata": {},
     "output_type": "display_data"
    }
   ],
   "source": [
    "# O modelo de grafico e uma boopcao para mostrar tendencias\n",
    "\n",
    "variance =  [1, 2, 4, 8, 16, 32, 64, 128, 256]\n",
    "bias_squared = [256, 128, 64, 32, 16, 8, 4, 2, 1]\n",
    "total_error = [x + y for x, y in zip(variance, bias_squared)]\n",
    "xs = [i for i , _ in enumerate(variance)]\n",
    "\n",
    "# Podemos fazer multiplas chamadas para plt.plot, para chamar multiplas series no mesmo grafico\n",
    "plt.plot(xs, variance, 'g-', label='Variance') # Linha verde solida\n",
    "plt.plot(xs, bias_squared, 'r-.', label='Bias²') # Linha vermelha de ponto tracejado\n",
    "plt.plot(xs, total_error, 'b:', label='Total Error') # Linha pontilhada azul\n",
    "\n",
    "plt.legend(loc=9) # Passando a legenda para Top Center\n",
    "plt.xlabel(\"Model complexity\")\n",
    "plt.xticks([]) # Passando uma lista vazia para nao haver nenhum valor para xticks\n",
    "plt.title(\"The Bias-Variance Tradeoff\")\n",
    "plt.show()"
   ]
  },
  {
   "cell_type": "code",
   "execution_count": 85,
   "metadata": {},
   "outputs": [
    {
     "data": {
      "image/png": "[encoded data removed]",
      "text/plain": [
       "<Figure size 640x480 with 1 Axes>"
      ]
     },
     "metadata": {},
     "output_type": "display_data"
    }
   ],
   "source": [
    "# O grafico de dispersao e uma opcao para representar as relacoes entre paraes de conjuntos de dados\n",
    "# Ilustrando a relacao entre o numero de amigos dos usuarios e o numero de minutos que eles passam no site\n",
    "friends = [ 70, 65, 72, 63, 71, 64, 60, 64, 67]\n",
    "minutes = [175, 170, 205, 120, 220, 130, 105, 145, 190]\n",
    "labels = ['a', 'b', 'c', 'd', 'e', 'f', 'g', 'h', 'i']\n",
    "\n",
    "plt.scatter(friends, minutes)\n",
    "# Rotulando cada ponto\n",
    "for label, friend_count, minute_count in zip(labels, friends, minutes):\n",
    "    plt.annotate(label, xy=(friend_count, minute_count), # Colocando um rotulo no seu respectivo ponto\n",
    "    xytext=(5, -5), # Mas levemente deslocado\n",
    "    textcoords='offset points')\n",
    "\n",
    "plt.title(\"Daily Minute Vs. Number of Friends\")\n",
    "plt.xlabel(\"Nº of Friends\")\n",
    "plt.ylabel(\"Daily minute spent on the site\")\n",
    "plt.show()"
   ]
  },
  {
   "cell_type": "markdown",
   "metadata": {},
   "source": [
    "## ALGEBRA LINEAR\n",
    "#### - A algebra e o ramo da matematica que calcula espacos vetorais"
   ]
  },
  {
   "cell_type": "markdown",
   "metadata": {},
   "source": [
    "#### VETORES\n",
    "##### Na teoria vetores sao objetos que podem ser somados ou multiplicados por escalares (como, por exemplo, numeros) para formar outros vetores\n",
    "##### Na pratica os vetores sao pontos em um espaco de dimensao finita.\n",
    "##### Por exemplo se tivermos as alturas, pesos e idades de muitas pessoas, podemos tratar esses dados como vetores tridimensionais [height, weight, age] "
   ]
  },
  {
   "cell_type": "code",
   "execution_count": 86,
   "metadata": {},
   "outputs": [],
   "source": [
    "# A abortagem mais simple e representa um vetor e como uma lista de numeros\n",
    "# Para isso, usaremos um alias de tipo indicando que um vetor e so uma list de floats\n",
    "\n",
    "from typing import List\n",
    "\n",
    "Vector = List[float] # CRIANDO A VARIAVEL VETOR PARA A ANOTACAO DE TIPO DO VETOR\n",
    "\n",
    "height_weight_age = [70, # polegadas\n",
    "                    107, # libras\n",
    "                    40] # anos\n",
    "grades = [95, # teste 1\n",
    "        80, # teste 2\n",
    "        75, # teste 3\n",
    "        62] # teste 4       \n"
   ]
  },
  {
   "cell_type": "code",
   "execution_count": 87,
   "metadata": {},
   "outputs": [],
   "source": [
    "# Como as listas em Python nao sao vetores, temos que construit essas ferramentas aritimeticas\n",
    "# Primeiro e necessario somar dois vetores, pois a soma ou adicao de vetores ocorre por componente. Ou seja, se os vetores v e w tiverem\n",
    "# o mesmo tamanho, a adicao produzira um vetor cujo primeiro elemento sera v[0] + w[0], cujo segundo elemento sera v[0] + w[0] e assim por diante\n",
    "# Nao podemos adicionar vetores de tamanhos diferentes\n",
    "\n",
    "# Forma de somar dois vetores\n",
    "def add_vetor(v: Vector, w: Vector) -> Vector:\n",
    "    \"\"\"Soma os elementos correspondentes\"\"\" \n",
    "    assert len(v) == len(w), \"Os vetores precisam possuir o mesmo tamanho\"\n",
    "    return [v_i + w_i for v_i, w_i in zip(v, w)]\n",
    "\n",
    "assert add_vetor([1, 2, 3], [4, 5, 6]) == [5, 7, 9]"
   ]
  },
  {
   "cell_type": "code",
   "execution_count": 88,
   "metadata": {},
   "outputs": [],
   "source": [
    "# Forma de subtrair dois vetores\n",
    "def subtract_vector(v: Vector, w: Vector) -> Vector:\n",
    "    \"\"\"Subtrai os elementos correspondentes\"\"\"\n",
    "    assert len(v) == len(w), \"Os vetores precisam possuir o mesmo tamanho\"\n",
    "    return [v_i - w_i for v_i, w_i in zip(v, w)]\n",
    "\n",
    "assert subtract_vector([5, 7, 9], [4, 5, 6,]) == [1, 2, 3]"
   ]
  },
  {
   "cell_type": "code",
   "execution_count": 89,
   "metadata": {},
   "outputs": [
    {
     "data": {
      "text/plain": [
       "[9, 12]"
      ]
     },
     "execution_count": 89,
     "metadata": {},
     "output_type": "execute_result"
    }
   ],
   "source": [
    "# Podem existir casos aonde seja preciso somar uma lista de vetores por componente. Para isso criaremos um vetos onde\n",
    "# o primeiro elemento seja a soma de todos os primeiros elementos, cujo o segundo elemento seja a soma de todos os \n",
    "# segundos elementos e assim por diante\n",
    "def vector_sum(vectors: List[Vector]) -> Vector:\n",
    "    \"\"\"Soma todos os elementos correspondentes\"\"\"\n",
    "    # Verificando se os valores nao estao vazios \n",
    "    assert vectors, \"Nenhum vetor fornecido\"\n",
    "    # Verificando se os vetores sao do mesmo tamanho\n",
    "    num_elements = len(vectors[0])\n",
    "    assert all(len(v) == num_elements for v in vectors), \"Vetores de tamanhos diferentes\"\n",
    "    # O elemento de nº i do resultado e a soma de todo vector[i]\n",
    "    return [sum(vector[i] for vector in vectors) for i in range(num_elements)]\n",
    "\n",
    "\n",
    "vector_sum([[1, 2], [3, 4], [5, 6]])\n",
    "\n"
   ]
  },
  {
   "cell_type": "code",
   "execution_count": 90,
   "metadata": {},
   "outputs": [
    {
     "data": {
      "text/plain": [
       "[3.0, 4.0]"
      ]
     },
     "execution_count": 90,
     "metadata": {},
     "output_type": "execute_result"
    }
   ],
   "source": [
    "# Multiplicar um vetor por um escalar, multiplicando cada elemento do vetor pelo numero em questao\n",
    "def scalar_multiply(c: float, v: Vector) -> Vector:\n",
    "    \"\"\"Multiplica cada elemento por c\"\"\"\n",
    "    return [c * v_i for v_i in v]\n",
    "\n",
    "scalar_multiply(0.3333333333333333, [9, 12])\n",
    " "
   ]
  },
  {
   "cell_type": "code",
   "execution_count": 91,
   "metadata": {},
   "outputs": [],
   "source": [
    "# Computar a media dos componentes de uma lista de vetores\n",
    "def vector_mean(vectors: List[Vector]) -> Vector:\n",
    "    \"\"\"Computa a media dos elementos\"\"\"\n",
    "    n = len(vectors)\n",
    "    return scalar_multiply(1/n, vector_sum(vectors))\n",
    "\n",
    "assert vector_mean([[1, 2], [3, 4], [5, 6]]) == [3, 4] # "
   ]
  },
  {
   "cell_type": "code",
   "execution_count": 92,
   "metadata": {},
   "outputs": [],
   "source": [
    "# Outra ferramenta e o produto escalar (dot product). O produto escalar de dois vetores e a soma dos produtos\n",
    "# por componentes \n",
    "def dot_product(v: Vector, w: Vector) -> float:\n",
    "    \"\"\"Computa v_1 * w_1 + ... + v_n * w_n\"\"\"\n",
    "    assert len(v) == len(w), \" Vetores precisam possui o mesmo tamanho\"\n",
    "    return sum(v_i * w_i for v_i, w_i in zip(v, w))\n",
    "\n",
    "assert dot_product([1, 2, 3], [4, 5, 6]) == 32 # Out 1 * 4 + 2 * 5 + 3 * 6\n",
    "\n",
    "# Quando w tem magnitude 1, o produto escalar mede a extensao do vetor v na direcao w. Em outras palavras, esse e\n",
    "# comprimento do vetor quando voce projeta v em w "
   ]
  },
  {
   "cell_type": "code",
   "execution_count": 93,
   "metadata": {},
   "outputs": [
    {
     "name": "stdout",
     "output_type": "stream",
     "text": [
      "Falhou\n"
     ]
    }
   ],
   "source": [
    "# Computar a soma dos quadrados de um vetor\n",
    "def sum_of_squares(v: Vector) -> float:\n",
    "    \"\"\"Retorna v_1 * v_1 + ... + v_n * v_n\"\"\"\n",
    "    return dot_product(v, v)\n",
    "\n",
    "try:\n",
    "    assert sum_of_squares([3, 4]) == 14 # 1 * 1 + 2 * 2 + 3 * 3\n",
    "\n",
    "except AssertionError:\n",
    "    print(\"Falhou\")"
   ]
  },
  {
   "cell_type": "code",
   "execution_count": 94,
   "metadata": {},
   "outputs": [],
   "source": [
    "# Podemos usar esse valor para computar a magnitude (ou comprimento) do vetor\n",
    "import math \n",
    "\n",
    "def magnitude(v: Vector) -> float:\n",
    "    \"\"\"Retorna a magnitude (ou comprimento) de v\"\"\"\n",
    "    return math.sqrt(sum_of_squares(v)) # Retornando a raiz quadrada do valor gerado pela sum_squares_vectors \n",
    "\n",
    "assert magnitude([3, 4]) == 5 # "
   ]
  },
  {
   "cell_type": "code",
   "execution_count": 95,
   "metadata": {},
   "outputs": [],
   "source": [
    "# Agora vamos computar a distancia entre os dois vetores\n",
    "def square_distance(v: Vector, w: Vector) -> float:\n",
    "    \"\"\"Computa (v_1 - w_1)² + ... + (v_n - w_n)²\"\"\"\n",
    "    return sum_of_squares(subtract_vector(v, w))\n",
    "\n",
    "def distance(v: Vector, w: Vector) -> float:\n",
    "    \"\"\"Computa a distancia entre v e w\"\"\"\n",
    "    return math.sqrt(square_distance(v, w))\n",
    "\n",
    "# Para melhor o desempenho podemos utilizar o NumPy que contem uma classe array de alto desempenho com diversas \n",
    "# operacoes aritimeticas\n"
   ]
  },
  {
   "cell_type": "markdown",
   "metadata": {},
   "source": [
    "#### MATRIZES"
   ]
  },
  {
   "cell_type": "code",
   "execution_count": 96,
   "metadata": {},
   "outputs": [],
   "source": [
    "# As matrizes sao colecoes bidimencionais de numeros. E as representaremos como listas de lista, as listas internar representaram as linhas da matriz e terao o mesmo tamanho\n",
    "# Se A e uma matriz, entao A[i][i] e o elemento que se encontra na i e na coluna i. Por convencao matematia usaremos letras maiusculas para representar matrizes na maioria das vezes\n",
    "\n",
    "# Criando a anotacao de tipo da matriz\n",
    "Matrix = List[List[float]]\n",
    "\n",
    "A = [[1, 2, 3], # A tem 2 linhas e 3 colunas\n",
    "     [4, 5, 6]]\n",
    "\n",
    "B = [[1, 2], # B tem 3 linhas e 2 colunas\n",
    "     [3, 4],\n",
    "     [5, 6]]"
   ]
  },
  {
   "cell_type": "code",
   "execution_count": 97,
   "metadata": {},
   "outputs": [],
   "source": [
    "# Como a Matriz A e representada por uma lista de listas, podemos considerar o shape da matriz como linhas len(A) e colunas len(A[0])\n",
    "from typing import Tuple\n",
    "\n",
    "def shape(A: Matrix) -> Tuple[int, int]:\n",
    "    \"\"\"Retorna (nº de linhas de A, nº de colunas de A)\"\"\"\n",
    "    num_rows = len(A)\n",
    "    num_cols = len(A[0]) # O numero de elementos na primeira linha\n",
    "    return num_rows, num_cols\n",
    "\n",
    "assert shape([[1, 2, 3], [4, 5, 6]]) == (2, 3) # 2 linhas e 3 colunas"
   ]
  },
  {
   "cell_type": "code",
   "execution_count": 98,
   "metadata": {},
   "outputs": [],
   "source": [
    "# Se a matriz tem n linhas e k colunas, dizemos que ela e uma matriz n x k. Podemos considerar cada linha \n",
    "# da matriz n x k como um vetor de comprimento k e cada coluna como um vetor de comprimento n\n",
    "\n",
    "def get_row(A: Matrix, i: int) -> Vector:\n",
    "    \"\"\"Retorna a linha i de A (como um Vector)\"\"\"\n",
    "    return A[i] # A[i] ja esta na linha i\n",
    "\n",
    "def get_column(A: Matrix, j: int) -> Vector:\n",
    "    \"\"\"Retorna a coluna j de A (como um Vector)\"\"\"\n",
    "    return [[A_i[j]] # Elemento j da linha A_i\n",
    "    for A_i in A] # para cada linha A_i"
   ]
  },
  {
   "cell_type": "code",
   "execution_count": 99,
   "metadata": {},
   "outputs": [],
   "source": [
    "# Criaremos matrizes, produzindo seus elementos a partir da sua forma e de uma funcao. Para isso usaremos uma \n",
    "# compreensao de lista aninhada\n",
    "from typing import Callable\n",
    "\n",
    "def make_matrix(num_rows: int, num_cols: int, entry_fn: Callable[[int, int], float]) -> Matrix:\n",
    "    \"\"\"Retorna uma matriz num_rows x num_cols cuja entrada (i,j) è entry_fn(i,j)\"\"\"\n",
    "    return [[entry_fn(i, j) # Com i, crie uma lista\n",
    "    for j in range(num_cols)] # [entry_fn(i, 0),...]\n",
    "    for i in range(num_rows)] # Crie uma lista para cada i\n"
   ]
  },
  {
   "cell_type": "code",
   "execution_count": 100,
   "metadata": {},
   "outputs": [
    {
     "data": {
      "text/plain": [
       "[[1, 0, 0, 0, 0],\n",
       " [0, 1, 0, 0, 0],\n",
       " [0, 0, 1, 0, 0],\n",
       " [0, 0, 0, 1, 0],\n",
       " [0, 0, 0, 0, 1]]"
      ]
     },
     "execution_count": 100,
     "metadata": {},
     "output_type": "execute_result"
    }
   ],
   "source": [
    "# Com a funcao de criacao de elementos podemos criar uma matriz de identidade 5 x 5\n",
    "\n",
    "def identity_matrix(n: int) -> Matrix:\n",
    "    \"\"\"Retorna a matriz de identidade n x n\"\"\"\n",
    "    return make_matrix(n, n, lambda i, j: 1 if i == j else 0)\n",
    "\n",
    "identity_matrix(5)"
   ]
  },
  {
   "cell_type": "markdown",
   "metadata": {},
   "source": [
    "##### UTILIZAREMOS AS MATRIZES DE VARIAS FORMAS"
   ]
  },
  {
   "cell_type": "markdown",
   "metadata": {},
   "source": [
    "\n",
    "##### - Primeiro, podemos usar uma matriz para representar um conjunto de dados com multiplos vetores, considerando cada vetor como uma linha da matriz. Por exemplo, temos a altura, peso e a idade de mil pessoas e colocamos esses dados em uma matriz 1000 x 3\n"
   ]
  },
  {
   "cell_type": "markdown",
   "metadata": {},
   "source": [
    "##### - Segundo, podemos usar uma matriz n x k para representar uma funcao linear que mapeia vetores dimensionais k com relacao a vetores dimensionais n. Essas funcoes itegram varias tecnicas e conceitos que utilizaremos."
   ]
  },
  {
   "cell_type": "markdown",
   "metadata": {},
   "source": [
    "##### - Terceiro, as matrizes podem representar relacoes binarias.  No capitulo 1, representamos as extremidades de uma rede como uma colecao de pares (i, j). Como alternativa, e ppossivel criar uma matriz A em que A[i][i] sera igual a (se os nós i e j estiverem conectados) ou 0 (nos outros casos)."
   ]
  },
  {
   "cell_type": "code",
   "execution_count": 101,
   "metadata": {},
   "outputs": [],
   "source": [
    "# Antes a situacao era assim\n",
    "friendships = [(0, 1), (0, 2), (1, 2), (1, 3), (2, 3), (3, 4), (4, 5), (5, 6), (5, 7), (6, 8), (7, 8), (8, 9)]\n",
    "\n",
    "# Tambem podemos representar isso da seguinte forma\n",
    "# Usuario 0 1 2 3 4 5 6 7 8 9\n",
    "\n",
    "friend_matrix = [[0, 1, 1, 0, 0, 0, 0, 0, 0, 0], # usuário 0\n",
    "[1, 0, 1, 1, 0, 0, 0, 0, 0, 0], # usuário 1\n",
    "[1, 1, 0, 1, 0, 0, 0, 0, 0, 0], # usuário 2\n",
    "[0, 1, 1, 0, 1, 0, 0, 0, 0, 0], # usuário 3\n",
    "[0, 0, 0, 1, 0, 1, 0, 0, 0, 0], # usuário 4\n",
    "[0, 0, 0, 0, 1, 0, 1, 1, 0, 0], # usuário 5\n",
    "[0, 0, 0, 0, 0, 1, 0, 0, 1, 0], # usuário 6\n",
    "[0, 0, 0, 0, 0, 1, 0, 0, 1, 0], # usuário 7\n",
    "[0, 0, 0, 0, 0, 0, 1, 1, 0, 1], # usuário 8\n",
    "[0, 0, 0, 0, 0, 0, 0, 0, 1, 0]] # usuário 9\n",
    "\n"
   ]
  },
  {
   "cell_type": "code",
   "execution_count": 102,
   "metadata": {},
   "outputs": [
    {
     "data": {
      "text/plain": [
       "[4, 6, 7]"
      ]
     },
     "execution_count": 102,
     "metadata": {},
     "output_type": "execute_result"
    }
   ],
   "source": [
    "# Podemos encontrar conexoes de um no, basta inspecionar a coluna ou a linha correspondente a ele\n",
    "frind_of_five = [i for i, is_friend in enumerate(friend_matrix[5]) if is_friend]\n",
    "\n",
    "frind_of_five"
   ]
  },
  {
   "cell_type": "markdown",
   "metadata": {},
   "source": [
    "## ESTATISTICA\n",
    "\n",
    "##### A estatisca e uma foram de usarmos conceitos e tecnicas da matematica para compreender os dados"
   ]
  },
  {
   "cell_type": "markdown",
   "metadata": {},
   "source": [
    "#### DESCREVENDO UM CONJUNTO DE DADOS"
   ]
  },
  {
   "cell_type": "markdown",
   "metadata": {},
   "source": [
    "##### De certa forma utilizamos a estatistica para sintetizar e comunicar os aspectos mais relevantes dos dados"
   ]
  },
  {
   "cell_type": "code",
   "execution_count": 103,
   "metadata": {},
   "outputs": [
    {
     "data": {
      "image/png": "[encoded data removed]",
      "text/plain": [
       "<Figure size 640x480 with 1 Axes>"
      ]
     },
     "metadata": {},
     "output_type": "display_data"
    }
   ],
   "source": [
    "# Podemos colocar a contagem de amigos em um histograma usando o Counter e plt.bar\n",
    "\n",
    "from collections import Counter\n",
    "import matplotlib.pyplot as plt\n",
    "%matplotlib inline\n",
    "\n",
    "# Contando a quantidade vezes que cada numero apareceu na lista \n",
    "friend_counts = Counter(num_friends)\n",
    "\n",
    "# Criando os dados para o Histograma\n",
    "xs = range(101)\n",
    "ys = [friend_counts[x] for x in xs]\n",
    "\n",
    "# Gerando o Histograma\n",
    "plt.bar(xs, ys)\n",
    "plt.axis([0, 101, 0, 25]) # Passando os tamanho de cada Axis x = 0, 100 e y = 0, 25\n",
    "plt.title(\"Histogram of Friends Counts\")\n",
    "plt.xlabel(\"Nº of Friends\")\n",
    "plt.ylabel(\"Nº of People\")\n",
    "plt.show()\n"
   ]
  },
  {
   "cell_type": "markdown",
   "metadata": {},
   "source": [
    "##### Agora vamos gerar estatisticas com base nos dados que possuimos "
   ]
  },
  {
   "cell_type": "code",
   "execution_count": 104,
   "metadata": {},
   "outputs": [],
   "source": [
    "# Pegando o tamanho total da lista de amigos\n",
    "num_points = len(num_friends)\n",
    "\n",
    "# Pegando o maior e menor numero\n",
    "largest_value = max(num_friends) # Out 100\n",
    "smallest_value = min(num_friends) # Out 1\n",
    "\n",
    "# Pegando valores especificos \n",
    "sorted_values = sorted(num_friends) # Organiza do menor para o meior\n",
    "smallest_sorted = sorted_values[0] # Out 1 # Pegando o primeiro numero da lista organizada\n"
   ]
  },
  {
   "cell_type": "markdown",
   "metadata": {},
   "source": [
    "#### TENDENCIAS CENTRAIS"
   ]
  },
  {
   "cell_type": "code",
   "execution_count": 105,
   "metadata": {},
   "outputs": [
    {
     "data": {
      "text/plain": [
       "7.333333333333333"
      ]
     },
     "execution_count": 105,
     "metadata": {},
     "output_type": "execute_result"
    }
   ],
   "source": [
    "# Normalmente quando queremos ter nocao do ponto central dos dados, utilizamos a media. que consiste na soma dos dados \n",
    "# e dividida pela sua contagem\n",
    "def mean(xs: List[float]) -> float:\n",
    "    \"\"\"Retorna a soma dos dados dividida pela sua contagem\"\"\"\n",
    "    return sum(xs) / len(xs)\n",
    "\n",
    "mean(num_friends) # Out 7.333333"
   ]
  },
  {
   "cell_type": "markdown",
   "metadata": {},
   "source": [
    "##### Quando temos dois pontos de dados, a media e o ponto que fica no meio deles. A medida que vamos adicionando pontos a media vai se movendo, mas sempre depende do valor de cada ponto\n",
    "##### Tambem podemos calcular a mediana, que corresponde ao valor do meio (quando o numero de pontos de dados e impar), ou a media dos dois valores do meio (quando o numero de pontos de dados e par)\n",
    "##### Por exemplo, quando temos um vetor com cinco pontos de dados classificado x, a mediana e x[2]. Quando temos seis pontos de dados, ela e a media de x[2] (o terceiro ponto) e x[3] (o quarto ponto)"
   ]
  },
  {
   "cell_type": "code",
   "execution_count": 106,
   "metadata": {},
   "outputs": [
    {
     "name": "stdout",
     "output_type": "stream",
     "text": [
      "6.0\n"
     ]
    }
   ],
   "source": [
    "# Criando funcoes para os numeros pares e impares e combinalas\n",
    "# O sublinhado indica que a funcao e privada, pois so deve ser chamada pela funcao median\n",
    "def _median_odd(xs: List[float]) -> float: \n",
    "    \"\"\"Se len(xs) for impar, a mediana seta o elemento do meio\"\"\"\n",
    "    return sorted(xs)[len(xs) // 2]\n",
    "\n",
    "def _media_even(xs: List[float]) -> float:\n",
    "    \"\"\"Se len(xs) for par, ela sera a media dos dois elementos do meio\"\"\"\n",
    "    sorted_xs = sorted(xs)\n",
    "    hi_midpoint = len(xs) // 2 # Ex. comprimento 4 => hi_midpoint 2\n",
    "    return (sorted_xs[hi_midpoint - 1] + sorted_xs[hi_midpoint]) / 2\n",
    "\n",
    "def median(v: List[float]) -> float:\n",
    "    \"\"\"Encontra o valor do meio em v\"\"\"\n",
    "    return _media_even(v) if len(v) % 2 == 0 else _median_odd(v)\n",
    "\n",
    "# Exemplo com numeros de pontos impar\n",
    "assert median([1, 5, 9, 2, 10]) == 5 \n",
    "\n",
    "# Exemplo com numero de pontos pares\n",
    "assert median([1, 9, 2, 10]) == (2 + 9) /2\n",
    "\n",
    "# Agora podemos computar a mediana do numero de amigos\n",
    "print(median(num_friends)) # Out 6"
   ]
  },
  {
   "cell_type": "code",
   "execution_count": 107,
   "metadata": {},
   "outputs": [],
   "source": [
    "# Uma generalizacao da mediana e o quantil, um valor que separa uma determinada porcentagem dos dados (a mediana separa 50% dos dados)\n",
    "def quantile(xs: List[float], p: float) -> float:\n",
    "    \"\"\"Retorna o valor pth-percentile em x\"\"\"\n",
    "    p_index = int(p * len(xs))\n",
    "    return sorted(xs)[p_index]\n",
    "\n",
    "assert quantile(num_friends, 0.10) == 1 # O quantil e de 10% da lista de amigos\n",
    "assert quantile(num_friends, 0.25) == 3 # O quantil e de 25% da lista de amigos"
   ]
  },
  {
   "cell_type": "code",
   "execution_count": 108,
   "metadata": {},
   "outputs": [],
   "source": [
    "# Uma forma um pouco incomun, porém podemos calcular a moda, os valores mais frequentes\n",
    "def mode(x: List[float]) -> List[float]:\n",
    "    \"\"\"Retorna uma lista, pois pode haver mais de uma moda\"\"\"\n",
    "    counts = Counter(x)\n",
    "    max_count = max(counts.values())\n",
    "    return [x_i for x_i, count in counts.items() if count == max_count] \n",
    "\n",
    "assert set(mode(num_friends)) == {1, 6}\n"
   ]
  },
  {
   "cell_type": "markdown",
   "metadata": {},
   "source": [
    "#### DISPERSAO"
   ]
  },
  {
   "cell_type": "code",
   "execution_count": 109,
   "metadata": {},
   "outputs": [],
   "source": [
    "# A dispersao expressa a medida da distribuica dos dados. Em geral os valores proximos de zero indicam que os dados nao estao \n",
    "# espalhados e os valores maiores indicam dados muito espalhados. Por exemplo a diferenca entre o maior e o menor elemento.\n",
    "def d_range(xs: List[float]) -> float:\n",
    "    \"\"\"Retorna o valor entre o maior e o menor elemento\"\"\"\n",
    "    return max(xs) - min(xs)\n",
    "\n",
    "assert d_range(num_friends) == 99"
   ]
  },
  {
   "cell_type": "code",
   "execution_count": 110,
   "metadata": {},
   "outputs": [],
   "source": [
    "# Uma medida de dispercao mais complexa e a variancia, computada da seguinte forma\n",
    "def de_mean(xs: List[float]) -> List[float]:\n",
    "    \"\"\"Traduza xs subtraindo sua media (para que o resultado tenha media 0)\"\"\"\n",
    "    x_bar = mean(xs)\n",
    "    return [x - x_bar for x in xs]\n",
    "\n",
    "def variance(xs: List[float]) -> float:\n",
    "    \"\"\"Quase o desvio quadrado medio da media\"\"\"\n",
    "    assert len(xs) >= 2, \"Variance requires at least two elements\"\n",
    "    n = len(xs)\n",
    "    deviations = de_mean(xs)\n",
    "    return sum_of_squares(deviations) / (n - 1)\n",
    "\n",
    "try:\n",
    "    assert 81.54 < variance(num_friends) < 81.55\n",
    "except NameError:\n",
    "    print(\"Bugando no Nome da funcao: 'sum_of_squares'\")\n"
   ]
  },
  {
   "cell_type": "code",
   "execution_count": 111,
   "metadata": {},
   "outputs": [],
   "source": [
    "# Calculando o desvio padrao\n",
    "import math\n",
    "\n",
    "def standard_deviation(xs: List[float]) -> float:\n",
    "    \"\"\"O desvio-padrao e a raiz quadrada da variancia\"\"\"\n",
    "    return math.sqrt(variance(xs))\n",
    "\n",
    "try:\n",
    "    assert 9.02 < standard_deviation(num_friends) < 9.04\n",
    "\n",
    "except NameError:\n",
    "    print(\"Bugando no Nome da funcao: 'sum_of_squares'\")"
   ]
  },
  {
   "cell_type": "code",
   "execution_count": 112,
   "metadata": {},
   "outputs": [],
   "source": [
    "# O problema da media com os outiliers tambem atinge a amplitude e o desvio-padrao. uma alternativa mais eficiente computa a diferenca \n",
    "# entre o valor do 75º percentil e o valor do 25º percentil\n",
    "def interquartile_range(xs: List[float]) -> float:\n",
    "    \"\"\"Retorna a diferenca entre o percentil 75% e o percentil 25%\"\"\"\n",
    "    return quantile(xs, 0.75) - quantile(xs, 0.25)\n",
    "\n",
    "try:\n",
    "    assert interquartile_range(num_friends) == 6\n",
    "\n",
    "except AssertionError:\n",
    "    print(\"Falhou\")"
   ]
  },
  {
   "cell_type": "markdown",
   "metadata": {},
   "source": [
    "#### CORRELACAO"
   ]
  },
  {
   "cell_type": "code",
   "execution_count": 123,
   "metadata": {},
   "outputs": [],
   "source": [
    "# Analisaremos a covariancia, um tipo de variancia aplicada a pares, a covariancia mede a variacao simultanea de duas variaveis em relacao a media\n",
    "def covariance(xs: List[float], ys: List[float]) -> float:\n",
    "    assert len(xs) == len(ys), \"xs and ys must have same number of elements\"\n",
    "    return dot_product(de_mean(xs), de_mean(ys)) / (len(xs) - 1)\n",
    "\n",
    "# Utilizando o Try and except para nao travar o carner com erros pequenos oe esperados\n",
    "try:\n",
    "    assert 22.42 < covariance(num_friends, daily_minutes) < 22.43\n",
    "except AssertionError:\n",
    "    print(\"Falhou\")\n",
    "    \n",
    "try:\n",
    "    assert 22.42 / 60 < covariance(num_friends, daily_hours) < 22.43 / 60\n",
    "except AssertionError:\n",
    "    print(\"Falhou\")"
   ]
  },
  {
   "cell_type": "markdown",
   "metadata": {},
   "source": [
    "##### Quando os elementos correspondentes de x e y estão acima ou abaixo das suas médias, um número positivo entra na soma. Quando um valor está acima da sua média e o outro está abaixo, um número negativo entra na soma. Logo, uma covariância positiva “alta” indica que x tende a ser alto quando y é alto, e baixo quando y baixo. Uma covariância negativa “alta” indica o oposto — que x tende a ser baixo quando y é alto e vice-versa. Uma covariância próxima de zero indica que essa relação não existe."
   ]
  },
  {
   "cell_type": "code",
   "execution_count": 133,
   "metadata": {},
   "outputs": [],
   "source": [
    "# Por isso e mais comum calcular a correlacao, que divide os descios-padrao das duas variaveis\n",
    "\n",
    "def correlation(xs: List[float], ys: List[float]) -> float:\n",
    "    \"\"\"Mede a variacao simultanea de xs e ys a partir das suas medias\"\"\"\n",
    "    stdev_x = standard_deviation(xs)\n",
    "    stdev_y = standard_deviation(ys)\n",
    "    \n",
    "    if stdev_x > 0 and stdev_y > 0:\n",
    "        return covariance(xs, ys) / stdev_x / stdev_y\n",
    "    else:\n",
    "        return 0 # Se nao houver variacao a corelacao e 0\n",
    "    \n",
    "assert 0.24 < correlation(num_friends, daily_minutes) < 0.25\n",
    "assert 0.24 < correlation(num_friends, daily_hours) < 0.25"
   ]
  },
  {
   "cell_type": "code",
   "execution_count": 143,
   "metadata": {},
   "outputs": [
    {
     "data": {
      "image/png": "[encoded data removed]",
      "text/plain": [
       "<Figure size 640x480 with 1 Axes>"
      ]
     },
     "metadata": {},
     "output_type": "display_data"
    }
   ],
   "source": [
    "# Correlatio nao possui unidade e sempre fica entre -1 (anticorrelacao perfeita) e 1 (correlacao perfeita)\n",
    "# Exibindo os dados com os outlier\n",
    "x_co = num_friends\n",
    "y_co = daily_minutes\n",
    "\n",
    "plt.scatter(x_co, y_co)\n",
    "plt.axis([0, 101, 0, 100])\n",
    "plt.title(\"Correlacao entre Nº de Amigoas & Minutos por Dia (Com Outliers)\")\n",
    "plt.xlabel(\"Nº Amigos\")\n",
    "plt.ylabel(\"Minutos por Dia\")\n",
    "plt.show()"
   ]
  },
  {
   "cell_type": "code",
   "execution_count": 145,
   "metadata": {},
   "outputs": [
    {
     "data": {
      "image/png": "[encoded data removed]",
      "text/plain": [
       "<Figure size 640x480 with 1 Axes>"
      ]
     },
     "metadata": {},
     "output_type": "display_data"
    }
   ],
   "source": [
    "# Exculindo o Outlier dos dados \n",
    "outlier = num_friends.index(100) # indice do outlier\n",
    "num_friends_good = [x for i, x in enumerate(num_friends) if i != outlier]\n",
    "daily_minutes_good = [x for i, x in enumerate(daily_minutes) if i != outlier]\n",
    "daily_hours_good = [dm / 60 for dm in daily_minutes_good]\n",
    "\n",
    "try:\n",
    "    assert 0.57 < correlation(num_friends_good, daily_minutes_good) < 0.58\n",
    "    assert 0.57 < correlation(num_friends_good, daily_hours_good) < 0.58\n",
    "    \n",
    "except AssertionError:\n",
    "    print(\"Falhou\")\n",
    "    \n",
    "# Gerando o Grafico dos dados acima\n",
    "plt.scatter(num_friends_good, daily_minutes_good)\n",
    "plt.axis([0, 101, 0, 100])\n",
    "plt.title(\"Correlacao entre Nº de Amigoas & Minutos por Dia (Sem Outliers)\")\n",
    "plt.xlabel(\"Nº Amigos\")\n",
    "plt.ylabel(\"Minutos por Dia\")\n",
    "plt.show()"
   ]
  },
  {
   "cell_type": "code",
   "execution_count": 176,
   "metadata": {},
   "outputs": [
    {
     "data": {
      "text/plain": [
       "[Text(0.5, 0, 'Nº Amigos')]"
      ]
     },
     "execution_count": 176,
     "metadata": {},
     "output_type": "execute_result"
    },
    {
     "data": {
      "image/png": "[encoded data removed]",
      "text/plain": [
       "<Figure size 640x480 with 2 Axes>"
      ]
     },
     "metadata": {},
     "output_type": "display_data"
    }
   ],
   "source": [
    "# Gerando um grafico de dispersao Comparando o grafico com os Outliers e sem\n",
    "\n",
    "# Gerando os sub plots\n",
    "fig, (ax1, ax2) = plt.subplots(1, 2)\n",
    "fig.suptitle(\"Comparacao de Outliers\")\n",
    "\n",
    "# Com Outliers\n",
    "ax1.set_title('Com Outliers')\n",
    "ax1.scatter(num_friends, daily_minutes) \n",
    "ax1.set(xlabel='Nº Amigos', ylabel='Minutos por Dia')\n",
    "\n",
    "\n",
    "# Sem Outliers\n",
    "ax2.set_title('Sem Outliers')\n",
    "ax2.scatter(num_friends_good, daily_minutes_good)\n",
    "ax2.set(xlabel='Nº Amigos')\n"
   ]
  }
 ],
 "metadata": {
  "colab": {
   "authorship_tag": "ABX9TyMucWGSyFdKtpALJotSp31a",
   "collapsed_sections": [],
   "include_colab_link": true,
   "provenance": []
  },
  "kernelspec": {
   "display_name": "Python 3 (ipykernel)",
   "language": "python",
   "name": "python3"
  },
  "language_info": {
   "codemirror_mode": {
    "name": "ipython",
    "version": 3
   },
   "file_extension": ".py",
   "mimetype": "text/x-python",
   "name": "python",
   "nbconvert_exporter": "python",
   "pygments_lexer": "ipython3",
   "version": "3.9.13"
  },
  "toc-showcode": true,
  "toc-showtags": false
 },
 "nbformat": 4,
 "nbformat_minor": 4
}
