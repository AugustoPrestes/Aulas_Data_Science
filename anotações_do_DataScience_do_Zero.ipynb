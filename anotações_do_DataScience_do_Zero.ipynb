{
 "cells": [
  {
   "cell_type": "markdown",
   "metadata": {
    "colab_type": "text",
    "id": "view-in-github"
   },
   "source": [
    "<a href=\"https://colab.research.google.com/github/AugustoPrestes/Aulas_Data_Science/blob/main/anota%C3%A7%C3%B5es_do_DataScience_do_Zero.ipynb\" target=\"_parent\"><img src=\"https://colab.research.google.com/assets/colab-badge.svg\" alt=\"Open In Colab\"/></a>"
   ]
  },
  {
   "cell_type": "markdown",
   "metadata": {
    "id": "OxwDurvvfyxn"
   },
   "source": [
    "# Data Science do Zero \n",
    "### Anotações"
   ]
  },
  {
   "cell_type": "markdown",
   "metadata": {
    "id": "-sopLroElEaD"
   },
   "source": [
    "### Encontrando Conectores-Chave"
   ]
  },
  {
   "cell_type": "code",
   "execution_count": 1,
   "metadata": {
    "colab": {
     "base_uri": "https://localhost:8080/"
    },
    "id": "RHU4WtCmfxvM",
    "outputId": "146eec0f-4732-4ce3-ad44-c06e86d1f9a4"
   },
   "outputs": [
    {
     "name": "stdout",
     "output_type": "stream",
     "text": [
      "ok\n"
     ]
    }
   ],
   "source": [
    "#@title Texto de título padrão\n",
    "# Recebendo os dados dos usuarios\n",
    "users = [\n",
    "{ \"id\": 0, \"name\": \"Hero\"},\n",
    "{ \"id\": 1, \"name\": \"Dunn\"},\n",
    "{ \"id\": 2, \"name\": \"Sue\"},\n",
    "{ \"id\": 3, \"name\": \"Chi\"},\n",
    "{ \"id\": 4, \"name\": \"Thor\"},\n",
    "{ \"id\": 5, \"name\": \"Clive\"},\n",
    "{ \"id\": 6, \"name\": \"Hicks\"},\n",
    "{ \"id\": 7, \"name\": \"Devin\"},\n",
    "{ \"id\": 8, \"name\": \"Kate\"},\n",
    "{ \"id\": 9, \"name\": \"Klein\"}]\n",
    "\n",
    "# Recebendo as conexões de amizades\n",
    "friendship_pairs = [(0, 1), (0, 2), (1, 2), (1, 3), (2, 3), (3, 4),(4, 5), (5, 6), (5, 7), (6, 8), (7, 8), (8, 9)]\n",
    "\n",
    "# Recebendo os interesses dos usuarios\n",
    "interests = [\n",
    "(0, \"Hadoop\"), (0, \"Big Data\"), (0, \"HBase\"), (0, \"Java\"), \n",
    "(0, \"Spark\"), (0, \"Storm\"), (0, \"Cassandra\"), (1, \"NoSQL\"), \n",
    "(1, \"MongoDB\"), (1, \"Cassandra\"), (1, \"HBase\"), (1, \"Postgres\"), \n",
    "(2, \"Python\"), (2, \"scikit-learn\"), (2, \"scipy\"), (2, \"numpy\"), \n",
    "(2, \"statsmodels\"), (2, \"pandas\"), (3, \"R\"), (3, \"Python\"),\n",
    "(3, \"statistics\"), (3, \"regression\"), (3, \"probability\"), (4, \"machine learning\"), \n",
    "(4, \"regression\"), (4, \"decision trees\"), (4, \"libsvm\"), (5, \"Python\"), \n",
    "(5, \"R\"), (5, \"Java\"), (5, \"C++\"), (5, \"Haskell\"), \n",
    "(5, \"programming languages\"), (6, \"statistics\"), (6, \"probability\"), (6, \"mathematics\"), \n",
    "(6, \"theory\"), (7, \"machine learning\"), (7, \"scikit-learn\"), (7, \"Mahout\"),\n",
    "(7, \"neural networks\"), (8, \"neural networks\"), (8, \"deep learning\"), (8, \"Big Data\"), \n",
    "(8, \"artificial intelligence\"), (9, \"Hadoop\"), (9, \"Java\"), (9, \"MapReduce\"), (9, \"Big Data\")\n",
    "]\n",
    "\n",
    "# Recebendo a informacao de salario e de experiencia dos usuarios de forma anonima\n",
    "\n",
    "salaries_and_tenures = [(83000, 8.7), (88000, 8.1), (48000, 0.7), (76000, 6), (69000, 6.5), (76000, 7.5), (60000, 2.5), (83000, 10), (48000, 1.9), (63000, 4.2)]\n",
    "\n",
    "print(\"ok\")"
   ]
  },
  {
   "cell_type": "code",
   "execution_count": 2,
   "metadata": {
    "colab": {
     "base_uri": "https://localhost:8080/"
    },
    "id": "pOb5ozlxljJ3",
    "outputId": "9aa73cb2-26f0-477d-ac12-86b2c5de167e",
    "scrolled": true
   },
   "outputs": [
    {
     "name": "stdout",
     "output_type": "stream",
     "text": [
      "{0: [], 1: [], 2: [], 3: [], 4: [], 5: [], 6: [], 7: [], 8: [], 9: []}\n"
     ]
    }
   ],
   "source": [
    "# Criando um dict com dict compreenshion\n",
    "friendships = {user['id']: [] for user in users}\n",
    "\n",
    "print(friendships)"
   ]
  },
  {
   "cell_type": "code",
   "execution_count": 3,
   "metadata": {
    "colab": {
     "base_uri": "https://localhost:8080/"
    },
    "id": "S60TyBGXnp6P",
    "outputId": "9a373f18-906f-4a8b-c38e-f61659abbd14"
   },
   "outputs": [
    {
     "name": "stdout",
     "output_type": "stream",
     "text": [
      "{0: [1, 2], 1: [0, 2, 3], 2: [0, 1, 3], 3: [1, 2, 4], 4: [3, 5], 5: [4, 6, 7], 6: [5, 8], 7: [5, 8], 8: [6, 7, 9], 9: [8]}\n"
     ]
    }
   ],
   "source": [
    "# Identificando os pares dos amigos e unindo conforme a juncao da lista friendship_pairs\n",
    "for i, j in friendship_pairs:\n",
    "    friendships[i].append(j) # Adicionando o j como amigo do i\n",
    "    friendships[j].append(i) # Adicionando o i como amigo do j\n",
    "\n",
    "print(friendships)"
   ]
  },
  {
   "cell_type": "code",
   "execution_count": 4,
   "metadata": {
    "colab": {
     "base_uri": "https://localhost:8080/"
    },
    "id": "TIj1WgCxoliP",
    "outputId": "4b6c8922-db70-48b2-b104-5d0ee46feab1"
   },
   "outputs": [
    {
     "data": {
      "text/plain": [
       "2.4"
      ]
     },
     "execution_count": 4,
     "metadata": {},
     "output_type": "execute_result"
    }
   ],
   "source": [
    "# PRIMEIRA PERGUNTA 1- QUAL O NUMERO MEDIO DE AMIGOS\n",
    "\n",
    "# Primeiro precisamos saber o numero total de conexoes\n",
    "def number_friends(user):\n",
    "    \"\"\" Verificando quantos frinds cada user possui \"\"\"\n",
    "    user_id = user['id']\n",
    "    friend_ids = friendships[user_id]\n",
    "    return len(friend_ids)\n",
    "\n",
    "# Somando todas as conexoes \n",
    "total_connections = sum(number_friends(user) for user in users) # total_connection == 24\n",
    "\n",
    "# Agora para saber a media de conexoes vamos dividir pelo numero de users \n",
    "num_users = len(users)\n",
    "avg_connections = total_connections / num_users\n",
    "\n",
    "avg_connections"
   ]
  },
  {
   "cell_type": "code",
   "execution_count": 5,
   "metadata": {
    "colab": {
     "base_uri": "https://localhost:8080/"
    },
    "id": "u8Ej6dLhrUeJ",
    "outputId": "cc11777b-24e9-4eaf-a0a9-0076c69791ea"
   },
   "outputs": [
    {
     "data": {
      "text/plain": [
       "[(1, 3),\n",
       " (2, 3),\n",
       " (3, 3),\n",
       " (5, 3),\n",
       " (8, 3),\n",
       " (0, 2),\n",
       " (4, 2),\n",
       " (6, 2),\n",
       " (7, 2),\n",
       " (9, 1)]"
      ]
     },
     "execution_count": 5,
     "metadata": {},
     "output_type": "execute_result"
    }
   ],
   "source": [
    "#   SEGUNDA PERGUNTA 2- COMO ORDERNAR AS PESSOAS MAIS CONECTADAS\n",
    "\n",
    "# Passando a quantidade de conexoes de cada user\n",
    "num_friends_by_id = [(user['id'], number_friends(user)) for user in users]\n",
    "\n",
    "# Classificando a lista do maior para o menor, utilizando a funcao lambda\n",
    "num_friends_by_id.sort(key=lambda id_and_friends: id_and_friends[1], reverse=True)\n",
    "\n",
    "num_friends_by_id # Cada par da dupla e (user_id, num_friends)"
   ]
  },
  {
   "cell_type": "code",
   "execution_count": 6,
   "metadata": {
    "colab": {
     "base_uri": "https://localhost:8080/"
    },
    "id": "aZ39KLUXvXv-",
    "outputId": "aa300d67-efed-4d91-af9c-3a2482c2ce7c"
   },
   "outputs": [
    {
     "data": {
      "text/plain": [
       "[0, 2, 3, 0, 1, 3]"
      ]
     },
     "execution_count": 6,
     "metadata": {},
     "output_type": "execute_result"
    }
   ],
   "source": [
    "#   TERCEIRA PERGUNTA 3- COMO ENCOTRAR AMIGOS DE AMIGOS\n",
    "\n",
    "# Funcao para iterar os amigos e os amigos desses amigos\n",
    "def foaf_ids_bad(user):\n",
    "    \"\"\"foaf significa \"friend of friend\" ou amigo de amigo\"\"\"\n",
    "    return [foaf_id for friend_id in friendships[user[\"id\"]] for foaf_id in friendships[friend_id]]\n",
    "\n",
    "# VErificando o FOAF do user id[0]\n",
    "foaf_ids_bad(users[0])"
   ]
  },
  {
   "cell_type": "code",
   "execution_count": 7,
   "metadata": {
    "colab": {
     "base_uri": "https://localhost:8080/"
    },
    "id": "hQh1UKuZyH9J",
    "outputId": "6ac10763-d988-4b65-9c4c-ff539ce065fe"
   },
   "outputs": [
    {
     "data": {
      "text/plain": [
       "Counter({3: 2})"
      ]
     },
     "execution_count": 7,
     "metadata": {},
     "output_type": "execute_result"
    }
   ],
   "source": [
    "#   QUARTA PERGUNTA 4- COMO ENCOTRAR AMIGOS DE AMIGOS SEM RETORNAR O AMIGO CONHECIDO\n",
    "\n",
    "from collections import Counter\n",
    "\n",
    "# Funcao que mostra a quantidade de amigos em comum com outro que tem amigos em comum\n",
    "def friends_of_friends(user):\n",
    "    user_id = user['id']\n",
    "    return Counter(\n",
    "        foaf_id for friend_id in friendships[user_id] # Para cada amigo meu\n",
    "        for foaf_id in friendships[friend_id] # Encontre os amigos deles\n",
    "            if foaf_id != user_id # Que nao seja eu\n",
    "            and foaf_id not in friendships[user_id] # E que nao sejam meus amigos\n",
    "    )\n",
    "\n",
    "friends_of_friends(users[0])"
   ]
  },
  {
   "cell_type": "code",
   "execution_count": 8,
   "metadata": {
    "colab": {
     "base_uri": "https://localhost:8080/"
    },
    "id": "WrJJXUlvbx6G",
    "outputId": "66c4c356-2b5a-40a3-dda0-a684a72d2f47"
   },
   "outputs": [
    {
     "data": {
      "text/plain": [
       "[]"
      ]
     },
     "execution_count": 8,
     "metadata": {},
     "output_type": "execute_result"
    }
   ],
   "source": [
    "#   QUINTA PERGUNTA 5- COMO CONECTAR AS PESSOAS PELOS INTERESSES EM COMUM\n",
    "\n",
    "# Encontrando usuarios com os interesses parecido, por pesquisa individual\n",
    "def data_scientists_who_like(target_interest):\n",
    "    \"\"\" Encontrando os ids dos usuario com o mesmo interesse \"\"\"\n",
    "    return [user_id\n",
    "            for user_id, user_interest in interests\n",
    "                if user_interest == target_interest]\n",
    "\n",
    "\n",
    "data_scientists_who_like(users[9])\n"
   ]
  },
  {
   "cell_type": "code",
   "execution_count": 9,
   "metadata": {
    "id": "fnYoYIuqeVfu"
   },
   "outputs": [
    {
     "data": {
      "text/plain": [
       "defaultdict(list,\n",
       "            {'Hadoop': [0, 9],\n",
       "             'Big Data': [0, 8, 9],\n",
       "             'HBase': [0, 1],\n",
       "             'Java': [0, 5, 9],\n",
       "             'Spark': [0],\n",
       "             'Storm': [0],\n",
       "             'Cassandra': [0, 1],\n",
       "             'NoSQL': [1],\n",
       "             'MongoDB': [1],\n",
       "             'Postgres': [1],\n",
       "             'Python': [2, 3, 5],\n",
       "             'scikit-learn': [2, 7],\n",
       "             'scipy': [2],\n",
       "             'numpy': [2],\n",
       "             'statsmodels': [2],\n",
       "             'pandas': [2],\n",
       "             'R': [3, 5],\n",
       "             'statistics': [3, 6],\n",
       "             'regression': [3, 4],\n",
       "             'probability': [3, 6],\n",
       "             'machine learning': [4, 7],\n",
       "             'decision trees': [4],\n",
       "             'libsvm': [4],\n",
       "             'C++': [5],\n",
       "             'Haskell': [5],\n",
       "             'programming languages': [5],\n",
       "             'mathematics': [6],\n",
       "             'theory': [6],\n",
       "             'Mahout': [7],\n",
       "             'neural networks': [7, 8],\n",
       "             'deep learning': [8],\n",
       "             'artificial intelligence': [8],\n",
       "             'MapReduce': [9]})"
      ]
     },
     "execution_count": 9,
     "metadata": {},
     "output_type": "execute_result"
    }
   ],
   "source": [
    "# Encontrando usuarios com o mesmo interesse e salvando em uma dict\n",
    "\n",
    "# Construindo um indice de interesses para os usuarios\n",
    "from collections import defaultdict\n",
    "\n",
    "# As chaves serao interesses e os valores uma lista de user_id com o interesse em comum\n",
    "user_ids_by_interest = defaultdict(list)\n",
    "\n",
    "for user_id, interest in interests:\n",
    "    user_ids_by_interest[interest].append(user_id)\n",
    "\n",
    "user_ids_by_interest"
   ]
  },
  {
   "cell_type": "code",
   "execution_count": 10,
   "metadata": {
    "id": "QnuJeEHzfMSn"
   },
   "outputs": [
    {
     "data": {
      "text/plain": [
       "defaultdict(list,\n",
       "            {0: ['Hadoop',\n",
       "              'Big Data',\n",
       "              'HBase',\n",
       "              'Java',\n",
       "              'Spark',\n",
       "              'Storm',\n",
       "              'Cassandra'],\n",
       "             1: ['NoSQL', 'MongoDB', 'Cassandra', 'HBase', 'Postgres'],\n",
       "             2: ['Python',\n",
       "              'scikit-learn',\n",
       "              'scipy',\n",
       "              'numpy',\n",
       "              'statsmodels',\n",
       "              'pandas'],\n",
       "             3: ['R', 'Python', 'statistics', 'regression', 'probability'],\n",
       "             4: ['machine learning', 'regression', 'decision trees', 'libsvm'],\n",
       "             5: ['Python',\n",
       "              'R',\n",
       "              'Java',\n",
       "              'C++',\n",
       "              'Haskell',\n",
       "              'programming languages'],\n",
       "             6: ['statistics', 'probability', 'mathematics', 'theory'],\n",
       "             7: ['machine learning',\n",
       "              'scikit-learn',\n",
       "              'Mahout',\n",
       "              'neural networks'],\n",
       "             8: ['neural networks',\n",
       "              'deep learning',\n",
       "              'Big Data',\n",
       "              'artificial intelligence'],\n",
       "             9: ['Hadoop', 'Java', 'MapReduce', 'Big Data']})"
      ]
     },
     "execution_count": 10,
     "metadata": {},
     "output_type": "execute_result"
    }
   ],
   "source": [
    "# As chaves serao os user_ids e os valores uma lista de interesses do usuario\n",
    "interests_by_user_id = defaultdict(list)\n",
    "\n",
    "for user_id, interest in interests:\n",
    "    interests_by_user_id[user_id].append(interest)\n",
    "\n",
    "interests_by_user_id"
   ]
  },
  {
   "cell_type": "code",
   "execution_count": 11,
   "metadata": {
    "colab": {
     "base_uri": "https://localhost:8080/"
    },
    "id": "U6gNxdA-gs3A",
    "outputId": "1cbf064c-6320-4110-ae4b-d57039eb5fad"
   },
   "outputs": [
    {
     "data": {
      "text/plain": [
       "Counter({9: 3, 8: 1, 1: 2, 5: 1})"
      ]
     },
     "execution_count": 11,
     "metadata": {},
     "output_type": "execute_result"
    }
   ],
   "source": [
    "# Iterando os interesses e contando cada aparicao dos usuarios, com o mesmo interesse\n",
    "def most_commu_interests_with(user):\n",
    "    return Counter(\n",
    "    interested_user_id\n",
    "    for interest in interests_by_user_id[user['id']]\n",
    "    for interested_user_id in user_ids_by_interest[interest]\n",
    "    if interested_user_id != user['id']\n",
    "    )\n",
    "\n",
    "most_commu_interests_with(users[0])"
   ]
  },
  {
   "cell_type": "code",
   "execution_count": 12,
   "metadata": {
    "colab": {
     "base_uri": "https://localhost:8080/"
    },
    "id": "TN8XqHJkiwD3",
    "outputId": "3a8ea32b-bf7d-4ac3-90f3-e8cfc5fa8e53"
   },
   "outputs": [
    {
     "data": {
      "text/plain": [
       "{8.7: 83000.0,\n",
       " 8.1: 88000.0,\n",
       " 0.7: 48000.0,\n",
       " 6: 76000.0,\n",
       " 6.5: 69000.0,\n",
       " 7.5: 76000.0,\n",
       " 2.5: 60000.0,\n",
       " 10: 83000.0,\n",
       " 1.9: 48000.0,\n",
       " 4.2: 63000.0}"
      ]
     },
     "execution_count": 12,
     "metadata": {},
     "output_type": "execute_result"
    }
   ],
   "source": [
    "# Analisando a media salarial por anos deexperiencias\n",
    "salary_by_tenure = defaultdict(list)\n",
    "\n",
    "# Construindo o dict com os anos como chave, os valores as listas de salarios por anos de experiencias\n",
    "for salary, tenure in salaries_and_tenures:\n",
    "    salary_by_tenure[tenure].append(salary)\n",
    "\n",
    "# Dict com os anos como chave, e cada valor e o salario medio associado ao tempo de experiencia\n",
    "avg_salary_by_tenure = {tenure: sum(salaries) / len(salaries) \n",
    "                        for tenure, salaries in salary_by_tenure.items()}\n",
    "\n",
    "avg_salary_by_tenure"
   ]
  },
  {
   "cell_type": "code",
   "execution_count": 13,
   "metadata": {
    "colab": {
     "base_uri": "https://localhost:8080/"
    },
    "id": "GE5MwKMroVt-",
    "outputId": "7966f57b-8b4c-4d1a-da5c-e31bbdb26839"
   },
   "outputs": [
    {
     "data": {
      "text/plain": [
       "{'Mais de cinco anos': 79166.66666666667,\n",
       " 'Menos de dois anos': 48000.0,\n",
       " 'Entre dois e cinco anos': 61500.0}"
      ]
     },
     "execution_count": 13,
     "metadata": {},
     "output_type": "execute_result"
    }
   ],
   "source": [
    "# Criando categorias de experiencias\n",
    "def tenure_bucket(tenure):\n",
    "    if tenure < 2:\n",
    "        return \"Menos de dois anos\"\n",
    "    elif tenure < 5:\n",
    "        return \"Entre dois e cinco anos\"\n",
    "    else:\n",
    "        return \"Mais de cinco anos\"\n",
    "\n",
    "\n",
    "# Agrupando os salarios por categoria\n",
    "# As chaves são categoria de anos de experiência, os valores são as listas de salários associadas a categoria em questão.\n",
    "salary_by_tenure_bucket = defaultdict(list)\n",
    "for salary, tenure in salaries_and_tenures:\n",
    "    bucket = tenure_bucket(tenure)\n",
    "    salary_by_tenure_bucket[bucket].append(salary)\n",
    "\n",
    "# Calculando a media salaria de cada grupo\n",
    "# As chaves sao categorias, os valores a media salaria de cada categoria\n",
    "avg_salary_by_bucket = {tenure_bucket: sum(salaries) / len(salaries)\n",
    "                        for tenure_bucket, salaries in salary_by_tenure_bucket.items()}\n",
    "\n",
    "\n",
    "avg_salary_by_bucket"
   ]
  },
  {
   "cell_type": "code",
   "execution_count": 14,
   "metadata": {
    "id": "JPHsoitS0AQL"
   },
   "outputs": [],
   "source": [
    "# Relacionando o tempo de experiencia com as contas pagas\n",
    "def predict_paid_or_unpaid(years_experience):\n",
    "    if years_experience < 3.0:\n",
    "        return \"paid\"\n",
    "    elif years_experience < 8.5:\n",
    "        return \"unpaid\"\n",
    "    else:\n",
    "        return \"paid\"\n",
    "\n",
    "\n"
   ]
  },
  {
   "cell_type": "code",
   "execution_count": 15,
   "metadata": {
    "colab": {
     "base_uri": "https://localhost:8080/"
    },
    "id": "ZHSlOFSX11V4",
    "outputId": "19617b8b-43ee-46ba-a15a-795cd749e025"
   },
   "outputs": [
    {
     "name": "stdout",
     "output_type": "stream",
     "text": [
      "big 3\n",
      "data 3\n",
      "java 3\n",
      "python 3\n",
      "learning 3\n",
      "hadoop 2\n",
      "hbase 2\n",
      "cassandra 2\n",
      "scikit-learn 2\n",
      "r 2\n",
      "statistics 2\n",
      "regression 2\n",
      "probability 2\n",
      "machine 2\n",
      "neural 2\n",
      "networks 2\n"
     ]
    }
   ],
   "source": [
    "# Escrevendo os interesses em minusculo, dividindo as palavras e contando o resultado\n",
    "words_and_counts = Counter(word\n",
    "                           for user, interest in interests\n",
    "                           for word in interest.lower().split())\n",
    "\n",
    "for word, count in words_and_counts.most_common():\n",
    "    if count > 1:\n",
    "        print(word, count)\n"
   ]
  },
  {
   "cell_type": "markdown",
   "metadata": {},
   "source": [
    "### Intensivo de Python"
   ]
  },
  {
   "cell_type": "code",
   "execution_count": 16,
   "metadata": {
    "scrolled": true
   },
   "outputs": [
    {
     "ename": "SyntaxError",
     "evalue": "invalid syntax (<ipython-input-16-d8b321fc44b9>, line 2)",
     "output_type": "error",
     "traceback": [
      "\u001b[1;36m  File \u001b[1;32m\"<ipython-input-16-d8b321fc44b9>\"\u001b[1;36m, line \u001b[1;32m2\u001b[0m\n\u001b[1;33m    $ conda create -n {nome no ambiente} python={versao do python}\u001b[0m\n\u001b[1;37m    ^\u001b[0m\n\u001b[1;31mSyntaxError\u001b[0m\u001b[1;31m:\u001b[0m invalid syntax\n"
     ]
    }
   ],
   "source": [
    "#Criando ambiente de virtual no anaconda\n",
    "$ conda create -n {nome no ambiente} python={versao do python}\n",
    "\n",
    "# Apos a criacao e necessario ativar o ambiente criado\n",
    "$ conda acitivate {nome do ambiente}\n",
    "\n",
    "# Para desativar \n",
    "$ conda deactivate"
   ]
  },
  {
   "cell_type": "code",
   "execution_count": 17,
   "metadata": {},
   "outputs": [
    {
     "ename": "SyntaxError",
     "evalue": "invalid syntax (<ipython-input-17-7f7f4a38fa03>, line 2)",
     "output_type": "error",
     "traceback": [
      "\u001b[1;36m  File \u001b[1;32m\"<ipython-input-17-7f7f4a38fa03>\"\u001b[1;36m, line \u001b[1;32m2\u001b[0m\n\u001b[1;33m    import 'modulo_name'\u001b[0m\n\u001b[1;37m                       ^\u001b[0m\n\u001b[1;31mSyntaxError\u001b[0m\u001b[1;31m:\u001b[0m invalid syntax\n"
     ]
    }
   ],
   "source": [
    "# Para importor um modulo inteiro \n",
    "import 'modulo_name'\n",
    "\n",
    "# para importar um valor especifico do modulo\n",
    "from 'modulo_name' import 'funcoes'\n"
   ]
  },
  {
   "cell_type": "code",
   "execution_count": 19,
   "metadata": {},
   "outputs": [
    {
     "name": "stdout",
     "output_type": "stream",
     "text": [
      "2\n"
     ]
    }
   ],
   "source": [
    "# Criando funcoes\n",
    "def double(x):\n",
    "    \"\"\" Retorna o dobro do valor informado \"\"\"\n",
    "    return x * 2\n",
    "    \n",
    "# Passando uma funcao como argumento\n",
    "def apply_to_one(f):\n",
    "    \"\"\" Chama a funcao f usando 1 como argumento \"\"\"\n",
    "    return f(1)\n",
    "    \n",
    "my_double = double\n",
    "\n",
    "x = apply_to_one(my_double)\n",
    "\n",
    "print(x)"
   ]
  },
  {
   "cell_type": "code",
   "execution_count": 22,
   "metadata": {},
   "outputs": [],
   "source": [
    "# Criando funcoes anonimas ou mais conhecidas como lambda functions\n",
    "# nao e recomendado atribuir a labda a uma variavel\n",
    "y = apply_to_one(lambda x: x + 4)\n"
   ]
  },
  {
   "cell_type": "code",
   "execution_count": 27,
   "metadata": {},
   "outputs": [
    {
     "data": {
      "text/plain": [
       "2"
      ]
     },
     "execution_count": 27,
     "metadata": {},
     "output_type": "execute_result"
    }
   ],
   "source": [
    "# No pytho a barra inversa serve para modifica um caractere especial\n",
    "tab_string = \"\\t\" # representa o caractere tab\n",
    "len(tab_string)\n",
    "\n",
    "\n",
    "# Para utilizar o caractere da barra inversa e necessario criar uma string bruta com o r\"\"\n",
    "not_tab_string = r\"\\t\"\n",
    "len(not_tab_string)"
   ]
  },
  {
   "cell_type": "markdown",
   "metadata": {},
   "source": [
    "#### EXCEÇÕES"
   ]
  },
  {
   "cell_type": "code",
   "execution_count": 28,
   "metadata": {},
   "outputs": [
    {
     "name": "stdout",
     "output_type": "stream",
     "text": [
      "cannot divide by zero\n"
     ]
    }
   ],
   "source": [
    "# As exceções que o python gera se não sçao tratadas retornan um erro no algoritimo\n",
    "# Para tratarmos as excecoes utilizamos o try/except\n",
    "try:\n",
    "    print(0/0)\n",
    "\n",
    "except ZeroDivisionError: print(\"cannot divide by zero\")\n"
   ]
  },
  {
   "cell_type": "markdown",
   "metadata": {},
   "source": [
    "#### LISTAS"
   ]
  },
  {
   "cell_type": "code",
   "execution_count": 33,
   "metadata": {},
   "outputs": [
    {
     "data": {
      "text/plain": [
       "[5, 4, 3]"
      ]
     },
     "execution_count": 33,
     "metadata": {},
     "output_type": "execute_result"
    }
   ],
   "source": [
    "# Podemos obter um elemento de uma lista apartir da posicao do mesmo\n",
    "x = list(range(0, 11))\n",
    "zero = x[0] # Utilizando o indice para acessar o valor zero e atribuilo a variavel\n",
    "\n",
    "# Filtrando uma lista utilizando o colchetes0\n",
    "first_three = x[:3] \n",
    "three_to_end = x[3:]\n",
    "second_to_four = x[1:5]\n",
    "last_three = x[-3:]\n",
    "without_first_and_last = x[1:-1]\n",
    "copy_list = x[:] # Passando toas as posicoes da lista\n",
    "\n",
    "# Podemos informar tambem o terceiro argumento que o passo da contagem\n",
    "every_third = x[::3]  # out [0, 3, 6, 9]\n",
    "five_to_three = x[5:2:-1]  # out [5, 4, 3]\n",
    "\n",
    "# Podemos utilizano o in para verificar a existencia de um valor em uma lista ou qualquer outro iteravel\n",
    "# Por analisar todos os itens da lista so utilize em listas pequenas\n",
    "1 in [1, 2, 3] # Out Verdadeiro\n",
    "0 in [1, 2, 3] # Out Falso\n",
    "\n",
    "# Para concatenas uma lista podemos utilizar o extend adicionando outra colecao\n",
    "x = [1, 2, 3] \n",
    "x.extend([4, 5, 6]) # out [1, 2, 3, 4, 5, 6]\n",
    "\n",
    "\n"
   ]
  },
  {
   "cell_type": "markdown",
   "metadata": {},
   "source": [
    "#### Tuplas"
   ]
  },
  {
   "cell_type": "code",
   "execution_count": 35,
   "metadata": {},
   "outputs": [
    {
     "name": "stdout",
     "output_type": "stream",
     "text": [
      "cannot modify a tuple\n"
     ]
    }
   ],
   "source": [
    "# Tuplas soa iguais as listas, porem nao podem ser modificadas\n",
    "my_tuple = (1, 2)  # primeira forama de criar uma tupla \n",
    "outher_tupla = 1, 2  # Segunda forma de Criar uma tupla\n",
    "\n",
    "try:\n",
    "    my_tuple[1] = 3\n",
    "\n",
    "except TypeError:\n",
    "    print(\"cannot modify a tuple\")\n"
   ]
  },
  {
   "cell_type": "code",
   "execution_count": 40,
   "metadata": {},
   "outputs": [
    {
     "data": {
      "text/plain": [
       "(5, 6)"
      ]
     },
     "execution_count": 40,
     "metadata": {},
     "output_type": "execute_result"
    }
   ],
   "source": [
    "# As tuplas sao mais eficazes em funcoes para retornar multiplos valores\n",
    "# Criando funcao com tuplas\n",
    "def sum_and_product(x, y):\n",
    "    return (x + y), (x * y)\n",
    "\n",
    "sp = sum_and_product(2, 3)\n",
    "sp # (5, 6)\n",
    "\n",
    "s, p = sum_and_product(5, 10)\n",
    "s, p # (15, 50)"
   ]
  },
  {
   "cell_type": "markdown",
   "metadata": {},
   "source": [
    "#### Dicionarios"
   ]
  },
  {
   "cell_type": "code",
   "execution_count": 47,
   "metadata": {
    "scrolled": true
   },
   "outputs": [
    {
     "name": "stdout",
     "output_type": "stream",
     "text": [
      "Key don't found\n"
     ]
    },
    {
     "data": {
      "text/plain": [
       "4"
      ]
     },
     "execution_count": 47,
     "metadata": {},
     "output_type": "execute_result"
    }
   ],
   "source": [
    "# Sao similares a uma lista porem com o indice explicito e descritos por chaves ou inves de colchetes\n",
    "grades = {\"joel\": 20, \"Tim\": 80} # Dicionario literal\n",
    "\n",
    "# Para pesquisar o valor de uma chave, usamos o colchetes para\n",
    "# Dessa forma estaamos passando o indice do valor que desejamos\n",
    "joel_grades = grades[\"joel\"] # out 20\n",
    "\n",
    "\n"
   ]
  },
  {
   "cell_type": "code",
   "execution_count": null,
   "metadata": {
    "scrolled": false
   },
   "outputs": [],
   "source": [
    "# Caso seja pesquisado um valor que o dict nao possui o python retornara um KeyError\n",
    "try:\n",
    "    kates_grade = grades[\"Kate\"]\n",
    "\n",
    "except KeyError:\n",
    "    print(\"Key don't found\") # Out Key don't found\n",
    "\n",
    "\n"
   ]
  },
  {
   "cell_type": "code",
   "execution_count": null,
   "metadata": {},
   "outputs": [],
   "source": [
    "# Para verificar a existencia de uma chave em uma dict, utilizamos o in\n",
    "joel_has_grade = \"joel\" in grades # Out True\n",
    "kate_has_grade = \"kate\" in grades # Out False\n"
   ]
  },
  {
   "cell_type": "code",
   "execution_count": null,
   "metadata": {},
   "outputs": [],
   "source": [
    "# Ou podemos utilizar o metodo get que retorna um valor padra ao inves de retornar uma excecao, quando procuramos uma chaves inexistente\n",
    "joel_grade = grades.get(\"joel\", 0) # Retorna o valor associado a chave\n",
    "kates_grade = grades.get(\"kate\", 0) # Retona o valor padrao que foi informado, pois nao existe chave kate\n",
    "no_ones = grades.get(\"No one\") # Retorna none\n"
   ]
  },
  {
   "cell_type": "code",
   "execution_count": null,
   "metadata": {},
   "outputs": [],
   "source": [
    "# Podemos atribui pares de valor-chave usando os colchetes\n",
    "grades[\"TIm\"] = 99 # Substitui o valor anterior\n",
    "grades[\"Kate\"] = 100 # Adiciona o novo valor-chave\n",
    "num_students = len(grades) \n"
   ]
  },
  {
   "cell_type": "code",
   "execution_count": null,
   "metadata": {},
   "outputs": [],
   "source": [
    "# Alem das chaves podemos conferir por todas elas\n",
    "tweet_keys = tweet.keys() # Iteravel para as chaves\n",
    "tweet_values = tweet.values() # Iteravel para os valores\n",
    "tweet_items = tweet.items() # Iteravel para as tuplas (chave, valor)\n",
    "\n",
    "“user” in tweet_keys # Verdadeiro, mas não é Pythonic\n",
    "“user” in tweet # forma Pythonic de verificar as chaves\n",
    "“joelgrus” in tweet_values # Verdadeiro (lento, mas é a única forma de verificar)"
   ]
  },
  {
   "cell_type": "code",
   "execution_count": null,
   "metadata": {},
   "outputs": [],
   "source": [
    "# Contando as palavras em um texto e adionando caso a palavra ainda nao tenha sido contada\n",
    "word_counts = {}\n",
    "for word in document:\n",
    "    if word in word_counts\n",
    "        wored_counts[word] += 1\n",
    "    else:\n",
    "        word_counts[word] = 1\n",
    "        "
   ]
  },
  {
   "cell_type": "code",
   "execution_count": null,
   "metadata": {},
   "outputs": [],
   "source": [
    "# Repetindo o algoritimo acima, porem utilizando o metodo try/except para as excecoes\n",
    "word_counts = {}\n",
    "for word in document:\n",
    "    try:\n",
    "        word_counts[word] += 1\n",
    "    except KeyError:\n",
    "        word_counts[word] = 1"
   ]
  },
  {
   "cell_type": "code",
   "execution_count": 74,
   "metadata": {},
   "outputs": [
    {
     "name": "stdout",
     "output_type": "stream",
     "text": [
      "{'A': 1, 'expressão': 1, 'Lorem': 1, 'ipsum': 1, 'em': 3, 'design': 1, 'gráfico': 1, 'e': 2, 'editoração': 1, 'é': 1, 'um': 1, 'texto': 2, 'padrão': 1, 'latim': 1, 'utilizado': 1, 'na': 1, 'produção': 1, 'gráfica': 1, 'para': 2, 'preencher': 1, 'os': 1, 'espaços': 1, 'de': 2, 'publicações': 1, 'testar': 1, 'ajustar': 1, 'aspectos': 1, 'visuais': 1, 'antes': 1, 'utilizar': 1, 'conteúdo': 1, 'real.': 1}\n"
     ]
    }
   ],
   "source": [
    "# Terceira maneira utilizando o metodo get()\n",
    "text = \"A expressão Lorem ipsum em design gráfico e editoração é um texto padrão em latim utilizado na produção gráfica para preencher os espaços de texto em publicações para testar e ajustar aspectos visuais antes de utilizar conteúdo real.\"\n",
    "document = text.split(\" \")\n",
    "\n",
    "word_counts = {}\n",
    "for word in document:\n",
    "    previous_count = word_counts.get(word, 0)\n",
    "    word_counts[word] = previous_count + 1\n",
    "    \n",
    "print(word_counts)\n"
   ]
  },
  {
   "cell_type": "markdown",
   "metadata": {},
   "source": [
    "#### DEFAULTDICT"
   ]
  },
  {
   "cell_type": "code",
   "execution_count": 65,
   "metadata": {},
   "outputs": [
    {
     "data": {
      "text/plain": [
       "defaultdict(int, {'.': 1})"
      ]
     },
     "execution_count": 65,
     "metadata": {},
     "output_type": "execute_result"
    }
   ],
   "source": [
    "# Utilizando o Defaultdict para o contar as palavras do texto\n",
    "from collections import defaultdict\n",
    "\n",
    "word_counts = defaultdict(int)\n",
    "word_counts[word] += 1\n",
    "\n",
    "word_counts"
   ]
  },
  {
   "cell_type": "code",
   "execution_count": null,
   "metadata": {},
   "outputs": [],
   "source": [
    "# Tambem podemos utilizar o defaultsict para list, dict e outras funcoes\n",
    "dd_list = defaultdict(list) # A funcao list passada como parametro cria uma lista vazia\n",
    "dd_list[2].append(1) # out {2: [1]}, agora a dd_list possui o primeiro valor com uma chave e valor\n",
    "\n",
    "dd_dict = defaultdict(dict) # A funcao dict passada como parametro cria uma dict vazia\n",
    "dd_dict[\"joel\"][\"City\"] = \"Seattle\" # Out {\"Joel\": {\"City\": \"Seattle\"}} \n",
    "\n",
    "dd_pair = defaultdict(lambda: [0, 0])\n",
    "dd_pair[2][1] = 1 # Out {2: [0, 1]},  Agora a dd_pair contem"
   ]
  },
  {
   "cell_type": "markdown",
   "metadata": {},
   "source": [
    "#### CONTADORES"
   ]
  },
  {
   "cell_type": "code",
   "execution_count": 76,
   "metadata": {},
   "outputs": [],
   "source": [
    "# O Counter (ou contador) conta as chaves mapeando os valores, parecido com o defaultdict\n",
    "from collections import Counter\n",
    "\n",
    "c = Counter([0, 1, 2, 0]) # Out Counter({0: 2, 1: 1, 2: 1})\n",
    "\n",
    "# O counter e uma forma mais simples de resolver o problema do word_counts\n",
    "word_counts = Counter(document)\n"
   ]
  },
  {
   "cell_type": "code",
   "execution_count": 78,
   "metadata": {
    "scrolled": false
   },
   "outputs": [
    {
     "name": "stdout",
     "output_type": "stream",
     "text": [
      "em 3\n",
      "e 2\n",
      "texto 2\n",
      "para 2\n",
      "de 2\n",
      "A 1\n",
      "expressão 1\n",
      "Lorem 1\n",
      "ipsum 1\n",
      "design 1\n"
     ]
    }
   ],
   "source": [
    "# O most_common tambem pode ser usado para contar as aparicoes das palavras\n",
    "# Imprimindo as 10 palavras mais comuns\n",
    "for word, count in word_counts.most_common(10):\n",
    "    print(word, count)"
   ]
  },
  {
   "cell_type": "markdown",
   "metadata": {},
   "source": [
    "#### CONJUNTOS"
   ]
  },
  {
   "cell_type": "code",
   "execution_count": 79,
   "metadata": {},
   "outputs": [],
   "source": [
    "# O set e um conjunto de elemento distintos, utilizamos chaves para listar seus conteudos\n",
    "# Nao podemos passar uma chave vazia pois isso significa uma dict vazia, devemos utilizar o set()\n",
    "s = set()\n",
    "s.add(1) # Out {1}\n",
    "s.add(2) # Out {1, 2}\n"
   ]
  },
  {
   "cell_type": "markdown",
   "metadata": {},
   "source": [
    "#### FLUXO DE CONTROLE"
   ]
  },
  {
   "cell_type": "code",
   "execution_count": null,
   "metadata": {},
   "outputs": [],
   "source": [
    "# O fluxo de controle e uma forma logica de utilizar os condicionais de Python\n",
    "\n",
    "# usando o loop while\n",
    "x = 0\n",
    "\n",
    "while x < 10:\n",
    "    print(f\"{x} menor que 10\")\n",
    "    x = x + 1\n"
   ]
  },
  {
   "cell_type": "code",
   "execution_count": null,
   "metadata": {},
   "outputs": [],
   "source": [
    "# Usando o for e o in\n",
    "for x in range(10):\n",
    "    print(f\"{x} menor que 10\")\n",
    "    \n",
    "# Para utilizar uma logica mais complexa podemos utilizar da seguinte forma\n",
    "for x in range(10):\n",
    "    if x == 3:\n",
    "        continue # Vai imediatamente para a proxima iteracap\n",
    "    if x == 5:\n",
    "        break # Para o loop imediatamente\n",
    "    print(x)\n",
    "        "
   ]
  },
  {
   "cell_type": "markdown",
   "metadata": {},
   "source": [
    "#### VERACIDADE"
   ]
  },
  {
   "cell_type": "code",
   "execution_count": 85,
   "metadata": {
    "scrolled": true
   },
   "outputs": [
    {
     "data": {
      "text/plain": [
       "0"
      ]
     },
     "execution_count": 85,
     "metadata": {},
     "output_type": "execute_result"
    }
   ],
   "source": [
    "# No python, podemos inserir qualquer valor que indique um boll\n",
    "# Todos os exemplos abaixo são Falso\n",
    "False\n",
    "None\n",
    "[]\n",
    "{}\n",
    "\"\"\n",
    "set()\n",
    "0\n",
    "0.0"
   ]
  },
  {
   "cell_type": "code",
   "execution_count": 90,
   "metadata": {
    "scrolled": true
   },
   "outputs": [
    {
     "data": {
      "text/plain": [
       "False"
      ]
     },
     "execution_count": 90,
     "metadata": {},
     "output_type": "execute_result"
    }
   ],
   "source": [
    "# Forma de verificar a veracidade de todos os items de um iteravel\n",
    "all([True, 1, {3}]) # True, todos são verdadeiros\n",
    "all([True, 1, {}]) # False, {} é falso\n",
    "any([True, 1, {}]) # True, True é verdadeiro\n",
    "all([]) # True, não há nenhum elemento falso na lista\n",
    "any([]) # False, não há nenhum elemento verdadeiro na lista"
   ]
  },
  {
   "cell_type": "markdown",
   "metadata": {},
   "source": [
    "#### CLASSIFICACAO"
   ]
  },
  {
   "cell_type": "code",
   "execution_count": 89,
   "metadata": {},
   "outputs": [],
   "source": [
    "# A lista em python tem o metodo sort para organizalas, e para nao baguncar podemos utilizar a funcao sorted, que retorna nova lista\n",
    "x = [1, 2, 4, 3, -1] # Lista desorganizada\n",
    "y = sorted(x) # y recebe x porem organizando os valores\n",
    "x.sort() # Agora x esta organizado"
   ]
  },
  {
   "cell_type": "code",
   "execution_count": 99,
   "metadata": {},
   "outputs": [],
   "source": [
    "# A organizacao do sort() acontece do menor para o maior valor do iteravel\n",
    "# Para organizar de forma decrescente temos que passar para o parametro reverse o valore True\n",
    "x =sorted([-4, 1, -2, 3], key=abs, reverse=True)\n",
    "\n",
    "# O parametro key para comparar os resultados de uma funcao especificada, por exemplo uma lambda function\n",
    "wc = sorted(word_counts.items(), key=lambda word_and_count: word_and_count[1], reverse=True)"
   ]
  },
  {
   "cell_type": "markdown",
   "metadata": {},
   "source": [
    "#### COMPREENSOES DE LISTAS "
   ]
  },
  {
   "cell_type": "code",
   "execution_count": null,
   "metadata": {},
   "outputs": [],
   "source": [
    "# O list comprehension e a forma pythonica de transformar um iteravel em oputro\n",
    "even_numbers = [x for x in range(5) if x % 2 == 0]  # Out [0, 2, 4]\n",
    "squares = [x * x for x in range(5)] # Out [0, 1, 4, 9, 16]\n",
    "even_squares = [x * x for x in even_numbers] # Out [0, 4, 16]\n",
    "\n",
    "# Da mesma forma, você pode transformar listas em dicionários ou conjuntos:\n",
    "square_dict = {x: x * x for x in range(5)} # Out {0: 0, 1: 1, 2: 4, 3: 9, 4: 16} \n",
    "square_set = {x * x for x in [1, -1]} # Out {1}"
   ]
  },
  {
   "cell_type": "code",
   "execution_count": 100,
   "metadata": {
    "scrolled": true
   },
   "outputs": [
    {
     "data": {
      "text/plain": [
       "[(0, 0),\n",
       " (0, 1),\n",
       " (0, 2),\n",
       " (0, 3),\n",
       " (0, 4),\n",
       " (0, 5),\n",
       " (0, 6),\n",
       " (0, 7),\n",
       " (0, 8),\n",
       " (0, 9),\n",
       " (1, 0),\n",
       " (1, 1),\n",
       " (1, 2),\n",
       " (1, 3),\n",
       " (1, 4),\n",
       " (1, 5),\n",
       " (1, 6),\n",
       " (1, 7),\n",
       " (1, 8),\n",
       " (1, 9),\n",
       " (2, 0),\n",
       " (2, 1),\n",
       " (2, 2),\n",
       " (2, 3),\n",
       " (2, 4),\n",
       " (2, 5),\n",
       " (2, 6),\n",
       " (2, 7),\n",
       " (2, 8),\n",
       " (2, 9),\n",
       " (3, 0),\n",
       " (3, 1),\n",
       " (3, 2),\n",
       " (3, 3),\n",
       " (3, 4),\n",
       " (3, 5),\n",
       " (3, 6),\n",
       " (3, 7),\n",
       " (3, 8),\n",
       " (3, 9),\n",
       " (4, 0),\n",
       " (4, 1),\n",
       " (4, 2),\n",
       " (4, 3),\n",
       " (4, 4),\n",
       " (4, 5),\n",
       " (4, 6),\n",
       " (4, 7),\n",
       " (4, 8),\n",
       " (4, 9),\n",
       " (5, 0),\n",
       " (5, 1),\n",
       " (5, 2),\n",
       " (5, 3),\n",
       " (5, 4),\n",
       " (5, 5),\n",
       " (5, 6),\n",
       " (5, 7),\n",
       " (5, 8),\n",
       " (5, 9),\n",
       " (6, 0),\n",
       " (6, 1),\n",
       " (6, 2),\n",
       " (6, 3),\n",
       " (6, 4),\n",
       " (6, 5),\n",
       " (6, 6),\n",
       " (6, 7),\n",
       " (6, 8),\n",
       " (6, 9),\n",
       " (7, 0),\n",
       " (7, 1),\n",
       " (7, 2),\n",
       " (7, 3),\n",
       " (7, 4),\n",
       " (7, 5),\n",
       " (7, 6),\n",
       " (7, 7),\n",
       " (7, 8),\n",
       " (7, 9),\n",
       " (8, 0),\n",
       " (8, 1),\n",
       " (8, 2),\n",
       " (8, 3),\n",
       " (8, 4),\n",
       " (8, 5),\n",
       " (8, 6),\n",
       " (8, 7),\n",
       " (8, 8),\n",
       " (8, 9),\n",
       " (9, 0),\n",
       " (9, 1),\n",
       " (9, 2),\n",
       " (9, 3),\n",
       " (9, 4),\n",
       " (9, 5),\n",
       " (9, 6),\n",
       " (9, 7),\n",
       " (9, 8),\n",
       " (9, 9)]"
      ]
     },
     "execution_count": 100,
     "metadata": {},
     "output_type": "execute_result"
    }
   ],
   "source": [
    "# Uma compreensao de lista pode conter multiplos fors\n",
    "pairs = [(x, y) \n",
    "        for x in range(10)\n",
    "        for y in range(10)] # Out [(0, 0), (0, 1), ..., (9, 8), (9, 9)]\n",
    "\n",
    "pairs"
   ]
  },
  {
   "cell_type": "code",
   "execution_count": 102,
   "metadata": {
    "scrolled": true
   },
   "outputs": [
    {
     "data": {
      "text/plain": [
       "[(0, 1),\n",
       " (0, 2),\n",
       " (0, 3),\n",
       " (0, 4),\n",
       " (0, 5),\n",
       " (0, 6),\n",
       " (0, 7),\n",
       " (0, 8),\n",
       " (0, 9),\n",
       " (1, 2),\n",
       " (1, 3),\n",
       " (1, 4),\n",
       " (1, 5),\n",
       " (1, 6),\n",
       " (1, 7),\n",
       " (1, 8),\n",
       " (1, 9),\n",
       " (2, 3),\n",
       " (2, 4),\n",
       " (2, 5),\n",
       " (2, 6),\n",
       " (2, 7),\n",
       " (2, 8),\n",
       " (2, 9),\n",
       " (3, 4),\n",
       " (3, 5),\n",
       " (3, 6),\n",
       " (3, 7),\n",
       " (3, 8),\n",
       " (3, 9),\n",
       " (4, 5),\n",
       " (4, 6),\n",
       " (4, 7),\n",
       " (4, 8),\n",
       " (4, 9),\n",
       " (5, 6),\n",
       " (5, 7),\n",
       " (5, 8),\n",
       " (5, 9),\n",
       " (6, 7),\n",
       " (6, 8),\n",
       " (6, 9),\n",
       " (7, 8),\n",
       " (7, 9),\n",
       " (8, 9)]"
      ]
     },
     "execution_count": 102,
     "metadata": {},
     "output_type": "execute_result"
    }
   ],
   "source": [
    "# Utilizando o resultado do for anterior para complementar o for posterior\n",
    "increasting_pairs = [(x, y) \n",
    "        for x in range(10)\n",
    "        for y in range(x + 1, 10)] # Out [(0, 0), (0, 1), ..., (9, 8), (9, 9)]\n",
    "\n",
    "increasting_pairs"
   ]
  },
  {
   "cell_type": "markdown",
   "metadata": {},
   "source": [
    "#### TESTES AUTOMATIZADOS E ASSERCAO"
   ]
  },
  {
   "cell_type": "code",
   "execution_count": 3,
   "metadata": {},
   "outputs": [],
   "source": [
    "# Para conferir se um codigo esta correto, podemos utilizar uma automatizacao chamada de assert\n",
    "# A instrucao assert gera um AssertionError caso a condicao especificada nao seja verdadeira\n",
    "\n",
    "assert 1 + 1 == 2\n",
    "assert 1 + 1 == 2, \"1 + 1 should equal 2 but didn't\" # Podemos ate adicionar uma mensagem para caso de falha"
   ]
  },
  {
   "cell_type": "code",
   "execution_count": 16,
   "metadata": {
    "scrolled": false
   },
   "outputs": [
    {
     "ename": "AssertionError",
     "evalue": "Valor nao encontrado",
     "output_type": "error",
     "traceback": [
      "\u001b[1;31m---------------------------------------------------------------------------\u001b[0m",
      "\u001b[1;31mAssertionError\u001b[0m                            Traceback (most recent call last)",
      "\u001b[1;32m<ipython-input-16-cf90b4516030>\u001b[0m in \u001b[0;36m<module>\u001b[1;34m\u001b[0m\n\u001b[0;32m      4\u001b[0m \u001b[1;33m\u001b[0m\u001b[0m\n\u001b[0;32m      5\u001b[0m \u001b[1;33m\u001b[0m\u001b[0m\n\u001b[1;32m----> 6\u001b[1;33m \u001b[1;32massert\u001b[0m \u001b[0msmallest_item\u001b[0m\u001b[1;33m(\u001b[0m\u001b[1;33m[\u001b[0m\u001b[1;36m10\u001b[0m\u001b[1;33m,\u001b[0m \u001b[1;36m20\u001b[0m\u001b[1;33m,\u001b[0m \u001b[1;36m30\u001b[0m\u001b[1;33m]\u001b[0m\u001b[1;33m)\u001b[0m \u001b[1;33m==\u001b[0m \u001b[1;36m5\u001b[0m\u001b[1;33m,\u001b[0m \u001b[1;34m\"Valor nao encontrado\"\u001b[0m\u001b[1;33m\u001b[0m\u001b[1;33m\u001b[0m\u001b[0m\n\u001b[0m",
      "\u001b[1;31mAssertionError\u001b[0m: Valor nao encontrado"
     ]
    }
   ],
   "source": [
    "# O recomendado para o assert e declarar que a funcao esta funcionando como esperado\n",
    "def smallest_item(xs):\n",
    "    return min(xs)\n",
    "\n",
    "\n",
    "assert smallest_item([10, 20, 30]) == 5, \"Valor nao encontrado\"\n"
   ]
  },
  {
   "cell_type": "code",
   "execution_count": null,
   "metadata": {},
   "outputs": [],
   "source": [
    "# Outro uso, porem menos comum e na entrada de valores na funca\n",
    "def smallest_item(xs):\n",
    "    assert xs, \"empty list has no smallest item\"\n",
    "    return min(xs)\n",
    "\n",
    "smallest_item([1]) == 5\n"
   ]
  },
  {
   "cell_type": "markdown",
   "metadata": {},
   "source": [
    "### PROGRAMACAO ORIENTADA A OBJETOS"
   ]
  },
  {
   "cell_type": "markdown",
   "metadata": {},
   "source": [
    "#### Utilizamos as classes para emcapsular dados e suas funcoes. E para deixar o codigo mais limpo "
   ]
  },
  {
   "cell_type": "code",
   "execution_count": 71,
   "metadata": {},
   "outputs": [],
   "source": [
    "# O nome da classe tem que ser passado em PascalCase\n",
    "class CountingClicker:\n",
    "    \"\"\" A classe pode/deve ter um docstring, assim como as funcoes \"\"\"\n",
    "\n",
    "    # Por convencao cada funcao recebe um parametro, self, que se refere a instancia da classe especifica\n",
    "    # No geral, toda classe possui um construtor chamado init, que recebe todos os parametros para construir uma instancia da classe\n",
    "    def __init__(self, count = 0): # O metodo init inicia e termina com duble sublinhados ou dunder que representam comportamentos especiais\n",
    "        self.count = count\n",
    "\n",
    "    def __repr__(self): # O __repr_ e um metodo que produz a representacao de string de uma instancia de classe\n",
    "        return f\"CountingClicker(count={self.count})\"\n",
    "      \n",
    "    def click(self, num_times = 1):\n",
    "        \"\"\" Clique no contador algumas vezes \"\"\"\n",
    "        self.count += num_times\n",
    "    \n",
    "    def read(self):\n",
    "        \"\"\"Retorna o valor de count\"\"\"\n",
    "        return self.count\n",
    "    \n",
    "    def reset(self):\n",
    "        \"\"\"Reseta o valor do count\"\"\"\n",
    "        self.count = 0\n",
    "        \n",
    "        \n",
    "clicker = CountingClicker() # Construindo a classe\n",
    "\n",
    "assert clicker.read() == 0, \"clicker shold start with count 0\"\n",
    "\n",
    "clicker.click() # Clicando 1 vez\n",
    "clicker.click() # CLicando 2 vezes\n",
    "\n",
    "assert clicker.read() == 2, \"after two clicks, clicker shold have count 2\"\n",
    "\n",
    "clicker.reset() # Resetando o contador\n",
    "\n",
    "assert clicker.read() == 0, \"after reset, clicker should be back to 0\"\n",
    "\n"
   ]
  },
  {
   "cell_type": "code",
   "execution_count": null,
   "metadata": {},
   "outputs": [],
   "source": [
    "# Criando uma sub-classe que herda todoas as funcionalidades da classe-pai, porem com algumas alteracoes\n",
    "\n",
    "class NoResetCliker(CountingClicker):\n",
    "    def reset(self):\n",
    "        pass\n",
    "\n",
    "\n",
    "clicker2 = NoResetCliker()\n",
    "assert clicker2.read() == 0, \"Iniciando o contador com 0\"\n",
    "clicker2.click() # Clicando uma vez\n",
    "assert clicker2.read() == 1, \"Depois de uma clicada, deve contar 1 clique\"\n",
    "clicker2.reset() # Nao fara nada pois nao passamos o metodo pass para essa classe filho\n",
    "assert clicker2.read() == 1, \"Ainda deve contar 1 clique\"\n"
   ]
  },
  {
   "cell_type": "markdown",
   "metadata": {},
   "source": [
    "#### ITERAVEIS E GERADORES "
   ]
  },
  {
   "cell_type": "code",
   "execution_count": 74,
   "metadata": {},
   "outputs": [
    {
     "name": "stdout",
     "output_type": "stream",
     "text": [
      "i: 0\n",
      "i: 1\n",
      "i: 2\n",
      "i: 3\n",
      "i: 4\n",
      "i: 5\n",
      "i: 6\n",
      "i: 7\n",
      "i: 8\n",
      "i: 9\n"
     ]
    }
   ],
   "source": [
    "# Normalmente iteramos em colecoes utilizando o for e in. No nosso caso, podemos criar geradores.\n",
    "# Podemos criar geradores utilizando funcoes e o operador yeld\n",
    "def generate_range(n):\n",
    "    i = 0\n",
    "    while i < n:\n",
    "        yield i # cada chamada para yield produz um valor do gerador\n",
    "        i += 1\n",
    "        \n",
    "# No exemplo a seguir o for conumira cada valor gerado pelo yield ate que nao sobre nenhum\n",
    "for i in generate_range(10):\n",
    "    print(f\"i: {i}\")"
   ]
  },
  {
   "cell_type": "code",
   "execution_count": 94,
   "metadata": {
    "scrolled": true
   },
   "outputs": [
    {
     "name": "stdout",
     "output_type": "stream",
     "text": [
      "i: 0\n",
      "i: 1\n",
      "i: 2\n",
      "i: 3\n",
      "i: 4\n",
      "i: 5\n",
      "i: 6\n",
      "i: 7\n",
      "i: 8\n",
      "i: 9\n"
     ]
    }
   ],
   "source": [
    "# Com o gerador yield podemos ate mesmo criar uma sequencia infinita\n",
    "def natural_number():\n",
    "    n = 0\n",
    "    while True:\n",
    "        yield n\n",
    "        n += 1\n",
    "        \n",
    "        if n == 10: # sempre utilizar uma logica de break quando trabalhar com valores infinitos\n",
    "            break\n",
    "\n",
    "for i in natural_number():\n",
    "    print(f\"i: {i}\")"
   ]
  },
  {
   "cell_type": "code",
   "execution_count": 101,
   "metadata": {},
   "outputs": [
    {
     "name": "stdout",
     "output_type": "stream",
     "text": [
      "0\n",
      "2\n",
      "4\n",
      "6\n",
      "8\n",
      "10\n",
      "12\n",
      "14\n",
      "16\n",
      "18\n"
     ]
    }
   ],
   "source": [
    "# Podemos criar geradores colocando compreesoes de for entre parenteses\n",
    "# A diferenca da compreensao de gerador para um list comprehension e apenas do parentese \n",
    "evens_below_20 = (i for i in generate_range(20) if i % 2 == 0)\n",
    "\n",
    "# A compressao de gerador nao faz nada ate criarmos uma iteracao com o for ou o next\n",
    "for i in evens_below_20:\n",
    "    print(i)\n",
    "    \n"
   ]
  },
  {
   "cell_type": "code",
   "execution_count": 105,
   "metadata": {},
   "outputs": [
    {
     "name": "stdout",
     "output_type": "stream",
     "text": [
      "Name position: 0 is Alice\n",
      "Name position: 1 is Bob\n",
      "Name position: 2 is Charlie\n",
      "Name position: 3 is Debbie\n"
     ]
    }
   ],
   "source": [
    "# Quando queremos obter o valor e seu indice, de uma lista ou gerador utilizamos a funcao enumerate \n",
    "names = [\"Alice\",\"Bob\",\"Charlie\",\"Debbie\"]\n",
    "\n",
    "# O enumerate do python transforma os valores em pares (indice, valor)\n",
    "for i, name in enumerate(names):\n",
    "    print(f\"Name position: {i} is {name}\")\n"
   ]
  },
  {
   "cell_type": "markdown",
   "metadata": {},
   "source": [
    "#### ALEATORIEDADE"
   ]
  },
  {
   "cell_type": "code",
   "execution_count": 173,
   "metadata": {},
   "outputs": [
    {
     "data": {
      "text/plain": [
       "[0.5714025946899135,\n",
       " 0.4288890546751146,\n",
       " 0.5780913011344704,\n",
       " 0.20609823213950174,\n",
       " 0.81332125135732]"
      ]
     },
     "execution_count": 173,
     "metadata": {},
     "output_type": "execute_result"
    }
   ],
   "source": [
    "# Para trabalharmos com numeros aleatorios utilizaremos o modulo random\n",
    "import random as rd\n",
    "\n",
    "rd.seed(10) # Assim, Os numeros aleatorios seram sempre os mesmos\n",
    "\n",
    "# Gerando uma lista de numeros aleatorios entre 0 e 1\n",
    "four_uniform_randoms = [rd.random() for _ in range(5)] # O _ e uma forma de gerar uma variavel anonima dentro de um iteravel\n"
   ]
  },
  {
   "cell_type": "code",
   "execution_count": 171,
   "metadata": {},
   "outputs": [
    {
     "data": {
      "text/plain": [
       "5"
      ]
     },
     "execution_count": 171,
     "metadata": {},
     "output_type": "execute_result"
    }
   ],
   "source": [
    "# Podemos utilizar tambem a funcao random.randrange, que recebe dois parametro (inicio, fim) e retorna um elemento aleatorio entre o range informado\n",
    "rd.randrange(2, 11) # So aceita numeros inteiros\n",
    "\n"
   ]
  },
  {
   "cell_type": "code",
   "execution_count": 192,
   "metadata": {},
   "outputs": [
    {
     "data": {
      "text/plain": [
       "[1, 2, 9, 10, 6, 5, 4, 3, 7, 8]"
      ]
     },
     "execution_count": 192,
     "metadata": {},
     "output_type": "execute_result"
    }
   ],
   "source": [
    "# Podemos reorganizar ums lista aleatoriamente utilizando o random.shuffle\n",
    "up_to_ten = [1, 2, 3, 4, 5, 6, 7, 8, 9, 10]\n",
    "\n",
    "rd.shuffle(up_to_ten) \n",
    "up_to_ten"
   ]
  },
  {
   "cell_type": "code",
   "execution_count": 191,
   "metadata": {},
   "outputs": [
    {
     "data": {
      "text/plain": [
       "'Debbie'"
      ]
     },
     "execution_count": 191,
     "metadata": {},
     "output_type": "execute_result"
    }
   ],
   "source": [
    "# Para escolher um elemento de forma aleatoria de uma lista, podemos utilizar a funcao random.choice\n",
    "my_best_friend = rd.choice(names) # Out um nome aleatorio da lista names\n",
    "my_best_friend"
   ]
  },
  {
   "cell_type": "code",
   "execution_count": 218,
   "metadata": {},
   "outputs": [
    {
     "data": {
      "text/plain": [
       "[41, 22, 23, 47, 18, 31]"
      ]
     },
     "execution_count": 218,
     "metadata": {},
     "output_type": "execute_result"
    }
   ],
   "source": [
    "# Para escolher uma amostra aleatoria de elementos de uma lista sem substituicao, podemos usar a funcao random.sample\n",
    "lottery_numbers = range(1, 60)\n",
    "winning_numbers = rd.sample(lottery_numbers, 6) # Primeiro passamos a lista, e depois a quantidade de elementos\n",
    "winning_numbers"
   ]
  },
  {
   "cell_type": "code",
   "execution_count": 233,
   "metadata": {},
   "outputs": [
    {
     "data": {
      "text/plain": [
       "[51, 36, 48, 49, 53, 20]"
      ]
     },
     "execution_count": 233,
     "metadata": {},
     "output_type": "execute_result"
    }
   ],
   "source": [
    "# Para escolher uma amostra com substituicao de elementos\n",
    "[random.choice(range(60)) for _ in range(6)]"
   ]
  },
  {
   "cell_type": "markdown",
   "metadata": {},
   "source": [
    "#### EXPRESSOES REGULARES"
   ]
  },
  {
   "cell_type": "code",
   "execution_count": 247,
   "metadata": {},
   "outputs": [],
   "source": [
    "# As expressoes regulares sao formas de procurar texto\n",
    "import re\n",
    "\n",
    "re_examples = [ # Todos os exemplos abaixo sao True\n",
    "    not re.match(\"a\", \"cat\"), # ‘cat’ não começa com ‘a’\n",
    "     re.search(\"a\", \"cat\"), # ‘cat’ contém um ‘a’\n",
    "    not re.search(\"c\", \"dog\"), # ‘dog’ não contém um ‘c’.\n",
    "    3 == len(re.split(\"[ab]\", \"carbs\")), # Divide em a ou b para [‘c’,’r’,’s’].\n",
    "    \"R-D-\"== re.sub(\"[0-9]\", \"-\", \"R1D2\") # Substitui dígitos por traços. passando (oque_retirar, oque_colocar, o_texto)\n",
    "]\n",
    "\n",
    "assert all(re_examples), \"all the regex examples should be True\""
   ]
  },
  {
   "cell_type": "markdown",
   "metadata": {},
   "source": [
    "#### ZIP E DESCOMPATACAO DE ARGUMENTO"
   ]
  },
  {
   "cell_type": "code",
   "execution_count": 265,
   "metadata": {},
   "outputs": [
    {
     "data": {
      "text/plain": [
       "[]"
      ]
     },
     "execution_count": 265,
     "metadata": {},
     "output_type": "execute_result"
    }
   ],
   "source": [
    "# Para compactar duas ou mais lista podemos utilizar a funca zip que treansforma varios iteraveis em um so iteravel em tuplas da funcao conrrespondente\n",
    "# Caso as listas tenham tamanhos diferentes o zip para assim que a menor lista acabar\n",
    "list1 = [1, 2, 3, 4]\n",
    "list2 = ['a', 'b', 'c', 'd']\n",
    "\n",
    "[pair for pair in zip(list1, list2)] # Out[(1, 'a'), (2, 'b'), (3, 'c'), (4, 'd')]\n"
   ]
  },
  {
   "cell_type": "code",
   "execution_count": 263,
   "metadata": {},
   "outputs": [
    {
     "data": {
      "text/plain": [
       "((1, 2, 3, 4), ('a', 'b', 'c', 'd'))"
      ]
     },
     "execution_count": 263,
     "metadata": {},
     "output_type": "execute_result"
    }
   ],
   "source": [
    "# Para descompactar uma lista podemos utilizar uma forma um pouco incomum\n",
    "pair = [(1, 'a'), (2, 'b'), (3, 'c'), (4, 'd')]\n",
    "numbers, letters = zip(*pair) # O * serve para descompactar o argumento (iteravel)\n",
    "numbers, letters\n"
   ]
  },
  {
   "cell_type": "code",
   "execution_count": 273,
   "metadata": {},
   "outputs": [
    {
     "name": "stdout",
     "output_type": "stream",
     "text": [
      "'<function add at 0x0000021E2501D0D8>' expects two inputs\n"
     ]
    }
   ],
   "source": [
    "# Podemos utilizar a descompactacao de armento com qualquer funcao\n",
    "def add(a, b):\n",
    "    return a + b\n",
    "\n",
    "add(1, 2) # Retorna 3\n",
    "\n",
    "try:\n",
    "    add([1, 2])\n",
    "except TypeError:\n",
    "    print(\"Function add expects two inputs\")\n",
    "    \n",
    "    "
   ]
  }
 ],
 "metadata": {
  "colab": {
   "authorship_tag": "ABX9TyMucWGSyFdKtpALJotSp31a",
   "collapsed_sections": [],
   "include_colab_link": true,
   "provenance": []
  },
  "kernelspec": {
   "display_name": "Python 3",
   "language": "python",
   "name": "python3"
  },
  "language_info": {
   "codemirror_mode": {
    "name": "ipython",
    "version": 3
   },
   "file_extension": ".py",
   "mimetype": "text/x-python",
   "name": "python",
   "nbconvert_exporter": "python",
   "pygments_lexer": "ipython3",
   "version": "3.7.4"
  }
 },
 "nbformat": 4,
 "nbformat_minor": 1
}
