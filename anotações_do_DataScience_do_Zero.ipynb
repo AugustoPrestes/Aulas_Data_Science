{
  "nbformat": 4,
  "nbformat_minor": 0,
  "metadata": {
    "colab": {
      "provenance": [],
      "authorship_tag": "ABX9TyODizpZn/uBNWYERb62YhxJ",
      "include_colab_link": true
    },
    "kernelspec": {
      "name": "python3",
      "display_name": "Python 3"
    },
    "language_info": {
      "name": "python"
    }
  },
  "cells": [
    {
      "cell_type": "markdown",
      "metadata": {
        "id": "view-in-github",
        "colab_type": "text"
      },
      "source": [
        "<a href=\"https://colab.research.google.com/github/AugustoPrestes/Aulas_Data_Science/blob/main/anota%C3%A7%C3%B5es_do_DataScience_do_Zero.ipynb\" target=\"_parent\"><img src=\"https://colab.research.google.com/assets/colab-badge.svg\" alt=\"Open In Colab\"/></a>"
      ]
    },
    {
      "cell_type": "markdown",
      "source": [
        "# Data Science do Zero \n",
        "### Anotações"
      ],
      "metadata": {
        "id": "OxwDurvvfyxn"
      }
    },
    {
      "cell_type": "markdown",
      "source": [
        "### Encontrando Conectores-Chave"
      ],
      "metadata": {
        "id": "-sopLroElEaD"
      }
    },
    {
      "cell_type": "code",
      "execution_count": 22,
      "metadata": {
        "id": "RHU4WtCmfxvM"
      },
      "outputs": [],
      "source": [
        "#@title Texto de título padrão\n",
        "# Recebendo os dados dos usuarios\n",
        "users = [\n",
        "{ \"id\": 0, \"name\": \"Hero\"},\n",
        "{ \"id\": 1, \"name\": \"Dunn\"},\n",
        "{ \"id\": 2, \"name\": \"Sue\"},\n",
        "{ \"id\": 3, \"name\": \"Chi\"},\n",
        "{ \"id\": 4, \"name\": \"Thor\"},\n",
        "{ \"id\": 5, \"name\": \"Clive\"},\n",
        "{ \"id\": 6, \"name\": \"Hicks\"},\n",
        "{ \"id\": 7, \"name\": \"Devin\"},\n",
        "{ \"id\": 8, \"name\": \"Kate\"},\n",
        "{ \"id\": 9, \"name\": \"Klein\"}]\n",
        "\n",
        "# Recebendo as conexões de amizades\n",
        "friendship_pairs = [(0, 1), (0, 2), (1, 2), (1, 3), (2, 3), (3, 4),(4, 5), (5, 6), (5, 7), (6, 8), (7, 8), (8, 9)]\n",
        "\n",
        "interests = [\n",
        "(0, \"Hadoop\"), (0, \"Big Data\"), (0, \"HBase\"), (0, \"Java\"), \n",
        "(0, \"Spark\"), (0, \"Storm\"), (0, \"Cassandra\"), (1, \"NoSQL\"), \n",
        "(1, \"MongoDB\"), (1, \"Cassandra\"), (1, \"HBase\"), (1, \"Postgres\"), \n",
        "(2, \"Python\"), (2, \"scikit-learn\"), (2, \"scipy\"), (2, \"numpy\"), \n",
        "(2, \"statsmodels\"), (2, \"pandas\"), (3, \"R\"), (3, \"Python\"),\n",
        "(3, \"statistics\"), (3, \"regression\"), (3, \"probability\"), (4, \"machine learning\"), \n",
        "(4, \"regression\"), (4, \"decision trees\"), (4, \"libsvm\"), (5, \"Python\"), \n",
        "(5, \"R\"), (5, \"Java\"), (5, \"C++\"), (5, \"Haskell\"), \n",
        "(5, \"programming languages\"), (6, \"statistics\"), (6, \"probability\"), (6, \"mathematics\"), \n",
        "(6, \"theory\"), (7, \"machine learning\"), (7, \"scikit-learn\"), (7, \"Mahout\"),\n",
        "(7, \"neural networks\"), (8, \"neural networks\"), (8, \"deep learning\"), (8, \"Big Data\"), \n",
        "(8, \"artificial intelligence\"), (9, \"Hadoop\"), (9, \"Java\"), (9, \"MapReduce\"), (9, \"Big Data\")\n",
        "]"
      ]
    },
    {
      "cell_type": "code",
      "source": [
        "# Criando um dict com dict compreenshion\n",
        "friendships = {user['id']: [] for user in users}\n",
        "\n",
        "print(friendships)"
      ],
      "metadata": {
        "colab": {
          "base_uri": "https://localhost:8080/"
        },
        "id": "pOb5ozlxljJ3",
        "outputId": "9aa73cb2-26f0-477d-ac12-86b2c5de167e"
      },
      "execution_count": 3,
      "outputs": [
        {
          "output_type": "stream",
          "name": "stdout",
          "text": [
            "{0: [], 1: [], 2: [], 3: [], 4: [], 5: [], 6: [], 7: [], 8: [], 9: []}\n"
          ]
        }
      ]
    },
    {
      "cell_type": "code",
      "source": [
        "# Identificando os pares dos amigos e unindo conforme a juncao da lista friendship_pairs\n",
        "for i, j in friendship_pairs:\n",
        "    friendships[i].append(j) # Adicionando o j como amigo do i\n",
        "    friendships[j].append(i) # Adicionando o i como amigo do j\n",
        "\n",
        "print(friendships)"
      ],
      "metadata": {
        "colab": {
          "base_uri": "https://localhost:8080/"
        },
        "id": "S60TyBGXnp6P",
        "outputId": "9a373f18-906f-4a8b-c38e-f61659abbd14"
      },
      "execution_count": 5,
      "outputs": [
        {
          "output_type": "stream",
          "name": "stdout",
          "text": [
            "{0: [1, 2], 1: [0, 2, 3], 2: [0, 1, 3], 3: [1, 2, 4], 4: [3, 5], 5: [4, 6, 7], 6: [5, 8], 7: [5, 8], 8: [6, 7, 9], 9: [8]}\n"
          ]
        }
      ]
    },
    {
      "cell_type": "code",
      "source": [
        "# PRIMEIRA PERGUNTA 1- QUAL O NUMERO MEDIO DE AMIGOS\n",
        "\n",
        "# Primeiro precisamos saber o numero total de conexoes\n",
        "def number_friends(user):\n",
        "    \"\"\" Verificando quantos frinds cada user possui \"\"\"\n",
        "    user_id = user['id']\n",
        "    friend_ids = friendships[user_id]\n",
        "    return len(friend_ids)\n",
        "\n",
        "# Somando todas as conexoes \n",
        "total_connections = sum(number_friends(user) for user in users) # total_connection == 24\n",
        "\n",
        "# Agora para saber a media de conexoes vamos dividir pelo numero de users \n",
        "num_users = len(users)\n",
        "avg_connections = total_connections / num_users\n",
        "\n",
        "avg_connections"
      ],
      "metadata": {
        "colab": {
          "base_uri": "https://localhost:8080/"
        },
        "id": "TIj1WgCxoliP",
        "outputId": "4b6c8922-db70-48b2-b104-5d0ee46feab1"
      },
      "execution_count": 6,
      "outputs": [
        {
          "output_type": "execute_result",
          "data": {
            "text/plain": [
              "2.4"
            ]
          },
          "metadata": {},
          "execution_count": 6
        }
      ]
    },
    {
      "cell_type": "code",
      "source": [
        "#   SEGUNDA PERGUNTA 2- COMO ORDERNAR AS PESSOAS MAIS CONECTADAS\n",
        "\n",
        "# Passando a quantidade de conexoes de cada user\n",
        "num_friends_by_id = [(user['id'], number_friends(user)) for user in users]\n",
        "\n",
        "# Classificando a lista do maior para o menor, utilizando a funcao lambda\n",
        "num_friends_by_id.sort(key=lambda id_and_friends: id_and_friends[1], reverse=True)\n",
        "\n",
        "num_friends_by_id # Cada par da dupla e (user_id, num_friends)"
      ],
      "metadata": {
        "colab": {
          "base_uri": "https://localhost:8080/"
        },
        "id": "u8Ej6dLhrUeJ",
        "outputId": "cc11777b-24e9-4eaf-a0a9-0076c69791ea"
      },
      "execution_count": 7,
      "outputs": [
        {
          "output_type": "execute_result",
          "data": {
            "text/plain": [
              "[(1, 3),\n",
              " (2, 3),\n",
              " (3, 3),\n",
              " (5, 3),\n",
              " (8, 3),\n",
              " (0, 2),\n",
              " (4, 2),\n",
              " (6, 2),\n",
              " (7, 2),\n",
              " (9, 1)]"
            ]
          },
          "metadata": {},
          "execution_count": 7
        }
      ]
    },
    {
      "cell_type": "code",
      "source": [
        "#   TERCEIRA PERGUNTA 3- COMO ENCOTRAR AMIGOS DE AMIGOS\n",
        "\n",
        "# Funcao para iterar os amigos e os amigos desses amigos\n",
        "def foaf_ids_bad(user):\n",
        "    \"\"\"foaf significa \"friend of friend\" ou amigo de amigo\"\"\"\n",
        "    return [foaf_id for friend_id in friendships[user[\"id\"]] for foaf_id in friendships[friend_id]]\n",
        "\n",
        "# VErificando o FOAF do user id[0]\n",
        "foaf_ids_bad(users[0])"
      ],
      "metadata": {
        "colab": {
          "base_uri": "https://localhost:8080/"
        },
        "id": "aZ39KLUXvXv-",
        "outputId": "aa300d67-efed-4d91-af9c-3a2482c2ce7c"
      },
      "execution_count": 15,
      "outputs": [
        {
          "output_type": "execute_result",
          "data": {
            "text/plain": [
              "[0, 2, 3, 0, 1, 3]"
            ]
          },
          "metadata": {},
          "execution_count": 15
        }
      ]
    },
    {
      "cell_type": "code",
      "source": [
        "#   QUARTA PERGUNTA 3- COMO ENCOTRAR AMIGOS DE AMIGOS SEM RETORNAR O AMIGO CONHECIDO\n",
        "\n",
        "from collections import Counter\n",
        "\n",
        "# Funcao que mostra a quantidade de amigos em comum com outro que tem amigos em comum\n",
        "def friends_of_friends(user):\n",
        "    user_id = user['id']\n",
        "    return Counter(\n",
        "        foaf_id for friend_id in friendships[user_id] # Para cada amigo meu\n",
        "        for foaf_id in friendships[friend_id] # Encontre os amigos deles\n",
        "            if foaf_id != user_id # Que nao seja eu\n",
        "            and foaf_id not in friendships[user_id] # E que nao sejam meus amigos\n",
        "    )\n",
        "\n",
        "friends_of_friends(users[0])"
      ],
      "metadata": {
        "colab": {
          "base_uri": "https://localhost:8080/"
        },
        "id": "hQh1UKuZyH9J",
        "outputId": "6ac10763-d988-4b65-9c4c-ff539ce065fe"
      },
      "execution_count": 21,
      "outputs": [
        {
          "output_type": "execute_result",
          "data": {
            "text/plain": [
              "Counter({3: 2})"
            ]
          },
          "metadata": {},
          "execution_count": 21
        }
      ]
    },
    {
      "cell_type": "code",
      "source": [
        "#   QUARTA PERGUNTA 3- COMO ENCOTRAR AMIGOS DE AMIGOS SEM RETORNAR O AMIGO CONHECIDO\n",
        "\n"
      ],
      "metadata": {
        "id": "ZHSlOFSX11V4"
      },
      "execution_count": null,
      "outputs": []
    }
  ]
}