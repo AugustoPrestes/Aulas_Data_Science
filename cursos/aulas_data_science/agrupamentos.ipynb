{
 "cells": [
  {
   "cell_type": "markdown",
   "id": "3d7a2a7c-13ba-4195-9a2c-84e0fb1418f7",
   "metadata": {},
   "source": [
    "# Revisão GROUPBY - Pandas\n",
    "\n",
    "O `groupby` é uma função conhecido pela sua funcionalidade split-apply-combine (separar-aplicar-combinar):\n",
    "1. Split - Etapa onde a função separa os dados do objeto pandas (seja uma Series ou um DataFrame ou algo diferente), com base em uma ou mais chaves especificadas para a função, essa combinação pode ser feita pelo `axis=1` ou `axis=0`;\n",
    "2. Apply - Aplica uma função ao grupo gerando um novo valor.\n",
    "3. Combine - Combina os grupos após a aplicação da função e retorno um objeto em um novo formato, que varia de acordo com o que foi feito com os dados"
   ]
  },
  {
   "cell_type": "code",
   "execution_count": 2,
   "id": "3c4eefe1-5ac2-45e3-87a6-ba6776419081",
   "metadata": {},
   "outputs": [],
   "source": [
    "import pandas as pd\n",
    "import numpy as np"
   ]
  },
  {
   "cell_type": "code",
   "execution_count": null,
   "id": "1076fef9-56dc-448a-ac11-b04502a51834",
   "metadata": {},
   "outputs": [],
   "source": []
  }
 ],
 "metadata": {
  "kernelspec": {
   "display_name": "Python 3 (ipykernel)",
   "language": "python",
   "name": "python3"
  },
  "language_info": {
   "codemirror_mode": {
    "name": "ipython",
    "version": 3
   },
   "file_extension": ".py",
   "mimetype": "text/x-python",
   "name": "python",
   "nbconvert_exporter": "python",
   "pygments_lexer": "ipython3",
   "version": "3.13.5"
  }
 },
 "nbformat": 4,
 "nbformat_minor": 5
}
