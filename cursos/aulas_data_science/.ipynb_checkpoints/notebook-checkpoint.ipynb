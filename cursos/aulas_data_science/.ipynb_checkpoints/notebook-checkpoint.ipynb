{
  "cells": [
    {
      "cell_type": "markdown",
      "metadata": {
        "colab_type": "text",
        "id": "view-in-github"
      },
      "source": [
        "<a href=\"https://colab.research.google.com/github/AugustoPrestes/Aulas_Data_Science/blob/main/Aulas_data_science.ipynb\" target=\"_parent\"><img src=\"https://colab.research.google.com/assets/colab-badge.svg\" alt=\"Open In Colab\"/></a>"
      ]
    },
    {
      "cell_type": "markdown",
      "metadata": {
        "id": "Dv05dNqsa9FQ"
      },
      "source": [
        "## AULAS DE NUMPY"
      ]
    },
    {
      "cell_type": "markdown",
      "metadata": {
        "id": "2k_UTbFryrlz"
      },
      "source": [
        "### AULA 1 - INTRODUÇÃO AO NUMPY"
      ]
    },
    {
      "cell_type": "code",
      "execution_count": null,
      "metadata": {
        "id": "JsjRz39MqXrk"
      },
      "outputs": [],
      "source": [
        "import numpy as np"
      ]
    },
    {
      "cell_type": "code",
      "execution_count": null,
      "metadata": {
        "id": "JuWkIzZWvH48"
      },
      "outputs": [],
      "source": [
        "a = np.array([0, 1, 2, 3])"
      ]
    },
    {
      "cell_type": "code",
      "execution_count": null,
      "metadata": {
        "colab": {
          "base_uri": "https://localhost:8080/"
        },
        "id": "h3BaGBTSvOmO",
        "outputId": "40c70153-8bb7-4dd3-e962-bbbafad06038"
      },
      "outputs": [],
      "source": [
        "a"
      ]
    },
    {
      "cell_type": "markdown",
      "metadata": {
        "id": "fh7QrDsoylkW"
      },
      "source": [
        "###AULA 2 - CRIAÇÃO DE ARRAY"
      ]
    },
    {
      "cell_type": "markdown",
      "metadata": {
        "id": "IrhceJ6DznrN"
      },
      "source": [
        "####CRIAÇÃO DE ARRAY"
      ]
    },
    {
      "cell_type": "markdown",
      "metadata": {
        "id": "VKppy7ju3uYp"
      },
      "source": [
        "#####CRIALÇÃO MANUAL"
      ]
    },
    {
      "cell_type": "code",
      "execution_count": null,
      "metadata": {
        "colab": {
          "base_uri": "https://localhost:8080/"
        },
        "id": "4rj4pPK7xWOI",
        "outputId": "24579df0-b398-487e-e9a4-4529c235cbf1"
      },
      "outputs": [],
      "source": [
        "a = np.array([0, 1, 2, 3])\n",
        "b = np.array([[0, 1, 2], [0, 1, 2]])\n",
        "\n",
        "print(a, b)\n",
        "print(a.ndim, b.ndim) # para saber a dimensão de um array é utilizado o methodo \"ndim\"\n",
        "print(a.shape, b.shape) # para saber quantas linhas e colunas o array possui é utilizado o methodo \"ndim\"\n",
        "print(len(a),len(b)) # para saber o tamanho do array, porém só retorna o valor da primeira dimensão a função \"len\"\n"
      ]
    },
    {
      "cell_type": "markdown",
      "metadata": {
        "id": "2lOugg6D3y1_"
      },
      "source": [
        "#####CRIAÇÃO UTILIZANDO FUNÇÕES"
      ]
    },
    {
      "cell_type": "code",
      "execution_count": null,
      "metadata": {
        "colab": {
          "base_uri": "https://localhost:8080/"
        },
        "id": "Zg9H0TWmyf0_",
        "outputId": "cde146a3-9e06-43a1-8cc7-6b7bbb2c06dc"
      },
      "outputs": [],
      "source": [
        "c = np.arange(0, 10, 2)\n",
        "print(c, \"\\n\")\n",
        "\n",
        "d = np.linspace(1, 10)\n",
        "print(d, \"\\n\")\n",
        "\n",
        "e = np.ones(5)\n",
        "print(e, \"\\n\")\n",
        "\n",
        "f = np.ones((5,5))\n",
        "print(f, \"\\n\")\n",
        "\n",
        "g = np.random.rand(5)\n",
        "print(g, \"\\n\")"
      ]
    },
    {
      "cell_type": "code",
      "execution_count": null,
      "metadata": {
        "colab": {
          "base_uri": "https://localhost:8080/"
        },
        "id": "UtijvIHj3_om",
        "outputId": "7c508044-b32f-4d36-d548-421ff9c8256d"
      },
      "outputs": [],
      "source": [
        "#Exercicios \n",
        "\n",
        "ex1 = np.eye(5)\n",
        "print(\"Exercicio 1 :\\n\", ex1, \"\\n\")\n",
        "\n",
        "ex2 = np.ones((3, 3))\n",
        "print(\"Exercicio 2 :\\n\", ex2, \"\\n\")\n",
        "\n",
        "ex3 = np.linspace(0, 20)\n",
        "print(\"Exercicio 3 :\\n\", ex3, \"\\n\")\n",
        "\n",
        "ex4 = np.arange(1, 10)\n",
        "print(\"Exercicio 1 :\\n\", ex4, \"\\n\")\n",
        "\n",
        "print(ex4)\n"
      ]
    },
    {
      "cell_type": "markdown",
      "metadata": {
        "id": "5vQp43EnA6V7"
      },
      "source": [
        "###AULA 3 INDEXAÇÃO E CORTES EM ARRAYS"
      ]
    },
    {
      "cell_type": "markdown",
      "metadata": {
        "id": "nm1PlclZDyHd"
      },
      "source": [
        "####IMPRIMINDO ARRAYS"
      ]
    },
    {
      "cell_type": "markdown",
      "metadata": {
        "id": "t1hAxrksD1Mx"
      },
      "source": [
        "#####IMPRIMINDO ARRAY UNIDIMENSIONAL"
      ]
    },
    {
      "cell_type": "code",
      "execution_count": null,
      "metadata": {
        "colab": {
          "base_uri": "https://localhost:8080/"
        },
        "id": "j3b3HCoeBHEs",
        "outputId": "e70bf979-0473-4099-fb99-ed150d533b90"
      },
      "outputs": [],
      "source": [
        "a = np.arange(10, 21)\n",
        "\n",
        "print(a)\n",
        "\n",
        "# Para acessar um valor em um array é necessario informar aposição do mesmo utilizando o []\n",
        "print(a[::-1])"
      ]
    },
    {
      "cell_type": "markdown",
      "metadata": {
        "id": "VNopYwZJDovB"
      },
      "source": [
        "#####IMPRIMINDO UM ARRAY BIDIMENSIONAL"
      ]
    },
    {
      "cell_type": "code",
      "execution_count": null,
      "metadata": {
        "colab": {
          "base_uri": "https://localhost:8080/"
        },
        "id": "3-9sI28rC4Sx",
        "outputId": "8e6e8d74-01d7-4e6d-ded0-16598fc2470b"
      },
      "outputs": [],
      "source": [
        "b = np.random.rand(6, 6)\n",
        "\n",
        "# Dessa forma todo o array/matriz sera impresso\n",
        "print(f\"{b} \\n\")\n",
        "\n",
        "# Dessa forma apenas a primeira linha da matriz sera impressa\n",
        "print(f\"{b[0]} \\n\")\n",
        "\n",
        "# Dessa forma apnas um valor dentro da matriz sera impressa\n",
        "print(f\"{b[0, 1]} \\n\")\n",
        "\n",
        "print(f\"{b[6:12:-1]} \\n\")"
      ]
    },
    {
      "cell_type": "markdown",
      "metadata": {
        "id": "NynVOzxQHkOt"
      },
      "source": [
        "###AULA 4 - OPERAÇÕES EM ARRAYS NUMPY"
      ]
    },
    {
      "cell_type": "markdown",
      "metadata": {
        "id": "_d2Y8HTGR26M"
      },
      "source": [
        "#### OPERAÇÕES COM ESCALARES"
      ]
    },
    {
      "cell_type": "code",
      "execution_count": null,
      "metadata": {
        "colab": {
          "base_uri": "https://localhost:8080/"
        },
        "id": "qjM127K5SKSt",
        "outputId": "e7728171-8b5e-449b-ca4b-c48b18444cc2"
      },
      "outputs": [],
      "source": [
        "import numpy as np\n",
        "np.random.seed(32)\n",
        "\n",
        "a1 = np.random.randint(1, 50, 22)\n",
        "\n",
        "a2 = np.random.randint(1, 50, 22)\n",
        "\n",
        "\n",
        "a2 = a2 * 2 # O escalar será aplicado a todos os elementos do array.\n",
        "print(f\"{a1} \\n{a2}\")"
      ]
    },
    {
      "cell_type": "markdown",
      "metadata": {
        "id": "GL81W8hLWkg2"
      },
      "source": [
        "#### OPERAÇÕES ENTRE ARRAY"
      ]
    },
    {
      "cell_type": "code",
      "execution_count": null,
      "metadata": {
        "colab": {
          "base_uri": "https://localhost:8080/"
        },
        "id": "89PbpfRGWp1_",
        "outputId": "6bc97085-ac02-45d2-8912-55216940326d"
      },
      "outputs": [],
      "source": [
        "# Operando entre arrays\n",
        "a1 + a2\n"
      ]
    },
    {
      "cell_type": "markdown",
      "metadata": {
        "id": "YifhCglSb97W"
      },
      "source": [
        "#### COMPARAÇÕES"
      ]
    },
    {
      "cell_type": "code",
      "execution_count": null,
      "metadata": {
        "colab": {
          "base_uri": "https://localhost:8080/"
        },
        "id": "ED8bM4VdcDp0",
        "outputId": "2b5d7ed1-d1a0-4f21-b935-ff79be6dd4c9"
      },
      "outputs": [],
      "source": [
        "A1 = np.array([1, 2, 3, 2, 1])\n",
        "A2 = np.array([3, 2, 3, 2, 31])\n",
        "\n",
        "A1 == A2 # Para fazer a comparação por elemento\n",
        "\n",
        "np.array_equal(A1, A2) # Para fazer a comparação do array como um todo."
      ]
    },
    {
      "cell_type": "markdown",
      "metadata": {
        "id": "6SI7uurRWf1I"
      },
      "source": [
        "### AULA 5 - MÉTODOS DO OBJETO ARRAY E MASCARAS"
      ]
    },
    {
      "cell_type": "code",
      "execution_count": null,
      "metadata": {
        "id": "qgbW94q7bgZW"
      },
      "outputs": [],
      "source": [
        "import numpy as np"
      ]
    },
    {
      "cell_type": "code",
      "execution_count": null,
      "metadata": {
        "colab": {
          "base_uri": "https://localhost:8080/"
        },
        "id": "-WmcPuI0bkgL",
        "outputId": "d883dbd3-42bf-413d-f9b7-f75aa72a0a02"
      },
      "outputs": [],
      "source": [
        "array = np.array(['augusto', 'ribeiro', 'prestes', 'da', 'silva'])\n",
        "array"
      ]
    },
    {
      "cell_type": "code",
      "execution_count": null,
      "metadata": {
        "colab": {
          "base_uri": "https://localhost:8080/"
        },
        "id": "anHUahBubx-x",
        "outputId": "cc74f16d-73a3-4685-b79a-bbfef6a5d456"
      },
      "outputs": [],
      "source": [
        "matriz = np.random.randn(3, 3)\n",
        "matriz"
      ]
    },
    {
      "cell_type": "markdown",
      "metadata": {
        "id": "Cxa7T6Xpctvz"
      },
      "source": [
        "#### METODOS DO ARRAY"
      ]
    },
    {
      "cell_type": "code",
      "execution_count": null,
      "metadata": {
        "colab": {
          "base_uri": "https://localhost:8080/"
        },
        "id": "c6TXHZAVcAVl",
        "outputId": "38e63b29-fb57-4c72-9664-efb12af5b696"
      },
      "outputs": [],
      "source": [
        "matriz.ndim # Imprime a dimensão do Array"
      ]
    },
    {
      "cell_type": "code",
      "execution_count": null,
      "metadata": {
        "colab": {
          "base_uri": "https://localhost:8080/"
        },
        "id": "oIk9hz7LdBut",
        "outputId": "61b5b098-c588-4c1a-93f8-0fb1b64df3a0"
      },
      "outputs": [],
      "source": [
        "matriz.shape # Imprime o formato do array"
      ]
    },
    {
      "cell_type": "code",
      "execution_count": null,
      "metadata": {
        "colab": {
          "base_uri": "https://localhost:8080/"
        },
        "id": "LYnyhB_ydJVw",
        "outputId": "b2b79b9b-159e-4354-dc0b-591675855fbe"
      },
      "outputs": [],
      "source": [
        "matriz.dtype # Imprime o tipo de dado contido no array"
      ]
    },
    {
      "cell_type": "code",
      "execution_count": null,
      "metadata": {
        "colab": {
          "base_uri": "https://localhost:8080/"
        },
        "id": "unVha8xshIxp",
        "outputId": "395cd201-c0da-4acf-d356-20d3a7d4df2f"
      },
      "outputs": [],
      "source": [
        "matriz.astype('bool') # Altera do tipo de dado contido no array"
      ]
    },
    {
      "cell_type": "code",
      "execution_count": null,
      "metadata": {
        "colab": {
          "base_uri": "https://localhost:8080/",
          "height": 166
        },
        "id": "Gj8sWlJAihcw",
        "outputId": "d7c9fcf1-048c-4a80-9d4e-25da0385200b"
      },
      "outputs": [],
      "source": [
        "matriz.s"
      ]
    },
    {
      "cell_type": "markdown",
      "metadata": {
        "id": "IwkdInwdj7BW"
      },
      "source": [
        "#### MASCARAS DO ARRAY"
      ]
    },
    {
      "cell_type": "code",
      "execution_count": null,
      "metadata": {
        "id": "qWVXvBChj-j9"
      },
      "outputs": [],
      "source": [
        "array[[False, True, True, False, True]] # A mascara serve para informar qual valor sera acessado pelo indice"
      ]
    },
    {
      "cell_type": "code",
      "execution_count": null,
      "metadata": {
        "id": "3RD3Tfa4kmf6"
      },
      "outputs": [],
      "source": [
        "matriz[matriz >= 0]"
      ]
    },
    {
      "cell_type": "markdown",
      "metadata": {
        "id": "bF-b9_vQRte7"
      },
      "source": [
        "#AULAS DE PANDAS"
      ]
    },
    {
      "cell_type": "markdown",
      "metadata": {
        "id": "uTMexPaQ_I9E"
      },
      "source": [
        "### CONFIGURANDO AMBIENTE"
      ]
    },
    {
      "cell_type": "code",
      "execution_count": null,
      "metadata": {
        "id": "hv3ssnfU-5QX"
      },
      "outputs": [],
      "source": [
        "import pandas as pd\n",
        "import numpy as np\n",
        "import matplotlib.pyplot as plt\n",
        "\n",
        "%matplotlib inline"
      ]
    },
    {
      "cell_type": "code",
      "execution_count": null,
      "metadata": {
        "colab": {
          "base_uri": "https://localhost:8080/",
          "height": 206
        },
        "id": "64UUGRXw_HuL",
        "outputId": "d9e3c1c9-2966-4045-d2b7-96b101e5aff4"
      },
      "outputs": [],
      "source": [
        "df = pd.read_csv('https://raw.githubusercontent.com/pcsanwald/kaggle-titanic/master/train.csv')\n",
        "df.head()"
      ]
    },
    {
      "cell_type": "markdown",
      "metadata": {
        "id": "KJT0UBbkR5Tl"
      },
      "source": [
        "###AULA 1 - INTRODUÇÃO AO PANDAS"
      ]
    },
    {
      "cell_type": "markdown",
      "metadata": {
        "id": "LY7ZCQpIWCCx"
      },
      "source": [
        "#### TRABALHANDO COM SERIER DO PANDAS"
      ]
    },
    {
      "cell_type": "code",
      "execution_count": 3,
      "metadata": {
        "id": "ZXKvvWHzV2AD"
      },
      "outputs": [],
      "source": [
        "# importando as Bibliotecas\n",
        "\n",
        "import numpy as np\n",
        "import pandas as pd"
      ]
    },
    {
      "cell_type": "code",
      "execution_count": null,
      "metadata": {
        "id": "6xikgAGvWAvt"
      },
      "outputs": [],
      "source": [
        "passos = pd.Series([4216, 3857, 7934, 4180, 5344], ['a', 'b', 'c', 'd', 'e'])\n",
        "passos"
      ]
    },
    {
      "cell_type": "markdown",
      "metadata": {
        "id": "ceRxhuhQlSuB"
      },
      "source": [
        "###AULA 2 - SERIES: INDEXAÇÃO, OPERAÇÃO E MASCARA"
      ]
    },
    {
      "cell_type": "markdown",
      "metadata": {
        "id": "O8CPLvSnlbpA"
      },
      "source": [
        "#### TRABALHANDO COM INDEXAÇÃO"
      ]
    },
    {
      "cell_type": "code",
      "execution_count": 1,
      "metadata": {
        "id": "8Vmp7Cj2sGxZ"
      },
      "outputs": [
        {
          "data": {
            "text/plain": [
              "['a', 'b', 'c', 'd', 'e', 'f', 'g', 'h', 'i', 'j']"
            ]
          },
          "execution_count": 1,
          "metadata": {},
          "output_type": "execute_result"
        }
      ],
      "source": [
        "string = 'a b c d e f g h i j'.split()\n",
        "string"
      ]
    },
    {
      "cell_type": "code",
      "execution_count": 4,
      "metadata": {
        "id": "RtCe0Z45r00z"
      },
      "outputs": [
        {
          "data": {
            "text/plain": [
              "a    3\n",
              "b    4\n",
              "c    9\n",
              "d    8\n",
              "e    4\n",
              "f    9\n",
              "g    6\n",
              "h    8\n",
              "i    2\n",
              "j    5\n",
              "dtype: int64"
            ]
          },
          "execution_count": 4,
          "metadata": {},
          "output_type": "execute_result"
        }
      ],
      "source": [
        "s = pd.Series(data=np.random.randint(1, 10, 10), index=string)\n",
        "s"
      ]
    },
    {
      "cell_type": "markdown",
      "metadata": {
        "id": "94cLz8dluzQk"
      },
      "source": [
        "#### TRABALHANDO COM MASCARAS"
      ]
    },
    {
      "cell_type": "code",
      "execution_count": 5,
      "metadata": {
        "id": "HiYOS9cJu2iq"
      },
      "outputs": [
        {
          "data": {
            "text/plain": [
              "a    3\n",
              "b    4\n",
              "c    9\n",
              "d    8\n",
              "e    4\n",
              "f    9\n",
              "g    6\n",
              "h    8\n",
              "j    5\n",
              "dtype: int64"
            ]
          },
          "execution_count": 5,
          "metadata": {},
          "output_type": "execute_result"
        }
      ],
      "source": [
        "s[s > 2]"
      ]
    },
    {
      "cell_type": "markdown",
      "metadata": {
        "id": "lWoHqcu5vifk"
      },
      "source": [
        "###AULA 3 - DATAFRAME: INTRODUÇÃO, CRIAÇÃO E INDEXAÇÃO"
      ]
    },
    {
      "cell_type": "markdown",
      "metadata": {
        "id": "ZAV_8hxJv0jm"
      },
      "source": [
        "####CRIAÇÃO DE DARAFRAMES"
      ]
    },
    {
      "cell_type": "code",
      "execution_count": null,
      "metadata": {
        "id": "ONRir6Jvvygv"
      },
      "outputs": [],
      "source": [
        "import pandas as pd\n",
        "import numpy as np"
      ]
    },
    {
      "cell_type": "code",
      "execution_count": null,
      "metadata": {
        "id": "xCgjrH-SycAq"
      },
      "outputs": [],
      "source": [
        "dados = np.array([[72, 180, 26], [80, 170, 19], [60, 165, 15]])\n",
        "dados"
      ]
    },
    {
      "cell_type": "code",
      "execution_count": null,
      "metadata": {
        "id": "R9n7Hru1zHGA"
      },
      "outputs": [],
      "source": [
        "df = pd. DataFrame(dados, columns=['Peso', 'Altura', 'Idade'])\n",
        "df"
      ]
    },
    {
      "cell_type": "markdown",
      "metadata": {
        "id": "55mftCX12OxA"
      },
      "source": [
        "####INDEXAÇÃO DE DATAFRAMES"
      ]
    },
    {
      "cell_type": "code",
      "execution_count": null,
      "metadata": {
        "id": "0a1BBwl92RtE"
      },
      "outputs": [],
      "source": [
        "# Acessar uma coluna do DataFrame\n",
        "df['Altura']"
      ]
    },
    {
      "cell_type": "code",
      "execution_count": null,
      "metadata": {
        "id": "XqeeGFot36ye"
      },
      "outputs": [],
      "source": [
        "# Acessar uma linha do DataFrame\n",
        "df.loc[0]"
      ]
    },
    {
      "cell_type": "code",
      "execution_count": null,
      "metadata": {
        "id": "EcMibZBi4Jyu"
      },
      "outputs": [],
      "source": [
        "# Acessar um unico elemento do DataFrame, passando primeiro a coluna do DF\n",
        "df['Altura'][1]"
      ]
    },
    {
      "cell_type": "code",
      "execution_count": null,
      "metadata": {
        "id": "YzRxp0A45Ui7"
      },
      "outputs": [],
      "source": [
        "# Acessar um unico elemento do DataFrame, passando primeiro a linha do DF\n",
        "df.loc[1]['Altura']"
      ]
    },
    {
      "cell_type": "code",
      "execution_count": null,
      "metadata": {
        "id": "etpPSd8M5i0i"
      },
      "outputs": [],
      "source": [
        "# Acessar um unico elemento do DataFrame, passando os indexs em formato de numeros\n",
        "df.iloc[1][1]"
      ]
    },
    {
      "cell_type": "code",
      "execution_count": null,
      "metadata": {
        "id": "uPbzRrh8URD2"
      },
      "outputs": [],
      "source": [
        "s "
      ]
    },
    {
      "cell_type": "markdown",
      "metadata": {
        "id": "PEnbryS40O76"
      },
      "source": [
        "### AULA 4 - LENDO E SALVANDO DATASETS\n"
      ]
    },
    {
      "cell_type": "markdown",
      "metadata": {
        "id": "80SIXpIk0hSX"
      },
      "source": [
        "#### CAREGADO DATASETS (FISICAMENTE)"
      ]
    },
    {
      "cell_type": "code",
      "execution_count": null,
      "metadata": {
        "id": "nevTsl8m0YIq"
      },
      "outputs": [],
      "source": [
        "import pandas as pd\n",
        "import numpy as np"
      ]
    },
    {
      "cell_type": "code",
      "execution_count": null,
      "metadata": {
        "id": "LxT6kQRy2Ocl"
      },
      "outputs": [],
      "source": [
        "df_train = pd.read_csv('/content/sample_data/mnist_train_small.csv')\n",
        "\n",
        "df_train"
      ]
    },
    {
      "cell_type": "markdown",
      "metadata": {
        "id": "H-x_-Mv0SNyE"
      },
      "source": [
        "#### CARREGANDO DADOS DA WEB"
      ]
    },
    {
      "cell_type": "code",
      "execution_count": null,
      "metadata": {
        "id": "eVa5GQ7ESNQa"
      },
      "outputs": [],
      "source": [
        "df = pd.read_html('https://www.fdic.gov/resources/resolutions/bank-failures/failed-bank-list/')\n",
        "df_bank = df[0]\n",
        "df_bank"
      ]
    },
    {
      "cell_type": "markdown",
      "metadata": {
        "id": "e6rlmalwRumD"
      },
      "source": [
        "#### VISUALIZANDO DADOS DO DATASET"
      ]
    },
    {
      "cell_type": "code",
      "execution_count": null,
      "metadata": {
        "id": "65FAE1NX2_kE"
      },
      "outputs": [],
      "source": [
        "df_train.head()"
      ]
    },
    {
      "cell_type": "code",
      "execution_count": null,
      "metadata": {
        "id": "j2luIK1X5ZA6"
      },
      "outputs": [],
      "source": [
        "df_train.tail()"
      ]
    },
    {
      "cell_type": "markdown",
      "metadata": {
        "id": "gC1f8oa7Ryjn"
      },
      "source": [
        "#### TRANSFORMANDO DATASET EM OUTRO TIPO DE DADOS"
      ]
    },
    {
      "cell_type": "code",
      "execution_count": null,
      "metadata": {
        "id": "4kAvUvl1Pi6b"
      },
      "outputs": [],
      "source": [
        "df_train.to_excel('teste.xlsx')"
      ]
    },
    {
      "cell_type": "markdown",
      "metadata": {
        "id": "_qvOMxJY_zjF"
      },
      "source": [
        "### AULA 5 - ANALISANDO E FILTRANDO DATAFRAME"
      ]
    },
    {
      "cell_type": "markdown",
      "metadata": {
        "id": "aAApYFbDVRTd"
      },
      "source": [
        "#### CARREGANDO CSV E IMPORTANDO PACOTE DO PANDAS"
      ]
    },
    {
      "cell_type": "code",
      "execution_count": null,
      "metadata": {
        "id": "o8DebQlbLsk5"
      },
      "outputs": [],
      "source": [
        "import pandas as pd\n",
        "import numpy as np"
      ]
    },
    {
      "cell_type": "code",
      "execution_count": null,
      "metadata": {
        "colab": {
          "base_uri": "https://localhost:8080/",
          "height": 424
        },
        "id": "tZBFK-cDUOpg",
        "outputId": "5a194ce2-ebbf-4af1-ca88-bcc00a4715d0"
      },
      "outputs": [],
      "source": [
        "df = pd.read_csv(\"https://raw.githubusercontent.com/pcsanwald/kaggle-titanic/master/train.csv\")\n",
        "\n",
        "df"
      ]
    },
    {
      "cell_type": "code",
      "execution_count": null,
      "metadata": {
        "colab": {
          "base_uri": "https://localhost:8080/"
        },
        "id": "XSzwLhl_VCOy",
        "outputId": "76a352f7-31d7-4c89-de40-17d525accdce"
      },
      "outputs": [],
      "source": [
        "df.columns"
      ]
    },
    {
      "cell_type": "markdown",
      "metadata": {
        "id": "KQkLGSX7Vfhu"
      },
      "source": [
        "#### ANALISANDO O DF"
      ]
    },
    {
      "cell_type": "code",
      "execution_count": null,
      "metadata": {
        "colab": {
          "base_uri": "https://localhost:8080/"
        },
        "id": "jyFMMwmjVjIR",
        "outputId": "19a1fb05-8be4-4bce-d1f4-5e712c3df0d9"
      },
      "outputs": [],
      "source": [
        "df['sex'].unique()"
      ]
    },
    {
      "cell_type": "code",
      "execution_count": null,
      "metadata": {
        "colab": {
          "base_uri": "https://localhost:8080/"
        },
        "id": "2S7uFv95XbGx",
        "outputId": "31ac565a-e38d-43bb-a0af-e6d18fc68fb5"
      },
      "outputs": [],
      "source": [
        "df['sex'].value_counts()"
      ]
    },
    {
      "cell_type": "markdown",
      "metadata": {
        "id": "kSTGvqiQZgl4"
      },
      "source": [
        "#### VERIFANDO E ELIMINANDO LINHAS DUPLICADAS"
      ]
    },
    {
      "cell_type": "code",
      "execution_count": null,
      "metadata": {
        "colab": {
          "base_uri": "https://localhost:8080/"
        },
        "id": "PTj71da3YuvX",
        "outputId": "9331e802-89e1-4f25-9956-c72e04534a95"
      },
      "outputs": [],
      "source": [
        "df.duplicated().sum()"
      ]
    },
    {
      "cell_type": "code",
      "execution_count": null,
      "metadata": {
        "colab": {
          "base_uri": "https://localhost:8080/",
          "height": 424
        },
        "id": "6lHcSrNcZndS",
        "outputId": "5f36bea1-7f34-44f2-9ace-bf3c55ac21bb"
      },
      "outputs": [],
      "source": [
        "df.drop_duplicates()"
      ]
    },
    {
      "cell_type": "code",
      "execution_count": null,
      "metadata": {
        "id": "q3S1nfXRZ0m1"
      },
      "outputs": [],
      "source": []
    },
    {
      "cell_type": "markdown",
      "metadata": {
        "id": "pPCy-L8Daa3X"
      },
      "source": [
        "#### FILTRANDO DADOS"
      ]
    },
    {
      "cell_type": "code",
      "execution_count": null,
      "metadata": {
        "colab": {
          "base_uri": "https://localhost:8080/"
        },
        "id": "oOwjt9trafVJ",
        "outputId": "973883b1-39e1-458f-be67-b9faeabc9869"
      },
      "outputs": [],
      "source": [
        "# Filtrando passageiros com mais de 60 anos\n",
        "df_velhos = df[df['age'] >= 60 ]\n",
        "\n",
        "# Filtrado passageiros do sex masculino\n",
        "df_homem = df[df['sex'] == 'male']\n",
        "\n",
        "# Filtrando a Burguesia\n",
        "df_rico = df[df['pclass'] == 1]\n",
        "\n",
        "# Contando as Cabines\n",
        "df['cabin'].value_counts()\n"
      ]
    },
    {
      "cell_type": "markdown",
      "metadata": {
        "id": "9vaBxGx5VaJy"
      },
      "source": [
        "### AULA 6 - INSERINDO E REMOVENDO COLUNAS DE UM DATAFRAME"
      ]
    },
    {
      "cell_type": "code",
      "execution_count": null,
      "metadata": {
        "id": "6BMgxqEeXIfI"
      },
      "outputs": [],
      "source": [
        "import pandas as pd\n",
        "import numpy as np\n",
        "from random import choice"
      ]
    },
    {
      "cell_type": "code",
      "execution_count": null,
      "metadata": {
        "colab": {
          "base_uri": "https://localhost:8080/"
        },
        "id": "k5koxfxPViLG",
        "outputId": "01a869e2-dd2c-494f-cd7f-4778f78367a8"
      },
      "outputs": [],
      "source": [
        "df = pd.read_csv(\"https://raw.githubusercontent.com/pcsanwald/kaggle-titanic/master/train.csv\")\n",
        "df.head()\n",
        "df.shape"
      ]
    },
    {
      "cell_type": "markdown",
      "metadata": {
        "id": "RUnT1bKld0dT"
      },
      "source": [
        "#### CRIANDO A NOVA COLUNA USANDO NUMPY"
      ]
    },
    {
      "cell_type": "code",
      "execution_count": null,
      "metadata": {
        "id": "0WnhpOLLar00"
      },
      "outputs": [],
      "source": [
        "mortos = np.random.randint(0, 2, 891)"
      ]
    },
    {
      "cell_type": "markdown",
      "metadata": {
        "id": "4_R1_A9nVjRR"
      },
      "source": [
        "#### INSERINDO UMA COLUNA"
      ]
    },
    {
      "cell_type": "code",
      "execution_count": null,
      "metadata": {
        "colab": {
          "base_uri": "https://localhost:8080/",
          "height": 424
        },
        "id": "ZR7Urv6TZdiR",
        "outputId": "fb3fcdea-2f1f-4546-848d-320b5b298dd9"
      },
      "outputs": [],
      "source": [
        "# Inserindo nova coluna no DF (Utilizando NUMPY)\n",
        "df['mortos'] = mortos\n",
        "df.head()\n",
        "\n",
        "df_mortos = df[df['mortos'] == 0 ]\n",
        "df_mortos"
      ]
    },
    {
      "cell_type": "markdown",
      "metadata": {
        "id": "czepahBEeC74"
      },
      "source": [
        "#### CRIANDO A NOVA COLUNA USANDO LIST COMPREHENSION"
      ]
    },
    {
      "cell_type": "code",
      "execution_count": null,
      "metadata": {
        "id": "YEaKluDZbZNk"
      },
      "outputs": [],
      "source": [
        "# Inserindo nova coluna no DF (Utilizando list comprehension)\n",
        "mortos = [choice([0, 1]) for i in range(891)]\n"
      ]
    },
    {
      "cell_type": "markdown",
      "metadata": {
        "id": "d3XaHJF6eSux"
      },
      "source": [
        "#### REMOVENDO UMA COLUNA"
      ]
    },
    {
      "cell_type": "code",
      "execution_count": null,
      "metadata": {
        "colab": {
          "base_uri": "https://localhost:8080/",
          "height": 424
        },
        "id": "cnO52XjoePv1",
        "outputId": "f9c82cac-f04f-45d0-e5b3-b8cab4e22722"
      },
      "outputs": [],
      "source": [
        "# Fazendo a remoção sem o parametro 'axis' com o valor de 1 sera removido a\n",
        "# não a coluna com o indice em questão\n",
        "df.drop([0])\n",
        "\n",
        "# Fazendo a remoção da coluna com o indice informado\n",
        "df.drop(['survived'], axis=1)"
      ]
    },
    {
      "cell_type": "markdown",
      "metadata": {
        "id": "63pPTyFNvWi5"
      },
      "source": [
        "### AULA 7 - TRATAMENTO DE DADOS AUSENTES"
      ]
    },
    {
      "cell_type": "code",
      "execution_count": null,
      "metadata": {
        "id": "BzrOikHkvcen"
      },
      "outputs": [],
      "source": [
        "import pandas as pd\n",
        "import numpy as np"
      ]
    },
    {
      "cell_type": "code",
      "execution_count": null,
      "metadata": {
        "id": "08tIZwo2vqY6"
      },
      "outputs": [],
      "source": [
        "dados = np.array([[1, 2, np.nan],\n",
        "                  [4, np.nan, 6],\n",
        "                  [np.nan, 8, 9]])\n",
        "\n",
        "df = pd.DataFrame(dados, columns='X Y Z'.split())"
      ]
    },
    {
      "cell_type": "markdown",
      "metadata": {
        "id": "s4w6PQct8JQU"
      },
      "source": [
        "#### CALCULANDO OS DADOS INEXISTENTES"
      ]
    },
    {
      "cell_type": "code",
      "execution_count": null,
      "metadata": {
        "colab": {
          "base_uri": "https://localhost:8080/"
        },
        "id": "6bhNzPk58OAB",
        "outputId": "8c5c89f9-a9f4-4701-dd59-51a58db582a2"
      },
      "outputs": [],
      "source": [
        "df = pd.read_csv('https://raw.githubusercontent.com/pcsanwald/kaggle-titanic/master/train.csv')\n",
        "\n",
        "# Contando os campos com dados inxesistentes\n",
        "df.isnull().sum()"
      ]
    },
    {
      "cell_type": "markdown",
      "metadata": {
        "id": "ebUj85uNvh4a"
      },
      "source": [
        "#### EXCLUINDO DADOS INEXISTENTES"
      ]
    },
    {
      "cell_type": "code",
      "execution_count": null,
      "metadata": {
        "colab": {
          "base_uri": "https://localhost:8080/",
          "height": 424
        },
        "id": "4D8ZblRqwLPR",
        "outputId": "894424d6-4484-4b5e-8c6f-71a20e240172"
      },
      "outputs": [],
      "source": [
        "# Elimina uma linha ou coluna caso o mesmo possua um valor inexistente\n",
        "df.dropna()"
      ]
    },
    {
      "cell_type": "markdown",
      "metadata": {
        "id": "ycC07P8l46OJ"
      },
      "source": [
        "#### TROCANDO DADOS VAZIOS"
      ]
    },
    {
      "cell_type": "code",
      "execution_count": null,
      "metadata": {
        "id": "yYn2vpuI4Md6"
      },
      "outputs": [],
      "source": [
        "# Trocando o dado vazio por zero\n",
        "df['age'] = df['age'].fillna(0)\n",
        "\n",
        "# Trocando o dado vazio pelo ultimo dado disponivel\n",
        "df['age'] = df['age'].fillna(method='ffill')\n",
        "\n",
        "# Trocando o dado vazio pelo proximo dado disponivel\n",
        "df['age'] = df['age'].fillna(method='bfill')"
      ]
    },
    {
      "cell_type": "markdown",
      "metadata": {
        "id": "uaOj5TiG5n05"
      },
      "source": [
        "### AULA 8 - AGRUPANDO DADOS DE UM DATAFRAME"
      ]
    },
    {
      "cell_type": "markdown",
      "metadata": {
        "id": "We0_KPkN8Wah"
      },
      "source": [
        "#### CONFIGURAÇÕES DE AMBIENTE"
      ]
    },
    {
      "cell_type": "code",
      "execution_count": null,
      "metadata": {
        "colab": {
          "base_uri": "https://localhost:8080/"
        },
        "id": "HzgfMPFB8Vpb",
        "outputId": "8d6a82e1-3323-4127-d50a-97d3315fbba2"
      },
      "outputs": [],
      "source": [
        "import pandas as pd\n",
        "import numpy as np\n",
        "\n",
        "df = pd.read_csv('https://raw.githubusercontent.com/pcsanwald/kaggle-titanic/master/train.csv')\n",
        "df.head()"
      ]
    },
    {
      "cell_type": "markdown",
      "metadata": {
        "id": "P24MJfBd8ofI"
      },
      "source": [
        "#### MÉTODO GROUPBY"
      ]
    },
    {
      "cell_type": "markdown",
      "metadata": {
        "id": "M7s6707jeAYL"
      },
      "source": [
        "##### AGRUPANDO SEM PASSAR UMA FUNÇÃO PARA OS VALORES AGRUPADOS"
      ]
    },
    {
      "cell_type": "code",
      "execution_count": null,
      "metadata": {
        "colab": {
          "base_uri": "https://localhost:8080/"
        },
        "id": "wMQgoUrb8n5v",
        "outputId": "9f6d8594-9eb2-43c9-b49d-2cc0d318b883"
      },
      "outputs": [],
      "source": [
        "# Agrupando com base nas pessoas que sobreviveram \n",
        "df_mortos = df.groupby('survived')\n",
        "display(df_mortos.mean().round(2))\n",
        "display(df_mortos.std().round(2))"
      ]
    },
    {
      "cell_type": "markdown",
      "metadata": {
        "id": "0LY-_5dneHmx"
      },
      "source": [
        "##### AGRUPANDO E PASSANDO UMA FUNÇÃO PARA OS DE MEDIA PARA OS VALORES AGRUPADOS"
      ]
    },
    {
      "cell_type": "code",
      "execution_count": null,
      "metadata": {
        "colab": {
          "base_uri": "https://localhost:8080/"
        },
        "id": "NMI7FfDG8mSK",
        "outputId": "a4446549-8be2-47e5-b9d9-5605203b4f9a"
      },
      "outputs": [],
      "source": [
        "# Agrupando com base no sexo e passando uma função para os valores agrupados\n",
        "df_sexo = df.groupby('sex').mean().round(2)\n",
        "df_sexo"
      ]
    },
    {
      "cell_type": "code",
      "execution_count": null,
      "metadata": {
        "id": "qIjds0bTEFEa"
      },
      "outputs": [],
      "source": []
    },
    {
      "cell_type": "markdown",
      "metadata": {
        "id": "woW8pWa9fE-W"
      },
      "source": [
        "### AULA 9 - JUNÇÃO DE DATAFRAME"
      ]
    },
    {
      "cell_type": "markdown",
      "metadata": {
        "id": "TgqqrySVfR9_"
      },
      "source": [
        "#### CONFIGURAÇÕES DE AMBIENTE"
      ]
    },
    {
      "cell_type": "code",
      "execution_count": null,
      "metadata": {
        "colab": {
          "base_uri": "https://localhost:8080/"
        },
        "id": "L0MnQlCHfR9_",
        "outputId": "ec2c7949-aba4-4a64-9b97-68aceeab27ab"
      },
      "outputs": [],
      "source": [
        "import pandas as pd\n",
        "import numpy as np\n",
        "\n",
        "df = pd.read_csv('https://raw.githubusercontent.com/pcsanwald/kaggle-titanic/master/train.csv')\n",
        "df.head()"
      ]
    },
    {
      "cell_type": "code",
      "execution_count": null,
      "metadata": {
        "id": "A1idUNz3hy1K"
      },
      "outputs": [],
      "source": [
        "# Criando os dados do DF\n",
        "dados = np.arange(1, 10).reshape(3,3)\n",
        "\n",
        "# Passando os dados criados para os 3 DF's\n",
        "df1 = pd.DataFrame(dados, columns='A B C'.split())\n",
        "df2 = pd.DataFrame(dados, columns='A B C'.split())\n",
        "df3 = pd.DataFrame(dados, columns='D E C'.split())"
      ]
    },
    {
      "cell_type": "code",
      "execution_count": null,
      "metadata": {
        "colab": {
          "base_uri": "https://localhost:8080/"
        },
        "id": "6a-IkzJbtj6w",
        "outputId": "c09118b3-4723-42d5-b9ab-05aeee460376"
      },
      "outputs": [],
      "source": [
        "df1"
      ]
    },
    {
      "cell_type": "code",
      "execution_count": null,
      "metadata": {
        "colab": {
          "base_uri": "https://localhost:8080/"
        },
        "id": "g9VTtNp_tjvv",
        "outputId": "14c3cfd0-57aa-4eae-d8dd-cb5ce2fd12b7"
      },
      "outputs": [],
      "source": [
        "df2"
      ]
    },
    {
      "cell_type": "code",
      "execution_count": null,
      "metadata": {
        "colab": {
          "base_uri": "https://localhost:8080/"
        },
        "id": "4V-J3mPwtjh2",
        "outputId": "5b0624cd-7f55-4748-932b-743061391234"
      },
      "outputs": [],
      "source": [
        "df3"
      ]
    },
    {
      "cell_type": "markdown",
      "metadata": {
        "id": "EiEpkVXOfZKg"
      },
      "source": [
        "#### FUNÇÃO CONCAT"
      ]
    },
    {
      "cell_type": "code",
      "execution_count": null,
      "metadata": {
        "colab": {
          "base_uri": "https://localhost:8080/"
        },
        "id": "fFSMlolEjBs5",
        "outputId": "44013639-eacc-44b2-ea91-0c35fc320334"
      },
      "outputs": [],
      "source": [
        "# Concatenando e matendo o index original\n",
        "# Foi concatenado abaixo pois o pandas identificou que as colunas são identicas\n",
        "pd.concat([df1, df2])"
      ]
    },
    {
      "cell_type": "code",
      "execution_count": null,
      "metadata": {
        "colab": {
          "base_uri": "https://localhost:8080/"
        },
        "id": "cNGjwU_fm-uP",
        "outputId": "6c9e3cdd-f56c-4e38-d378-721d1c5afb2a"
      },
      "outputs": [],
      "source": [
        "# Concatenando e mantendo o index original\n",
        "# Foi concatenado ao lado pois as colunas possuem nomes distintos, porém o index anterior foi mantido\n",
        "pd.concat([df1, df3])"
      ]
    },
    {
      "cell_type": "markdown",
      "metadata": {
        "id": "Q7IgdU8DfcZx"
      },
      "source": [
        "#### FUNÇÃO MERGE"
      ]
    },
    {
      "cell_type": "code",
      "execution_count": null,
      "metadata": {
        "colab": {
          "base_uri": "https://localhost:8080/"
        },
        "id": "ozbuXlm1jCD6",
        "outputId": "6ea7ab08-8a05-4166-d61e-dce4bb4ee4a5"
      },
      "outputs": [],
      "source": [
        "pd.merge(df1, df3)"
      ]
    },
    {
      "cell_type": "markdown",
      "metadata": {
        "id": "QYb5p5v7ffPP"
      },
      "source": [
        "#### FUNÇÃO JOIN"
      ]
    },
    {
      "cell_type": "code",
      "execution_count": null,
      "metadata": {
        "id": "kYQudOVdjCZS"
      },
      "outputs": [],
      "source": [
        "df1 = pd.DataFrame(dados, columns='A B C'.split(), index=[0, 1, 2])\n",
        "df2 = pd.DataFrame(dados, columns='D E F'.split(), index=[1, 2, 3])"
      ]
    },
    {
      "cell_type": "code",
      "execution_count": null,
      "metadata": {
        "colab": {
          "base_uri": "https://localhost:8080/"
        },
        "id": "cdsd9gzYvr5w",
        "outputId": "2e550f6d-a3be-46a8-f35c-16e2c2d4c239"
      },
      "outputs": [],
      "source": [
        "# Unindo os DF'S sem considerar o indice do DF da esquesda\n",
        "# Por padrão ele só considera o indice do DF da esquerda\n",
        "df1.join(df2)"
      ]
    },
    {
      "cell_type": "code",
      "execution_count": null,
      "metadata": {
        "id": "by3BX_aIxhc-"
      },
      "outputs": [],
      "source": [
        "# Unindo os DF'S e mantendo os dois indices\n",
        "\n",
        "df3 = df1.join(df2, how='outer')"
      ]
    },
    {
      "cell_type": "code",
      "execution_count": null,
      "metadata": {
        "colab": {
          "base_uri": "https://localhost:8080/"
        },
        "id": "PUr0kKS6xx15",
        "outputId": "de09cbc1-2c77-467f-ddee-25bed7b5ceb5"
      },
      "outputs": [],
      "source": [
        "df3.fillna(0)"
      ]
    },
    {
      "cell_type": "markdown",
      "metadata": {
        "id": "g5ItzYbN5Ndd"
      },
      "source": [
        "### AULA 10 - MÉTODO APPLY E ORDENAÇÃO DE DF"
      ]
    },
    {
      "cell_type": "markdown",
      "metadata": {
        "id": "KG0vkU-b5RIH"
      },
      "source": [
        "#### CONFIGURAÇÕES DE AMBIENTE"
      ]
    },
    {
      "cell_type": "code",
      "execution_count": null,
      "metadata": {
        "colab": {
          "base_uri": "https://localhost:8080/"
        },
        "id": "5jLIA1Tn5Td7",
        "outputId": "b652717c-3f0e-4849-89f3-b8d3941b6da2"
      },
      "outputs": [],
      "source": [
        "import pandas as pd\n",
        "import numpy as np\n",
        "\n",
        "df = pd.read_csv('https://raw.githubusercontent.com/pcsanwald/kaggle-titanic/master/train.csv')\n",
        "df.head()"
      ]
    },
    {
      "cell_type": "markdown",
      "metadata": {
        "id": "DcO_OEOgAgei"
      },
      "source": [
        "#### UTILIZAÇÃO DO MÉTODO APPLY"
      ]
    },
    {
      "cell_type": "code",
      "execution_count": null,
      "metadata": {
        "colab": {
          "base_uri": "https://localhost:8080/"
        },
        "id": "4ncyQKy67YFG",
        "outputId": "96742114-2c33-450d-98fb-37efcddf4944"
      },
      "outputs": [],
      "source": [
        "# Utilizando o Método  apply para modificar os valores nas colunas especificas\n",
        "df['fare'] = df['fare'].apply(lambda elemento: '${:.3}'.format(elemento))\n",
        "df"
      ]
    },
    {
      "cell_type": "markdown",
      "metadata": {
        "id": "5cGE7wigAmw1"
      },
      "source": [
        "#### ORDENAÇÃO DE DATAFRAME"
      ]
    },
    {
      "cell_type": "code",
      "execution_count": null,
      "metadata": {
        "colab": {
          "base_uri": "https://localhost:8080/"
        },
        "id": "XG5F6M0GAs62",
        "outputId": "a76fdc8c-6039-4c0f-8546-f7c6acf6d215"
      },
      "outputs": [],
      "source": [
        "# Ordenando um DF por idade, apartir da menor até a maior\n",
        "df.sort_values('age') "
      ]
    },
    {
      "cell_type": "code",
      "execution_count": null,
      "metadata": {
        "colab": {
          "base_uri": "https://localhost:8080/"
        },
        "id": "_byGfE53GVF6",
        "outputId": "68337f0e-ddd3-4334-c8ab-884215c8aafa"
      },
      "outputs": [],
      "source": [
        "# Ordenando um DF por idade, apartir da maior até a menor\n",
        "df.sort_values('age', ascending=False)"
      ]
    },
    {
      "cell_type": "markdown",
      "metadata": {
        "id": "UQS8z7FV-mhR"
      },
      "source": [
        "### AULA 0 - LISTA DE COMANDOS"
      ]
    },
    {
      "cell_type": "markdown",
      "metadata": {
        "id": "_FRaTSK__2xD"
      },
      "source": [
        "#### COMANDO INFO"
      ]
    },
    {
      "cell_type": "code",
      "execution_count": null,
      "metadata": {
        "colab": {
          "base_uri": "https://localhost:8080/"
        },
        "id": "jhwbPjKG-2DV",
        "outputId": "9465a0e6-9b62-474a-b216-f8a27d72d60d"
      },
      "outputs": [],
      "source": [
        "# O comando informa qual o tipo de de dado cada coluna contém e quantas linhas possuem dados\n",
        "df.info()"
      ]
    },
    {
      "cell_type": "markdown",
      "metadata": {
        "id": "q7bh7Lm8AtXF"
      },
      "source": [
        "#### COMANDO UNIQUE"
      ]
    },
    {
      "cell_type": "code",
      "execution_count": null,
      "metadata": {
        "colab": {
          "base_uri": "https://localhost:8080/"
        },
        "id": "K81kIQ_dB33D",
        "outputId": "9e547fa9-815c-4d7a-db57-50e304917420"
      },
      "outputs": [],
      "source": [
        "# O comando retorna um array contendo todos os valores unicos da coluna\n",
        "df['survived'].unique()"
      ]
    },
    {
      "cell_type": "markdown",
      "metadata": {
        "id": "Mq3p_h2MHeK5"
      },
      "source": [
        "#AULAS DE MATPLOTLIB"
      ]
    },
    {
      "cell_type": "markdown",
      "metadata": {
        "id": "TO4OMGq0HlaM"
      },
      "source": [
        "### AULA 1 - INTRODUÇÃO AO MATPLOTLIB"
      ]
    },
    {
      "cell_type": "markdown",
      "metadata": {
        "id": "1rvGy4NSIoAK"
      },
      "source": [
        "#### CONFIGURAÇÃO DE AMBIENTE"
      ]
    },
    {
      "cell_type": "code",
      "execution_count": null,
      "metadata": {
        "id": "DNZV_FgCHmZl"
      },
      "outputs": [],
      "source": [
        "import pandas as pd\n",
        "import numpy as np\n",
        "import matplotlib.pyplot as plt "
      ]
    },
    {
      "cell_type": "code",
      "execution_count": null,
      "metadata": {
        "id": "cK6fVNvcH_ob"
      },
      "outputs": [],
      "source": [
        "df = pd.read_csv('https://raw.githubusercontent.com/pcsanwald/kaggle-titanic/master/train.csv')"
      ]
    },
    {
      "cell_type": "markdown",
      "metadata": {
        "id": "ggT2oW0pKKt1"
      },
      "source": [
        "#### PLOTAGEM BASICA DO PLT"
      ]
    },
    {
      "cell_type": "code",
      "execution_count": null,
      "metadata": {
        "colab": {
          "base_uri": "https://localhost:8080/"
        },
        "id": "RWOogU-YJ-ot",
        "outputId": "061e04d0-8532-4049-f0fd-15106a5e40cb"
      },
      "outputs": [],
      "source": [
        "# Plotagem basica considerando apenas o valor de Y\n",
        "array = np.arange(6)\n",
        "plt.plot(array)"
      ]
    },
    {
      "cell_type": "code",
      "execution_count": null,
      "metadata": {
        "colab": {
          "base_uri": "https://localhost:8080/"
        },
        "id": "TyeEjzK6P1rT",
        "outputId": "ba7ee236-9cac-47be-d528-a711515e9fbe"
      },
      "outputs": [],
      "source": [
        "# Plotagem basica, porém considerando o valor de X e Y\n",
        "x = np.arange(0, 10, 0.1)\n",
        "y = np.sin(x)\n",
        "plt.plot(x, y)"
      ]
    },
    {
      "cell_type": "code",
      "execution_count": null,
      "metadata": {
        "colab": {
          "base_uri": "https://localhost:8080/"
        },
        "id": "YHze8GHtRGVa",
        "outputId": "6421cc8b-3a88-4e7c-d37f-1562410ecc39"
      },
      "outputs": [],
      "source": [
        "# Plotagem basica, porém passando parametros para formatar o gráfico\n",
        "plt.plot(x, y)\n",
        "plt.title('Gráfico do Seno de \"X\"')\n",
        "plt.legend('Valores de Y')\n",
        "plt.grid()\n",
        "#plt.spines()\n",
        "plt.xlabel('Valores de X') # X axis Label\n",
        "plt.ylabel('Valores de Y') # Y axis Label"
      ]
    },
    {
      "cell_type": "markdown",
      "metadata": {
        "id": "NuvrWUvQhwhp"
      },
      "source": [
        "### AULA 2 -  PLOTAGEM BASICA E SUBPLOT"
      ]
    },
    {
      "cell_type": "markdown",
      "metadata": {
        "id": "gvX8apBih_A1"
      },
      "source": [
        "#### CONFIGURAÇÃO DE AMBIENTE"
      ]
    },
    {
      "cell_type": "code",
      "execution_count": null,
      "metadata": {
        "id": "Aq9_Lojwh_A3"
      },
      "outputs": [],
      "source": [
        "import numpy as np\n",
        "import matplotlib.pyplot as plt \n",
        "\n",
        "# Deixando a plotagem dos graficos em um linha.\n",
        "%matplotlib inline "
      ]
    },
    {
      "cell_type": "code",
      "execution_count": null,
      "metadata": {
        "id": "kaVSwJuliwTH"
      },
      "outputs": [],
      "source": [
        "# Criando os dados para a plotagem do grafico\n",
        "x = np.arange(1, 11, 0.01)\n",
        "y1 = np.sin(x)\n",
        "y2 = np.cos(x)"
      ]
    },
    {
      "cell_type": "code",
      "execution_count": null,
      "metadata": {
        "id": "rXEK1SxNx1cZ"
      },
      "outputs": [],
      "source": [
        "df = pd.read_csv('https://raw.githubusercontent.com/pcsanwald/kaggle-titanic/master/train.csv')\n",
        "df"
      ]
    },
    {
      "cell_type": "markdown",
      "metadata": {
        "id": "Z2xwSJV0iFQ3"
      },
      "source": [
        "#### MULTIPLOTAGEM DE AXIES"
      ]
    },
    {
      "cell_type": "code",
      "execution_count": null,
      "metadata": {
        "colab": {
          "base_uri": "https://localhost:8080/",
          "height": 300
        },
        "id": "KUwRP-IMh34V",
        "outputId": "2cdf6fcb-cac5-467c-8118-8136ccffb72c"
      },
      "outputs": [],
      "source": [
        "# Forma Simples de plotar mais de um axie\n",
        "plt.plot(x, y1, x, y2)"
      ]
    },
    {
      "cell_type": "code",
      "execution_count": null,
      "metadata": {
        "colab": {
          "base_uri": "https://localhost:8080/",
          "height": 456
        },
        "id": "M_W153JKj0NX",
        "outputId": "25d80b73-a16a-433f-bcce-53f28854bdc4"
      },
      "outputs": [],
      "source": [
        "# Forma \"hold on\" de plotar mais de axie em um grafico\n",
        "# Usando o parametro \"label\" para dar nome a legenda o plot especifico\n",
        "plt.plot(x, y1, label=\"Seno (X)\") \n",
        "plt.plot(x, y2, label=\"Cosseno (X)\")\n",
        "\n",
        "# Usando a função legend para criar a legenda dentro do plot\n",
        "plt.legend()\n",
        "\n",
        "# Alterando o valor do \"Ticks\" do eixo X\n",
        "plt.xticks(np.arange(1, 11, 1))"
      ]
    },
    {
      "cell_type": "markdown",
      "metadata": {
        "id": "HxV3pdfKm5-w"
      },
      "source": [
        "#### SUBPLOT - SIMPLES"
      ]
    },
    {
      "cell_type": "code",
      "execution_count": null,
      "metadata": {
        "colab": {
          "base_uri": "https://localhost:8080/",
          "height": 873
        },
        "id": "ClBSjC4Bm_Er",
        "outputId": "9a488fd0-2b1c-48ef-dcc6-c164bb0eedf7"
      },
      "outputs": [],
      "source": [
        "# Forma simples de Plotar mais de um axies no mesmo figure\n",
        "# Personalizando a Figure\n",
        "plt.figure(figsize=(12, 12))\n",
        "\n",
        "# Primeiro grafico da Figure\n",
        "plt.subplot(2, 1, 1)\n",
        "plt.plot(x, y1, label=\"Seno (X)\")\n",
        "plt.legend(loc='upper right')\n",
        "\n",
        "# Segundo grafico da Figure\n",
        "plt.subplot(2, 1, 2)\n",
        "plt.plot(x, y2, label=\"Cosseno (X)\")\n",
        "plt.legend(loc='upper right')\n",
        "\n",
        "plt.tight_layout()"
      ]
    },
    {
      "cell_type": "code",
      "execution_count": null,
      "metadata": {
        "id": "86xfEvMZvAeK"
      },
      "outputs": [],
      "source": []
    }
  ],
  "metadata": {
    "colab": {
      "authorship_tag": "ABX9TyPJzOBAV18tSMpSmfqIgP+s",
      "collapsed_sections": [
        "2k_UTbFryrlz",
        "fh7QrDsoylkW",
        "2lOugg6D3y1_",
        "5vQp43EnA6V7",
        "nm1PlclZDyHd",
        "NynVOzxQHkOt",
        "GL81W8hLWkg2"
      ],
      "include_colab_link": true,
      "mount_file_id": "1y6DRpEtJyM3lr6nng7tCfbRh3yaz_2L-",
      "provenance": []
    },
    "kernelspec": {
      "display_name": "Python 3",
      "name": "python3"
    },
    "language_info": {
      "codemirror_mode": {
        "name": "ipython",
        "version": 3
      },
      "file_extension": ".py",
      "mimetype": "text/x-python",
      "name": "python",
      "nbconvert_exporter": "python",
      "pygments_lexer": "ipython3",
      "version": "3.10.13"
    }
  },
  "nbformat": 4,
  "nbformat_minor": 0
}
