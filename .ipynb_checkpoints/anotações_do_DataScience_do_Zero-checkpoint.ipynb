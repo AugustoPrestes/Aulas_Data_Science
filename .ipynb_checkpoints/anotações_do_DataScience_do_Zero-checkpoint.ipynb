{
 "cells": [
  {
   "cell_type": "markdown",
   "metadata": {
    "colab_type": "text",
    "id": "view-in-github"
   },
   "source": [
    "<a href=\"https://colab.research.google.com/github/AugustoPrestes/Aulas_Data_Science/blob/main/anota%C3%A7%C3%B5es_do_DataScience_do_Zero.ipynb\" target=\"_parent\"><img src=\"https://colab.research.google.com/assets/colab-badge.svg\" alt=\"Open In Colab\"/></a>"
   ]
  },
  {
   "cell_type": "markdown",
   "metadata": {
    "id": "OxwDurvvfyxn"
   },
   "source": [
    "# Data Science do Zero \n",
    "### Anotações"
   ]
  },
  {
   "cell_type": "markdown",
   "metadata": {
    "id": "-sopLroElEaD"
   },
   "source": [
    "### Encontrando Conectores-Chave"
   ]
  },
  {
   "cell_type": "code",
   "execution_count": null,
   "metadata": {
    "colab": {
     "base_uri": "https://localhost:8080/"
    },
    "id": "RHU4WtCmfxvM",
    "outputId": "146eec0f-4732-4ce3-ad44-c06e86d1f9a4"
   },
   "outputs": [
    {
     "name": "stdout",
     "output_type": "stream",
     "text": [
      "ok\n"
     ]
    }
   ],
   "source": [
    "#@title Texto de título padrão\n",
    "# Recebendo os dados dos usuarios\n",
    "users = [\n",
    "{ \"id\": 0, \"name\": \"Hero\"},\n",
    "{ \"id\": 1, \"name\": \"Dunn\"},\n",
    "{ \"id\": 2, \"name\": \"Sue\"},\n",
    "{ \"id\": 3, \"name\": \"Chi\"},\n",
    "{ \"id\": 4, \"name\": \"Thor\"},\n",
    "{ \"id\": 5, \"name\": \"Clive\"},\n",
    "{ \"id\": 6, \"name\": \"Hicks\"},\n",
    "{ \"id\": 7, \"name\": \"Devin\"},\n",
    "{ \"id\": 8, \"name\": \"Kate\"},\n",
    "{ \"id\": 9, \"name\": \"Klein\"}]\n",
    "\n",
    "# Recebendo as conexões de amizades\n",
    "friendship_pairs = [(0, 1), (0, 2), (1, 2), (1, 3), (2, 3), (3, 4),(4, 5), (5, 6), (5, 7), (6, 8), (7, 8), (8, 9)]\n",
    "\n",
    "# Recebendo os interesses dos usuarios\n",
    "interests = [\n",
    "(0, \"Hadoop\"), (0, \"Big Data\"), (0, \"HBase\"), (0, \"Java\"), \n",
    "(0, \"Spark\"), (0, \"Storm\"), (0, \"Cassandra\"), (1, \"NoSQL\"), \n",
    "(1, \"MongoDB\"), (1, \"Cassandra\"), (1, \"HBase\"), (1, \"Postgres\"), \n",
    "(2, \"Python\"), (2, \"scikit-learn\"), (2, \"scipy\"), (2, \"numpy\"), \n",
    "(2, \"statsmodels\"), (2, \"pandas\"), (3, \"R\"), (3, \"Python\"),\n",
    "(3, \"statistics\"), (3, \"regression\"), (3, \"probability\"), (4, \"machine learning\"), \n",
    "(4, \"regression\"), (4, \"decision trees\"), (4, \"libsvm\"), (5, \"Python\"), \n",
    "(5, \"R\"), (5, \"Java\"), (5, \"C++\"), (5, \"Haskell\"), \n",
    "(5, \"programming languages\"), (6, \"statistics\"), (6, \"probability\"), (6, \"mathematics\"), \n",
    "(6, \"theory\"), (7, \"machine learning\"), (7, \"scikit-learn\"), (7, \"Mahout\"),\n",
    "(7, \"neural networks\"), (8, \"neural networks\"), (8, \"deep learning\"), (8, \"Big Data\"), \n",
    "(8, \"artificial intelligence\"), (9, \"Hadoop\"), (9, \"Java\"), (9, \"MapReduce\"), (9, \"Big Data\")\n",
    "]\n",
    "\n",
    "# Recebendo a informacao de salario e de experiencia dos usuarios de forma anonima\n",
    "\n",
    "salaries_and_tenures = [(83000, 8.7), (88000, 8.1), (48000, 0.7), (76000, 6), (69000, 6.5), (76000, 7.5), (60000, 2.5), (83000, 10), (48000, 1.9), (63000, 4.2)]\n",
    "\n",
    "print(\"ok\")"
   ]
  },
  {
   "cell_type": "code",
   "execution_count": null,
   "metadata": {
    "colab": {
     "base_uri": "https://localhost:8080/"
    },
    "id": "pOb5ozlxljJ3",
    "outputId": "9aa73cb2-26f0-477d-ac12-86b2c5de167e"
   },
   "outputs": [
    {
     "name": "stdout",
     "output_type": "stream",
     "text": [
      "{0: [], 1: [], 2: [], 3: [], 4: [], 5: [], 6: [], 7: [], 8: [], 9: []}\n"
     ]
    }
   ],
   "source": [
    "# Criando um dict com dict compreenshion\n",
    "friendships = {user['id']: [] for user in users}\n",
    "\n",
    "print(friendships)"
   ]
  },
  {
   "cell_type": "code",
   "execution_count": null,
   "metadata": {
    "colab": {
     "base_uri": "https://localhost:8080/"
    },
    "id": "S60TyBGXnp6P",
    "outputId": "9a373f18-906f-4a8b-c38e-f61659abbd14"
   },
   "outputs": [
    {
     "name": "stdout",
     "output_type": "stream",
     "text": [
      "{0: [1, 2], 1: [0, 2, 3], 2: [0, 1, 3], 3: [1, 2, 4], 4: [3, 5], 5: [4, 6, 7], 6: [5, 8], 7: [5, 8], 8: [6, 7, 9], 9: [8]}\n"
     ]
    }
   ],
   "source": [
    "# Identificando os pares dos amigos e unindo conforme a juncao da lista friendship_pairs\n",
    "for i, j in friendship_pairs:\n",
    "    friendships[i].append(j) # Adicionando o j como amigo do i\n",
    "    friendships[j].append(i) # Adicionando o i como amigo do j\n",
    "\n",
    "print(friendships)"
   ]
  },
  {
   "cell_type": "code",
   "execution_count": null,
   "metadata": {
    "colab": {
     "base_uri": "https://localhost:8080/"
    },
    "id": "TIj1WgCxoliP",
    "outputId": "4b6c8922-db70-48b2-b104-5d0ee46feab1"
   },
   "outputs": [
    {
     "data": {
      "text/plain": [
       "2.4"
      ]
     },
     "execution_count": 6,
     "metadata": {},
     "output_type": "execute_result"
    }
   ],
   "source": [
    "# PRIMEIRA PERGUNTA 1- QUAL O NUMERO MEDIO DE AMIGOS\n",
    "\n",
    "# Primeiro precisamos saber o numero total de conexoes\n",
    "def number_friends(user):\n",
    "    \"\"\" Verificando quantos frinds cada user possui \"\"\"\n",
    "    user_id = user['id']\n",
    "    friend_ids = friendships[user_id]\n",
    "    return len(friend_ids)\n",
    "\n",
    "# Somando todas as conexoes \n",
    "total_connections = sum(number_friends(user) for user in users) # total_connection == 24\n",
    "\n",
    "# Agora para saber a media de conexoes vamos dividir pelo numero de users \n",
    "num_users = len(users)\n",
    "avg_connections = total_connections / num_users\n",
    "\n",
    "avg_connections"
   ]
  },
  {
   "cell_type": "code",
   "execution_count": null,
   "metadata": {
    "colab": {
     "base_uri": "https://localhost:8080/"
    },
    "id": "u8Ej6dLhrUeJ",
    "outputId": "cc11777b-24e9-4eaf-a0a9-0076c69791ea"
   },
   "outputs": [
    {
     "data": {
      "text/plain": [
       "[(1, 3),\n",
       " (2, 3),\n",
       " (3, 3),\n",
       " (5, 3),\n",
       " (8, 3),\n",
       " (0, 2),\n",
       " (4, 2),\n",
       " (6, 2),\n",
       " (7, 2),\n",
       " (9, 1)]"
      ]
     },
     "execution_count": 7,
     "metadata": {},
     "output_type": "execute_result"
    }
   ],
   "source": [
    "#   SEGUNDA PERGUNTA 2- COMO ORDERNAR AS PESSOAS MAIS CONECTADAS\n",
    "\n",
    "# Passando a quantidade de conexoes de cada user\n",
    "num_friends_by_id = [(user['id'], number_friends(user)) for user in users]\n",
    "\n",
    "# Classificando a lista do maior para o menor, utilizando a funcao lambda\n",
    "num_friends_by_id.sort(key=lambda id_and_friends: id_and_friends[1], reverse=True)\n",
    "\n",
    "num_friends_by_id # Cada par da dupla e (user_id, num_friends)"
   ]
  },
  {
   "cell_type": "code",
   "execution_count": null,
   "metadata": {
    "colab": {
     "base_uri": "https://localhost:8080/"
    },
    "id": "aZ39KLUXvXv-",
    "outputId": "aa300d67-efed-4d91-af9c-3a2482c2ce7c"
   },
   "outputs": [
    {
     "data": {
      "text/plain": [
       "[0, 2, 3, 0, 1, 3]"
      ]
     },
     "execution_count": 15,
     "metadata": {},
     "output_type": "execute_result"
    }
   ],
   "source": [
    "#   TERCEIRA PERGUNTA 3- COMO ENCOTRAR AMIGOS DE AMIGOS\n",
    "\n",
    "# Funcao para iterar os amigos e os amigos desses amigos\n",
    "def foaf_ids_bad(user):\n",
    "    \"\"\"foaf significa \"friend of friend\" ou amigo de amigo\"\"\"\n",
    "    return [foaf_id for friend_id in friendships[user[\"id\"]] for foaf_id in friendships[friend_id]]\n",
    "\n",
    "# VErificando o FOAF do user id[0]\n",
    "foaf_ids_bad(users[0])"
   ]
  },
  {
   "cell_type": "code",
   "execution_count": null,
   "metadata": {
    "colab": {
     "base_uri": "https://localhost:8080/"
    },
    "id": "hQh1UKuZyH9J",
    "outputId": "6ac10763-d988-4b65-9c4c-ff539ce065fe"
   },
   "outputs": [
    {
     "data": {
      "text/plain": [
       "Counter({3: 2})"
      ]
     },
     "execution_count": 21,
     "metadata": {},
     "output_type": "execute_result"
    }
   ],
   "source": [
    "#   QUARTA PERGUNTA 4- COMO ENCOTRAR AMIGOS DE AMIGOS SEM RETORNAR O AMIGO CONHECIDO\n",
    "\n",
    "from collections import Counter\n",
    "\n",
    "# Funcao que mostra a quantidade de amigos em comum com outro que tem amigos em comum\n",
    "def friends_of_friends(user):\n",
    "    user_id = user['id']\n",
    "    return Counter(\n",
    "        foaf_id for friend_id in friendships[user_id] # Para cada amigo meu\n",
    "        for foaf_id in friendships[friend_id] # Encontre os amigos deles\n",
    "            if foaf_id != user_id # Que nao seja eu\n",
    "            and foaf_id not in friendships[user_id] # E que nao sejam meus amigos\n",
    "    )\n",
    "\n",
    "friends_of_friends(users[0])"
   ]
  },
  {
   "cell_type": "code",
   "execution_count": null,
   "metadata": {
    "colab": {
     "base_uri": "https://localhost:8080/"
    },
    "id": "WrJJXUlvbx6G",
    "outputId": "66c4c356-2b5a-40a3-dda0-a684a72d2f47"
   },
   "outputs": [
    {
     "data": {
      "text/plain": [
       "[]"
      ]
     },
     "execution_count": 31,
     "metadata": {},
     "output_type": "execute_result"
    }
   ],
   "source": [
    "#   QUINTA PERGUNTA 5- COMO CONECTAR AS PESSOAS PELOS INTERESSES EM COMUM\n",
    "\n",
    "# Encontrando usuarios com os interesses parecido, por pesquisa individual\n",
    "def data_scientists_who_like(target_interest):\n",
    "    \"\"\" Encontrando os ids dos usuario com o mesmo interesse \"\"\"\n",
    "    return [user_id\n",
    "            for user_id, user_interest in interests\n",
    "                if user_interest == target_interest]\n",
    "\n",
    "\n",
    "data_scientists_who_like(users[9])\n"
   ]
  },
  {
   "cell_type": "code",
   "execution_count": null,
   "metadata": {
    "id": "fnYoYIuqeVfu"
   },
   "outputs": [],
   "source": [
    "# Encontrando usuarios com o mesmo interesse e salvando em uma dict\n",
    "\n",
    "# Construindo um indice de interesses para os usuarios\n",
    "from collections import defaultdict\n",
    "\n",
    "# As chaves serao interesses e os valores uma lista de user_id com o interesse em comum\n",
    "user_ids_by_interest = defaultdict(list)\n",
    "\n",
    "for user_id, interest in interests:\n",
    "    user_ids_by_interest[interest].append(user_id)\n",
    "\n",
    "user_ids_by_interest"
   ]
  },
  {
   "cell_type": "code",
   "execution_count": null,
   "metadata": {
    "id": "QnuJeEHzfMSn"
   },
   "outputs": [],
   "source": [
    "# As chaves serao os user_ids e os valores uma lista de interesses do usuario\n",
    "interests_by_user_id = defaultdict(list)\n",
    "\n",
    "for user_id, interest in interests:\n",
    "    interests_by_user_id[user_id].append(interest)\n",
    "\n",
    "interests_by_user_id"
   ]
  },
  {
   "cell_type": "code",
   "execution_count": null,
   "metadata": {
    "colab": {
     "base_uri": "https://localhost:8080/"
    },
    "id": "U6gNxdA-gs3A",
    "outputId": "1cbf064c-6320-4110-ae4b-d57039eb5fad"
   },
   "outputs": [
    {
     "data": {
      "text/plain": [
       "Counter({9: 3, 8: 1, 1: 2, 5: 1})"
      ]
     },
     "execution_count": 47,
     "metadata": {},
     "output_type": "execute_result"
    }
   ],
   "source": [
    "# Iterando os interesses e contando cada aparicao dos usuarios, com o mesmo interesse\n",
    "def most_commu_interests_with(user):\n",
    "    return Counter(\n",
    "    interested_user_id\n",
    "    for interest in interests_by_user_id[user['id']]\n",
    "    for interested_user_id in user_ids_by_interest[interest]\n",
    "    if interested_user_id != user['id']\n",
    "    )\n",
    "\n",
    "most_commu_interests_with(users[0])"
   ]
  },
  {
   "cell_type": "code",
   "execution_count": null,
   "metadata": {
    "colab": {
     "base_uri": "https://localhost:8080/"
    },
    "id": "TN8XqHJkiwD3",
    "outputId": "3a8ea32b-bf7d-4ac3-90f3-e8cfc5fa8e53"
   },
   "outputs": [
    {
     "data": {
      "text/plain": [
       "{8.7: 83000.0,\n",
       " 8.1: 88000.0,\n",
       " 0.7: 48000.0,\n",
       " 6: 76000.0,\n",
       " 6.5: 69000.0,\n",
       " 7.5: 76000.0,\n",
       " 2.5: 60000.0,\n",
       " 10: 83000.0,\n",
       " 1.9: 48000.0,\n",
       " 4.2: 63000.0}"
      ]
     },
     "execution_count": 54,
     "metadata": {},
     "output_type": "execute_result"
    }
   ],
   "source": [
    "# Analisando a media salarial por anos deexperiencias\n",
    "salary_by_tenure = defaultdict(list)\n",
    "\n",
    "# Construindo o dict com os anos como chave, os valores as listas de salarios por anos de experiencias\n",
    "for salary, tenure in salaries_and_tenures:\n",
    "    salary_by_tenure[tenure].append(salary)\n",
    "\n",
    "# Dict com os anos como chave, e cada valor e o salario medio associado ao tempo de experiencia\n",
    "avg_salary_by_tenure = {tenure: sum(salaries) / len(salaries) \n",
    "                        for tenure, salaries in salary_by_tenure.items()}\n",
    "\n",
    "avg_salary_by_tenure"
   ]
  },
  {
   "cell_type": "code",
   "execution_count": null,
   "metadata": {
    "colab": {
     "base_uri": "https://localhost:8080/"
    },
    "id": "GE5MwKMroVt-",
    "outputId": "7966f57b-8b4c-4d1a-da5c-e31bbdb26839"
   },
   "outputs": [
    {
     "data": {
      "text/plain": [
       "{'Mais de cinco anos': 79166.66666666667,\n",
       " 'Menos de dois anos': 48000.0,\n",
       " 'Entre dois e cinco anos': 61500.0}"
      ]
     },
     "execution_count": 55,
     "metadata": {},
     "output_type": "execute_result"
    }
   ],
   "source": [
    "# Criando categorias de experiencias\n",
    "def tenure_bucket(tenure):\n",
    "    if tenure < 2:\n",
    "        return \"Menos de dois anos\"\n",
    "    elif tenure < 5:\n",
    "        return \"Entre dois e cinco anos\"\n",
    "    else:\n",
    "        return \"Mais de cinco anos\"\n",
    "\n",
    "\n",
    "# Agrupando os salarios por categoria\n",
    "# As chaves são categoria de anos de experiência, os valores são as listas de salários associadas a categoria em questão.\n",
    "salary_by_tenure_bucket = defaultdict(list)\n",
    "for salary, tenure in salaries_and_tenures:\n",
    "    bucket = tenure_bucket(tenure)\n",
    "    salary_by_tenure_bucket[bucket].append(salary)\n",
    "\n",
    "# Calculando a media salaria de cada grupo\n",
    "# As chaves sao categorias, os valores a media salaria de cada categoria\n",
    "avg_salary_by_bucket = {tenure_bucket: sum(salaries) / len(salaries)\n",
    "                        for tenure_bucket, salaries in salary_by_tenure_bucket.items()}\n",
    "\n",
    "\n",
    "avg_salary_by_bucket"
   ]
  },
  {
   "cell_type": "code",
   "execution_count": null,
   "metadata": {
    "id": "JPHsoitS0AQL"
   },
   "outputs": [],
   "source": [
    "# Relacionando o tempo de experiencia com as contas pagas\n",
    "def predict_paid_or_unpaid(years_experience):\n",
    "    if years_experience < 3.0:\n",
    "        return \"paid\"\n",
    "    elif years_experience < 8.5:\n",
    "        return \"unpaid\"\n",
    "    else:\n",
    "        return \"paid\"\n",
    "\n",
    "\n"
   ]
  },
  {
   "cell_type": "code",
   "execution_count": null,
   "metadata": {
    "colab": {
     "base_uri": "https://localhost:8080/"
    },
    "id": "ZHSlOFSX11V4",
    "outputId": "19617b8b-43ee-46ba-a15a-795cd749e025"
   },
   "outputs": [
    {
     "name": "stdout",
     "output_type": "stream",
     "text": [
      "big 3\n",
      "data 3\n",
      "java 3\n",
      "python 3\n",
      "learning 3\n",
      "hadoop 2\n",
      "hbase 2\n",
      "cassandra 2\n",
      "scikit-learn 2\n",
      "r 2\n",
      "statistics 2\n",
      "regression 2\n",
      "probability 2\n",
      "machine 2\n",
      "neural 2\n",
      "networks 2\n"
     ]
    }
   ],
   "source": [
    "# Escrevendo os interesses em minusculo, dividindo as palavras e contando o resultado\n",
    "words_and_counts = Counter(word\n",
    "                           for user, interest in interests\n",
    "                           for word in interest.lower().split())\n",
    "\n",
    "for word, count in words_and_counts.most_common():\n",
    "    if count > 1:\n",
    "        print(word, count)\n"
   ]
  }
 ],
 "metadata": {
  "colab": {
   "authorship_tag": "ABX9TyMucWGSyFdKtpALJotSp31a",
   "collapsed_sections": [],
   "include_colab_link": true,
   "provenance": []
  },
  "kernelspec": {
   "display_name": "Python 3",
   "language": "python",
   "name": "python3"
  },
  "language_info": {
   "codemirror_mode": {
    "name": "ipython",
    "version": 3
   },
   "file_extension": ".py",
   "mimetype": "text/x-python",
   "name": "python",
   "nbconvert_exporter": "python",
   "pygments_lexer": "ipython3",
   "version": "3.7.4"
  }
 },
 "nbformat": 4,
 "nbformat_minor": 1
}
